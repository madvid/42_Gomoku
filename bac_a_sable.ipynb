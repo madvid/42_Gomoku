{
 "cells": [
  {
   "cell_type": "markdown",
   "metadata": {},
   "source": [
    "# Bac à Sable\n",
    "Expérimentation autour de différentes fonctionnalités"
   ]
  },
  {
   "cell_type": "code",
   "execution_count": 249,
   "metadata": {},
   "outputs": [],
   "source": [
    "from numpy.lib.stride_tricks import as_strided\n",
    "import numpy as np\n",
    "import time\n",
    "from scipy.signal import convolve, convolve2d"
   ]
  },
  {
   "cell_type": "markdown",
   "metadata": {},
   "source": [
    "## Détection de configuration de capture:"
   ]
  },
  {
   "cell_type": "code",
   "execution_count": 64,
   "metadata": {},
   "outputs": [],
   "source": [
    "k_diags = np.array([0.25 * np.array([[-1, 0, 0, 0],\n",
    "                                    [0, 1, 0, 0],\n",
    "                                    [0, 0, 1, 0],\n",
    "                                    [0, 0, 0, -1]]),\n",
    "                    0.25 * np.array([[0, 0, 0, -1],\n",
    "                                    [0, 0, 1, 0],\n",
    "                                    [0, 1, 0, 0],\n",
    "                                    [-1, 0, 0, 0]])])\n",
    "\n",
    "k_lines = [0.25 * np.array([[-1, 1, 1, -1]]), 0.25 * np.array([[-1],[1],[1],[-1]])]\n",
    "\n",
    "#k_free_threes = [np.ones((1,6)), np.ones((6,1)), np.identity(6), np.rot90(np.identity(6))]\n",
    "k_free_threes = [np.array([1, 2, 2, 2, 2, 1]),\n",
    "                 np.array([[1], [2], [2], [2], [2], [1]]),\n",
    "                 np.array([[1, 0, 0, 0, 0, 0],\n",
    "                           [0, 2, 0, 0, 0, 0],\n",
    "                           [0, 0, 2, 0, 0, 0],\n",
    "                           [0, 0, 0, 2, 0, 0],\n",
    "                           [0, 0, 0, 0, 2, 0],\n",
    "                           [0, 0, 0, 0, 0, 1]]),\n",
    "                 np.array([[0, 0, 0, 0, 0, 1],\n",
    "                           [0, 0, 0, 0, 2, 0],\n",
    "                           [0, 0, 0, 2, 0, 0],\n",
    "                           [0, 0, 2, 0, 0, 0],\n",
    "                           [0, 2, 0, 0, 0, 0],\n",
    "                           [1, 0, 0, 0, 0, 0]])]"
   ]
  },
  {
   "cell_type": "code",
   "execution_count": 65,
   "metadata": {},
   "outputs": [],
   "source": [
    "arr = np.random.randint(1,5, size=(10, 10))"
   ]
  },
  {
   "cell_type": "code",
   "execution_count": 66,
   "metadata": {},
   "outputs": [
    {
     "data": {
      "text/plain": [
       "array([[4, 1, 4, 1, 3, 3, 3, 2, 2, 3],\n",
       "       [3, 1, 3, 4, 4, 3, 3, 3, 2, 3],\n",
       "       [1, 2, 3, 1, 1, 4, 4, 4, 3, 1],\n",
       "       [2, 3, 2, 3, 1, 2, 3, 2, 3, 2],\n",
       "       [4, 4, 2, 4, 3, 3, 3, 3, 4, 3],\n",
       "       [3, 2, 3, 2, 1, 3, 1, 4, 4, 4],\n",
       "       [4, 1, 3, 4, 1, 3, 3, 3, 4, 3],\n",
       "       [2, 1, 3, 2, 1, 3, 2, 1, 3, 1],\n",
       "       [4, 3, 2, 1, 1, 3, 1, 2, 2, 3],\n",
       "       [2, 2, 3, 2, 3, 1, 3, 2, 2, 3]])"
      ]
     },
     "execution_count": 66,
     "metadata": {},
     "output_type": "execute_result"
    }
   ],
   "source": [
    "arr"
   ]
  },
  {
   "cell_type": "code",
   "execution_count": 67,
   "metadata": {},
   "outputs": [
    {
     "data": {
      "text/plain": [
       "array([[0., 0., 0., 0., 0., 0., 0., 0., 0., 0., 0., 0., 0., 0., 0., 0.],\n",
       "       [0., 0., 0., 0., 0., 0., 0., 0., 0., 0., 0., 0., 0., 0., 0., 0.],\n",
       "       [0., 0., 0., 0., 0., 0., 0., 0., 0., 0., 0., 0., 0., 0., 0., 0.],\n",
       "       [0., 0., 0., 4., 1., 4., 1., 3., 3., 3., 2., 2., 3., 0., 0., 0.],\n",
       "       [0., 0., 0., 3., 1., 3., 4., 4., 3., 3., 3., 2., 3., 0., 0., 0.],\n",
       "       [0., 0., 0., 1., 2., 3., 1., 1., 4., 4., 4., 3., 1., 0., 0., 0.],\n",
       "       [0., 0., 0., 2., 3., 2., 3., 1., 2., 3., 2., 3., 2., 0., 0., 0.],\n",
       "       [0., 0., 0., 4., 4., 2., 4., 3., 3., 3., 3., 4., 3., 0., 0., 0.],\n",
       "       [0., 0., 0., 3., 2., 3., 2., 1., 3., 1., 4., 4., 4., 0., 0., 0.],\n",
       "       [0., 0., 0., 4., 1., 3., 4., 1., 3., 3., 3., 4., 3., 0., 0., 0.],\n",
       "       [0., 0., 0., 2., 1., 3., 2., 1., 3., 2., 1., 3., 1., 0., 0., 0.],\n",
       "       [0., 0., 0., 4., 3., 2., 1., 1., 3., 1., 2., 2., 3., 0., 0., 0.],\n",
       "       [0., 0., 0., 2., 2., 3., 2., 3., 1., 3., 2., 2., 3., 0., 0., 0.],\n",
       "       [0., 0., 0., 0., 0., 0., 0., 0., 0., 0., 0., 0., 0., 0., 0., 0.],\n",
       "       [0., 0., 0., 0., 0., 0., 0., 0., 0., 0., 0., 0., 0., 0., 0., 0.],\n",
       "       [0., 0., 0., 0., 0., 0., 0., 0., 0., 0., 0., 0., 0., 0., 0., 0.]])"
      ]
     },
     "execution_count": 67,
     "metadata": {},
     "output_type": "execute_result"
    }
   ],
   "source": [
    "extend_arr = np.zeros((16,16))\n",
    "extend_arr[3:-3, 3:-3] = arr\n",
    "extend_arr"
   ]
  },
  {
   "cell_type": "code",
   "execution_count": 39,
   "metadata": {},
   "outputs": [],
   "source": [
    "c1 = [0,0]\n",
    "c2 = [9,0]\n",
    "c3 = [0,9]\n",
    "c4 = [9,9]\n",
    "c5 = [5,3]\n",
    "c6 = [6,8]"
   ]
  },
  {
   "cell_type": "code",
   "execution_count": 40,
   "metadata": {},
   "outputs": [],
   "source": [
    "view1 = extend_arr[c1[0]:c1[0]+3+1, c1[1]+3]\n",
    "view2 = extend_arr[c1[0]+3:c1[0]+2*3+1, c1[1]+3]\n",
    "view3 = extend_arr[c1[0]+3, c1[1]:c1[1]+3+1]\n",
    "view4 = extend_arr[c1[0]+3, c1[1]+3:c1[1]+2*3+1]"
   ]
  },
  {
   "cell_type": "code",
   "execution_count": 41,
   "metadata": {},
   "outputs": [
    {
     "name": "stdout",
     "output_type": "stream",
     "text": [
      "[0. 0. 0. 1.]\n",
      "[1. 1. 4. 4.]\n",
      "[0. 0. 0. 1.]\n",
      "[1. 3. 4. 3.]\n"
     ]
    }
   ],
   "source": [
    "print(view1) # colonne\n",
    "print(view2) # colonne\n",
    "print(view3) # ligne\n",
    "print(view4) # ligne\n"
   ]
  },
  {
   "cell_type": "code",
   "execution_count": 42,
   "metadata": {},
   "outputs": [],
   "source": [
    "conv_c  = np.multiply(view1, k_lines[0])\n",
    "conv_cc = np.multiply(view2, k_lines[0])\n",
    "conv_l  = np.multiply(view3, k_lines[0])\n",
    "conv_ll = np.multiply(view4, k_lines[0])"
   ]
  },
  {
   "cell_type": "code",
   "execution_count": 43,
   "metadata": {},
   "outputs": [
    {
     "name": "stdout",
     "output_type": "stream",
     "text": [
      "[[-0.    0.    0.   -0.25]]\n",
      "[[-0.25  0.25  1.   -1.  ]]\n",
      "[[-0.    0.    0.   -0.25]]\n",
      "[[-0.25  0.75  1.   -0.75]]\n"
     ]
    }
   ],
   "source": [
    "print(conv_c)\n",
    "print(conv_cc)\n",
    "print(conv_l)\n",
    "print(conv_ll)"
   ]
  },
  {
   "cell_type": "markdown",
   "metadata": {},
   "source": []
  },
  {
   "cell_type": "code",
   "execution_count": 44,
   "metadata": {},
   "outputs": [],
   "source": [
    "res_c = np.sum(conv_c)\n",
    "res_cc = np.sum(conv_cc)\n",
    "res_l = np.sum(conv_l)\n",
    "res_ll = np.sum(conv_ll)"
   ]
  },
  {
   "cell_type": "code",
   "execution_count": 45,
   "metadata": {},
   "outputs": [
    {
     "name": "stdout",
     "output_type": "stream",
     "text": [
      "-0.25\n",
      "0.0\n",
      "-0.25\n",
      "0.75\n"
     ]
    }
   ],
   "source": [
    "print(res_c)\n",
    "print(res_cc)\n",
    "print(res_l)\n",
    "print(res_ll)"
   ]
  },
  {
   "cell_type": "code",
   "execution_count": 46,
   "metadata": {},
   "outputs": [],
   "source": [
    "view5 = extend_arr[c1[0]:c1[0] + 3 + 1, c1[1]:c1[1]+3+1]\n",
    "view6 = extend_arr[c1[0]:c1[0] + 3 + 1, c1[1]+3:c1[1] + 2 * 3  + 1]\n",
    "view7 = extend_arr[c1[0] + 3:c1[0] + 2 * 3 + 1, c1[1]:c1[1] + 3 + 1]\n",
    "view8 = extend_arr[c1[0] + 3:c1[0] + 2 * 3 + 1, c1[1] + 3:c1[1] + 2 * 3 + 1]"
   ]
  },
  {
   "cell_type": "code",
   "execution_count": 47,
   "metadata": {},
   "outputs": [
    {
     "name": "stdout",
     "output_type": "stream",
     "text": [
      "[[0. 0. 0. 0.]\n",
      " [0. 0. 0. 0.]\n",
      " [0. 0. 0. 0.]\n",
      " [0. 0. 0. 1.]]\n",
      "[[0. 0. 0. 0.]\n",
      " [0. 0. 0. 0.]\n",
      " [0. 0. 0. 0.]\n",
      " [1. 3. 4. 3.]]\n",
      "[[0. 0. 0. 1.]\n",
      " [0. 0. 0. 1.]\n",
      " [0. 0. 0. 4.]\n",
      " [0. 0. 0. 4.]]\n",
      "[[1. 3. 4. 3.]\n",
      " [1. 4. 3. 3.]\n",
      " [4. 1. 3. 4.]\n",
      " [4. 4. 3. 4.]]\n"
     ]
    }
   ],
   "source": [
    "print(view5)\n",
    "print(view6)\n",
    "print(view7)\n",
    "print(view8)"
   ]
  },
  {
   "cell_type": "code",
   "execution_count": null,
   "metadata": {},
   "outputs": [],
   "source": [
    "np.sum(np.multiply(extend_grid[yx[0] : yx[0] + 3 + 1, yx[1] : yx[1] + 3 + 1], k_capture))\n",
    "np.sum(np.multiply(extend_grid[yx[0] : yx[0] + 3 + 1, yx[1] + 3 : yx[1] + 2 * 3  + 1], k_capture))\n",
    "np.sum(np.multiply(extend_grid[yx[0] + 3:yx[0] + 2 * 3 + 1, yx[1] : yx[1] + 3 + 1], k_capture))\n",
    "np.sum(np.multiply(extend_grid[yx[0] + 3:yx[0] + 2 * 3 + 1, yx[1] + 3 : yx[1] + 2 * 3 + 1], k_capture))"
   ]
  },
  {
   "cell_type": "code",
   "execution_count": 68,
   "metadata": {},
   "outputs": [
    {
     "name": "stdout",
     "output_type": "stream",
     "text": [
      "(4, 4)\n"
     ]
    }
   ],
   "source": [
    "sub_shape = k_diags[0].shape\n",
    "print(sub_shape)"
   ]
  },
  {
   "cell_type": "code",
   "execution_count": 70,
   "metadata": {},
   "outputs": [],
   "source": [
    "sub_arr = arr"
   ]
  },
  {
   "cell_type": "code",
   "execution_count": 72,
   "metadata": {},
   "outputs": [],
   "source": [
    "view_shape = tuple(np.subtract(sub_arr.shape, sub_shape) + 1) + sub_shape"
   ]
  },
  {
   "cell_type": "code",
   "execution_count": 73,
   "metadata": {},
   "outputs": [
    {
     "data": {
      "text/plain": [
       "array([7, 7])"
      ]
     },
     "execution_count": 73,
     "metadata": {},
     "output_type": "execute_result"
    }
   ],
   "source": [
    "np.subtract(sub_arr.shape, sub_shape) + 1"
   ]
  },
  {
   "cell_type": "code",
   "execution_count": 74,
   "metadata": {},
   "outputs": [
    {
     "data": {
      "text/plain": [
       "(7, 7, 4, 4)"
      ]
     },
     "execution_count": 74,
     "metadata": {},
     "output_type": "execute_result"
    }
   ],
   "source": [
    "view_shape"
   ]
  },
  {
   "cell_type": "code",
   "execution_count": 93,
   "metadata": {},
   "outputs": [
    {
     "data": {
      "text/plain": [
       "(80, 8, 80, 8)"
      ]
     },
     "execution_count": 93,
     "metadata": {},
     "output_type": "execute_result"
    }
   ],
   "source": [
    "sub_arr.strides * 2"
   ]
  },
  {
   "cell_type": "code",
   "execution_count": 188,
   "metadata": {},
   "outputs": [],
   "source": [
    "sub_arr = np.arange(1,122).reshape(-1,11)"
   ]
  },
  {
   "cell_type": "code",
   "execution_count": 194,
   "metadata": {},
   "outputs": [
    {
     "data": {
      "text/plain": [
       "array([[  1,   2,   3,   4,   5,   6,   7,   8,   9,  10,  11],\n",
       "       [ 12,  13,  14,  15,  16,  17,  18,  19,  20,  21,  22],\n",
       "       [ 23,  24,  25,  26,  27,  28,  29,  30,  31,  32,  33],\n",
       "       [ 34,  35,  36,  37,  38,  39,  40,  41,  42,  43,  44],\n",
       "       [ 45,  46,  47,  48,  49,  50,  51,  52,  53,  54,  55],\n",
       "       [ 56,  57,  58,  59,  60,  61,  62,  63,  64,  65,  66],\n",
       "       [ 67,  68,  69,  70,  71,  72,  73,  74,  75,  76,  77],\n",
       "       [ 78,  79,  80,  81,  82,  83,  84,  85,  86,  87,  88],\n",
       "       [ 89,  90,  91,  92,  93,  94,  95,  96,  97,  98,  99],\n",
       "       [100, 101, 102, 103, 104, 105, 106, 107, 108, 109, 110],\n",
       "       [111, 112, 113, 114, 115, 116, 117, 118, 119, 120, 121]])"
      ]
     },
     "execution_count": 194,
     "metadata": {},
     "output_type": "execute_result"
    }
   ],
   "source": [
    "sub_arr"
   ]
  },
  {
   "cell_type": "code",
   "execution_count": 233,
   "metadata": {},
   "outputs": [],
   "source": [
    "def subviews_5x5(board:np.array, axis= 0, b_diag:bool=False):\n",
    "    if board.shape > (5,5):\n",
    "        sub_views_shape = (max(board.shape) - 4, 5, 5)\n",
    "        sub_views_strides = (board.strides[axis] + b_diag * board.strides[not axis], board.strides[0], board.strides[1])\n",
    "        sub_views = as_strided(board, sub_views_shape, sub_views_strides)\n",
    "        return sub_views"
   ]
  },
  {
   "cell_type": "code",
   "execution_count": 245,
   "metadata": {},
   "outputs": [],
   "source": [
    "res = subviews_5x5(sub_arr, axis = 0, b_diag=False)"
   ]
  },
  {
   "cell_type": "code",
   "execution_count": 253,
   "metadata": {},
   "outputs": [
    {
     "data": {
      "text/plain": [
       "array([[[  1,   2,   3,   4,   5],\n",
       "        [ 12,  13,  14,  15,  16],\n",
       "        [ 23,  24,  25,  26,  27],\n",
       "        [ 34,  35,  36,  37,  38],\n",
       "        [ 45,  46,  47,  48,  49]],\n",
       "\n",
       "       [[ 12,  13,  14,  15,  16],\n",
       "        [ 23,  24,  25,  26,  27],\n",
       "        [ 34,  35,  36,  37,  38],\n",
       "        [ 45,  46,  47,  48,  49],\n",
       "        [ 56,  57,  58,  59,  60]],\n",
       "\n",
       "       [[ 23,  24,  25,  26,  27],\n",
       "        [ 34,  35,  36,  37,  38],\n",
       "        [ 45,  46,  47,  48,  49],\n",
       "        [ 56,  57,  58,  59,  60],\n",
       "        [ 67,  68,  69,  70,  71]],\n",
       "\n",
       "       [[ 34,  35,  36,  37,  38],\n",
       "        [ 45,  46,  47,  48,  49],\n",
       "        [ 56,  57,  58,  59,  60],\n",
       "        [ 67,  68,  69,  70,  71],\n",
       "        [ 78,  79,  80,  81,  82]],\n",
       "\n",
       "       [[ 45,  46,  47,  48,  49],\n",
       "        [ 56,  57,  58,  59,  60],\n",
       "        [ 67,  68,  69,  70,  71],\n",
       "        [ 78,  79,  80,  81,  82],\n",
       "        [ 89,  90,  91,  92,  93]],\n",
       "\n",
       "       [[ 56,  57,  58,  59,  60],\n",
       "        [ 67,  68,  69,  70,  71],\n",
       "        [ 78,  79,  80,  81,  82],\n",
       "        [ 89,  90,  91,  92,  93],\n",
       "        [100, 101, 102, 103, 104]],\n",
       "\n",
       "       [[ 67,  68,  69,  70,  71],\n",
       "        [ 78,  79,  80,  81,  82],\n",
       "        [ 89,  90,  91,  92,  93],\n",
       "        [100, 101, 102, 103, 104],\n",
       "        [111, 112, 113, 114, 115]]])"
      ]
     },
     "execution_count": 253,
     "metadata": {},
     "output_type": "execute_result"
    }
   ],
   "source": [
    "res"
   ]
  },
  {
   "cell_type": "code",
   "execution_count": 261,
   "metadata": {},
   "outputs": [],
   "source": [
    "k_capture_l = np.array([[[0, 0, 1, 0, 0],\n",
    "                        [0, 0, 1, 0, 0],\n",
    "                        [0, 0, 1, 0, 0],\n",
    "                        [0, 0, 1, 0, 0]]])"
   ]
  },
  {
   "cell_type": "code",
   "execution_count": 262,
   "metadata": {},
   "outputs": [
    {
     "data": {
      "text/plain": [
       "array([[[ 78],\n",
       "        [122]],\n",
       "\n",
       "       [[122],\n",
       "        [166]],\n",
       "\n",
       "       [[166],\n",
       "        [210]],\n",
       "\n",
       "       [[210],\n",
       "        [254]],\n",
       "\n",
       "       [[254],\n",
       "        [298]],\n",
       "\n",
       "       [[298],\n",
       "        [342]],\n",
       "\n",
       "       [[342],\n",
       "        [386]]])"
      ]
     },
     "execution_count": 262,
     "metadata": {},
     "output_type": "execute_result"
    }
   ],
   "source": [
    "convolve(res, k_capture_l, \"valid\")"
   ]
  },
  {
   "cell_type": "code",
   "execution_count": 216,
   "metadata": {},
   "outputs": [],
   "source": [
    "arr_view = as_strided(sub_arr, (9, 4, 4), [80,80,8])"
   ]
  },
  {
   "cell_type": "code",
   "execution_count": 217,
   "metadata": {},
   "outputs": [
    {
     "data": {
      "text/plain": [
       "(88, 8, 88, 8)"
      ]
     },
     "execution_count": 217,
     "metadata": {},
     "output_type": "execute_result"
    }
   ],
   "source": [
    "sub_arr.strides * 2"
   ]
  },
  {
   "cell_type": "code",
   "execution_count": 218,
   "metadata": {},
   "outputs": [
    {
     "data": {
      "text/plain": [
       "88"
      ]
     },
     "execution_count": 218,
     "metadata": {},
     "output_type": "execute_result"
    }
   ],
   "source": [
    "sub_arr.strides[0]"
   ]
  },
  {
   "cell_type": "code",
   "execution_count": 219,
   "metadata": {},
   "outputs": [
    {
     "data": {
      "text/plain": [
       "array([[[  1,   2,   3,   4],\n",
       "        [ 11,  12,  13,  14],\n",
       "        [ 21,  22,  23,  24],\n",
       "        [ 31,  32,  33,  34]],\n",
       "\n",
       "       [[ 11,  12,  13,  14],\n",
       "        [ 21,  22,  23,  24],\n",
       "        [ 31,  32,  33,  34],\n",
       "        [ 41,  42,  43,  44]],\n",
       "\n",
       "       [[ 21,  22,  23,  24],\n",
       "        [ 31,  32,  33,  34],\n",
       "        [ 41,  42,  43,  44],\n",
       "        [ 51,  52,  53,  54]],\n",
       "\n",
       "       [[ 31,  32,  33,  34],\n",
       "        [ 41,  42,  43,  44],\n",
       "        [ 51,  52,  53,  54],\n",
       "        [ 61,  62,  63,  64]],\n",
       "\n",
       "       [[ 41,  42,  43,  44],\n",
       "        [ 51,  52,  53,  54],\n",
       "        [ 61,  62,  63,  64],\n",
       "        [ 71,  72,  73,  74]],\n",
       "\n",
       "       [[ 51,  52,  53,  54],\n",
       "        [ 61,  62,  63,  64],\n",
       "        [ 71,  72,  73,  74],\n",
       "        [ 81,  82,  83,  84]],\n",
       "\n",
       "       [[ 61,  62,  63,  64],\n",
       "        [ 71,  72,  73,  74],\n",
       "        [ 81,  82,  83,  84],\n",
       "        [ 91,  92,  93,  94]],\n",
       "\n",
       "       [[ 71,  72,  73,  74],\n",
       "        [ 81,  82,  83,  84],\n",
       "        [ 91,  92,  93,  94],\n",
       "        [101, 102, 103, 104]],\n",
       "\n",
       "       [[ 81,  82,  83,  84],\n",
       "        [ 91,  92,  93,  94],\n",
       "        [101, 102, 103, 104],\n",
       "        [111, 112, 113, 114]]])"
      ]
     },
     "execution_count": 219,
     "metadata": {},
     "output_type": "execute_result"
    }
   ],
   "source": [
    "arr_view"
   ]
  },
  {
   "cell_type": "code",
   "execution_count": 212,
   "metadata": {},
   "outputs": [],
   "source": [
    "def strided4D(arr,arr2,s):\n",
    "    strided = np.lib.stride_tricks.as_strided\n",
    "    s0,s1 = arr.strides\n",
    "    m1,n1 = arr.shape\n",
    "    m2,n2 = arr2.shape    \n",
    "    out_shp = (1+(m1-m2)//s, m2, 1+(n1-n2)//s, n2)\n",
    "    return strided(arr, shape=out_shp, strides=(s*s0,s*s1,s0,s1))"
   ]
  },
  {
   "cell_type": "code",
   "execution_count": 51,
   "metadata": {},
   "outputs": [],
   "source": [
    "test_arr = np.arange(1,26)"
   ]
  },
  {
   "cell_type": "code",
   "execution_count": 52,
   "metadata": {},
   "outputs": [
    {
     "data": {
      "text/plain": [
       "array([[ 1,  2,  3,  4,  5],\n",
       "       [ 6,  7,  8,  9, 10],\n",
       "       [11, 12, 13, 14, 15],\n",
       "       [16, 17, 18, 19, 20],\n",
       "       [21, 22, 23, 24, 25]])"
      ]
     },
     "execution_count": 52,
     "metadata": {},
     "output_type": "execute_result"
    }
   ],
   "source": [
    "test_arr.reshape(5,5)"
   ]
  },
  {
   "cell_type": "code",
   "execution_count": 53,
   "metadata": {},
   "outputs": [],
   "source": [
    "k = np.identity(3)"
   ]
  },
  {
   "cell_type": "code",
   "execution_count": 54,
   "metadata": {},
   "outputs": [
    {
     "data": {
      "text/plain": [
       "array([[[[ 1,  2,  3],\n",
       "         [ 6,  7,  8]],\n",
       "\n",
       "        [[ 3,  4,  5],\n",
       "         [ 8,  9, 10]],\n",
       "\n",
       "        [[ 5,  6,  7],\n",
       "         [10, 11, 12]]],\n",
       "\n",
       "\n",
       "       [[[11, 12, 13],\n",
       "         [16, 17, 18]],\n",
       "\n",
       "        [[13, 14, 15],\n",
       "         [18, 19, 20]],\n",
       "\n",
       "        [[15, 16, 17],\n",
       "         [20, 21, 22]]]])"
      ]
     },
     "execution_count": 54,
     "metadata": {},
     "output_type": "execute_result"
    }
   ],
   "source": [
    "strided4D(test_arr.reshape(5, 5), k, 2)"
   ]
  },
  {
   "cell_type": "code",
   "execution_count": 55,
   "metadata": {},
   "outputs": [
    {
     "ename": "ValueError",
     "evalue": "not enough values to unpack (expected 2, got 1)",
     "output_type": "error",
     "traceback": [
      "\u001b[0;31m---------------------------------------------------------------------------\u001b[0m",
      "\u001b[0;31mValueError\u001b[0m                                Traceback (most recent call last)",
      "\u001b[0;32m/var/folders/zz/zyxvpxvq6csfxvn_n0003tb8000ykt/T/ipykernel_17719/3230845243.py\u001b[0m in \u001b[0;36m<module>\u001b[0;34m\u001b[0m\n\u001b[0;32m----> 1\u001b[0;31m \u001b[0mstrided4D\u001b[0m\u001b[0;34m(\u001b[0m\u001b[0mtest_arr\u001b[0m\u001b[0;34m,\u001b[0m \u001b[0mk\u001b[0m\u001b[0;34m,\u001b[0m \u001b[0;36m2\u001b[0m\u001b[0;34m)\u001b[0m\u001b[0;34m\u001b[0m\u001b[0;34m\u001b[0m\u001b[0m\n\u001b[0m",
      "\u001b[0;32m/var/folders/zz/zyxvpxvq6csfxvn_n0003tb8000ykt/T/ipykernel_17719/2359463616.py\u001b[0m in \u001b[0;36mstrided4D\u001b[0;34m(arr, arr2, s)\u001b[0m\n\u001b[1;32m      1\u001b[0m \u001b[0;32mdef\u001b[0m \u001b[0mstrided4D\u001b[0m\u001b[0;34m(\u001b[0m\u001b[0marr\u001b[0m\u001b[0;34m,\u001b[0m\u001b[0marr2\u001b[0m\u001b[0;34m,\u001b[0m\u001b[0ms\u001b[0m\u001b[0;34m)\u001b[0m\u001b[0;34m:\u001b[0m\u001b[0;34m\u001b[0m\u001b[0;34m\u001b[0m\u001b[0m\n\u001b[1;32m      2\u001b[0m     \u001b[0mstrided\u001b[0m \u001b[0;34m=\u001b[0m \u001b[0mnp\u001b[0m\u001b[0;34m.\u001b[0m\u001b[0mlib\u001b[0m\u001b[0;34m.\u001b[0m\u001b[0mstride_tricks\u001b[0m\u001b[0;34m.\u001b[0m\u001b[0mas_strided\u001b[0m\u001b[0;34m\u001b[0m\u001b[0;34m\u001b[0m\u001b[0m\n\u001b[0;32m----> 3\u001b[0;31m     \u001b[0ms0\u001b[0m\u001b[0;34m,\u001b[0m\u001b[0ms1\u001b[0m \u001b[0;34m=\u001b[0m \u001b[0marr\u001b[0m\u001b[0;34m.\u001b[0m\u001b[0mstrides\u001b[0m\u001b[0;34m\u001b[0m\u001b[0;34m\u001b[0m\u001b[0m\n\u001b[0m\u001b[1;32m      4\u001b[0m     \u001b[0mm1\u001b[0m\u001b[0;34m,\u001b[0m\u001b[0mn1\u001b[0m \u001b[0;34m=\u001b[0m \u001b[0marr\u001b[0m\u001b[0;34m.\u001b[0m\u001b[0mshape\u001b[0m\u001b[0;34m\u001b[0m\u001b[0;34m\u001b[0m\u001b[0m\n\u001b[1;32m      5\u001b[0m     \u001b[0mm2\u001b[0m\u001b[0;34m,\u001b[0m\u001b[0mn2\u001b[0m \u001b[0;34m=\u001b[0m \u001b[0marr2\u001b[0m\u001b[0;34m.\u001b[0m\u001b[0mshape\u001b[0m\u001b[0;34m\u001b[0m\u001b[0;34m\u001b[0m\u001b[0m\n",
      "\u001b[0;31mValueError\u001b[0m: not enough values to unpack (expected 2, got 1)"
     ]
    }
   ],
   "source": [
    "strided4D(test_arr, k, 2)"
   ]
  },
  {
   "cell_type": "code",
   "execution_count": 56,
   "metadata": {},
   "outputs": [],
   "source": [
    "def _subboard_4_Conv2D(grid, k_shape:tuple, stride:tuple) -> np.array:\n",
    "    \"\"\" Generates the sub view of the grid to be multiply with the kernel.\n",
    "    First the shape of the sub_grid array is calculated, it depends on\n",
    "    the grid shape and the kernel shape.\n",
    "    The sub_grid array shape will be (n_x, n_y, k_x, k_y) with:\n",
    "        * n_x: number of application of the kernel along row (with stride of 1)\n",
    "        * n_y: number of application of the kernel along column (with stride of 1)\n",
    "        * k_x, k_y: the shape of the kernel\n",
    "    In this way sub_grid is a numpy array of n_x/n_y rows/columns of (k_x x k_y)\n",
    "    sub view of the grid.\n",
    "    Args:\n",
    "    -----\n",
    "        k_shape ([tuple[int]]): shape of the kernel\n",
    "        stride ([tuple(int)]): put self.grid.strides * 2 (but why?)\n",
    "    \"\"\"\n",
    "    view_shape = tuple(np.subtract(grid.shape, k_shape) + 1) + k_shape\n",
    "    sub_grid = as_strided(grid, view_shape, stride * 2)\n",
    "    return sub_grid\n",
    "\n",
    "def _my_conv2D(grid, kernel:np.array) -> np.array:\n",
    "    \"\"\" Retrieves the sub_grid from the function _subboard_4_Conv2D and performs\n",
    "    the convolution (array multiplication + einstein sum along the 3rd and 4th\n",
    "    dimensions).\n",
    "    Args:\n",
    "    -----\n",
    "        * kernel ([np.array]): the kernel to use for convolution.\n",
    "    \"\"\"\n",
    "    sub_grid = _subboard_4_Conv2D(grid, k_shape=kernel.shape, stride=grid.strides)\n",
    "    res_conv = np.multiply(sub_grid, kernel)\n",
    "    convolved = np.einsum('ijkl->ij', res_conv)\n",
    "    return convolved.astype('int8')"
   ]
  },
  {
   "cell_type": "code",
   "execution_count": 57,
   "metadata": {},
   "outputs": [],
   "source": [
    "def check_board(grid):\n",
    "    \"\"\"[summary]\n",
    "    \"\"\"\n",
    "    ## Checking if white pair captured\n",
    "    # Checking the diagonal:\n",
    "    conv_diag1 = _my_conv2D(k_diags[0])\n",
    "    conv_diag2 = _my_conv2D(k_diags[1])\n",
    "    # Checking vertical and horizontal\n",
    "    conv_lin1 = _my_conv2D(k_lines[0])\n",
    "    conv_lin2 = _my_conv2D(k_lines[1])\n",
    "    \n",
    "    coord_cd1 = np.argwhere(conv_diag1 == 1)\n",
    "    coord_cd2 = np.argwhere(conv_diag2 == 1)\n",
    "    coord_cl1 = np.argwhere(conv_lin1 == 1)\n",
    "    coord_cl2 = np.argwhere(conv_lin2 == 1)\n",
    "    if coord_cd1.shape[0] != 0:\n",
    "        for coord in coord_cd1:\n",
    "            print(\"[check_board] - conv_diag1\")\n",
    "            grid[coord[0] + 1][coord[1] + 1] = 0\n",
    "            grid[coord[0] + 2][coord[1] + 2] = 0\n",
    "    if coord_cd2.shape[0] != 0:\n",
    "        for coord in coord_cd2:\n",
    "            print(\"[check_board] - conv_diag2\")\n",
    "            grid[coord[0] + 1][coord[1] + 2] = 0\n",
    "            grid[coord[0] + 2][coord[1] + 1] = 0\n",
    "    if coord_cl1.shape[0] != 0:\n",
    "        for coord in coord_cl1:\n",
    "            print(\"[check_board] - conv_lin1\")\n",
    "            grid[coord[0]][coord[1] + 1] = 0\n",
    "            grid[coord[0]][coord[1] + 2] = 0\n",
    "    if coord_cl2.shape[0] != 0:\n",
    "        for coord in coord_cl2:\n",
    "            print(\"[check_board] - conv_lin2\")\n",
    "            grid[coord[0] + 1][coord[1]] = 0\n",
    "            grid[coord[0] + 2][coord[1]] = 0\n",
    "    ## Checking if black pair captured\n",
    "    # Checking the diagonal:\n",
    "    conv_diag1 = _my_conv2D(-1 * k_diags[0])\n",
    "    conv_diag2 = _my_conv2D(-1 * k_diags[1])\n",
    "    # Checking vertical and horizontal\n",
    "    conv_lin1 = _my_conv2D(-1 * k_lines[0])\n",
    "    conv_lin2 = _my_conv2D(-1 * k_lines[1])\n",
    "    print(\"<<<== CONV_LIN1 ==>>>\")\n",
    "    print(conv_lin1)\n",
    "    print(\"<<<== CONV_LIN2 ==>>>\")\n",
    "    print(conv_lin2)\n",
    "    print(\"<<<== ========= ==>>>\")\n",
    "    coord_cd1 = np.argwhere(conv_diag1 == 1)\n",
    "    coord_cd2 = np.argwhere(conv_diag2 == 1)\n",
    "    coord_cl1 = np.argwhere(conv_lin1 == 1)\n",
    "    coord_cl2 = np.argwhere(conv_lin2 == 1)\n",
    "    if coord_cd1.shape[0] != 0:\n",
    "        for coord in coord_cd1:\n",
    "            print(\"[check_board] - conv_diag1 -1\")\n",
    "            grid[coord[0] + 1][coord[1] + 1] = 0\n",
    "            grid[coord[0] + 2][coord[1] + 2] = 0\n",
    "    if coord_cd2.shape[0] != 0:\n",
    "        for coord in coord_cd2:\n",
    "            print(\"[check_board] - conv_diag2 -1\")\n",
    "            grid[coord[0] + 1][coord[1] + 2] = 0\n",
    "            grid[coord[0] + 2][coord[1] + 1] = 0\n",
    "    if coord_cl1.shape[0] != 0:\n",
    "        for coord in coord_cl1:\n",
    "            print(\"[check_board] - conv_lin1 -1\")\n",
    "            grid[coord[0]][coord[1] + 1] = 0\n",
    "            grid[coord[0]][coord[1] + 2] = 0\n",
    "    if coord_cl2.shape[0] != 0:\n",
    "        for coord in coord_cl2:\n",
    "            print(\"[check_board] - conv_lin2 -1\")\n",
    "            grid[coord[0] + 1][coord[1]] = 0\n",
    "            grid[coord[0] + 2][coord[1]] = 0"
   ]
  },
  {
   "cell_type": "code",
   "execution_count": 58,
   "metadata": {},
   "outputs": [],
   "source": [
    "def issimplefreethree_position(yx, grid):\n",
    "    \"\"\"[summary]\n",
    "    Args:\n",
    "    yx ([type]): [description]\n",
    "    grid ([type]): [description]\n",
    "    Returns:\n",
    "    ___: [description]\n",
    "    \"\"\"\n",
    "    tmp = np.zeros((18,18))\n",
    "    tmp[yx[0] + 4, yx[1] + 4] = 1\n",
    "    tmp[4:-4, 4:-4] += grid + 1\n",
    "    r_start, r_end = yx[0], yx[0] + 8\n",
    "    c_start, c_end = yx[1], yx[1] + 8\n",
    "    \n",
    "    print(tmp)\n",
    "    # Convolution sur la ligne \n",
    "    view_l = tmp[yx[0] + 4, yx[1]:yx[1] + 9]\n",
    "    #print(\">=== view_l ===<\\n\", view_l)\n",
    "    res_l = [np.sum(np.multiply(view_l[i:i+6], k_free_threes[0])) for i in range(4)]\n",
    "    #print(\">=== res_l ===<\\n\", res_l)\n",
    "    \n",
    "    #Convolution sur la colonne:\n",
    "    view_c = tmp[yx[0]:yx[0] + 9, yx[1] + 4]\n",
    "    #print(\">=== view_c ===<\\n\", view_c)\n",
    "    res_c = [np.sum(np.multiply(view_c[i:i+6], k_free_threes[1].flatten())) for i in range(4)]\n",
    "    #print(\">=== res_c ===<\\n\", res_c)\n",
    "    \n",
    "    # Convolution sur diagonale descendante gauche-droite\n",
    "    view_d1 = [tmp[yx[0]+i:yx[0]+6+i, yx[1]+i:yx[1]+6+i] for i in range(4)]\n",
    "    #print(\">=== view_d1 ===<\\n\", np.array(view_d1))\n",
    "    res_d1 = [np.sum(np.multiply(view_d1[i], k_free_threes[2])) for i in range(4)]\n",
    "    #print(\">=== res_d1 ===<\\n\", res_d1)\n",
    "    \n",
    "    # Convolution sur diagonale montante gauche-droite\n",
    "    view_d2 = [tmp[yx[0] +3 - i:yx[0] + 9 -i, yx[1]+i:yx[1]+6+i] for i in range(4)]\n",
    "    #print(\">=== view_d2 ===<\\n\", view_d2)\n",
    "    res_d2 = [np.sum(np.multiply(view_d2[i], k_free_threes[3])) for i in range(4)]\n",
    "    #print(\">=== res_d2 ===<\\n\", res_d2)\n",
    "    res = [*res_l, *res_c, *res_d1, *res_d2]\n",
    "    if any([np.any(arr >= 16) for arr in res]):\n",
    "        count = np.count_nonzero(np.array(res) >=16)\n",
    "        return True, res, count\n",
    "    return False, res\n",
    "            "
   ]
  },
  {
   "cell_type": "code",
   "execution_count": 59,
   "metadata": {},
   "outputs": [],
   "source": [
    "grid1 = np.zeros((10,10))\n",
    "grid2 = np.zeros((10,10))\n",
    "grid3 = np.zeros((10,10))\n",
    "grid4 = np.zeros((10,10))\n",
    "grid5 = np.zeros((10,10))\n",
    "grid6 = np.zeros((10,10))\n",
    "grid7 = np.zeros((10,10))"
   ]
  },
  {
   "cell_type": "code",
   "execution_count": 60,
   "metadata": {},
   "outputs": [],
   "source": [
    "grid1[0:2,2] = 1\n",
    "\n",
    "grid2[3:5,2] = 1\n",
    "\n",
    "grid3[5,0:2] = 1\n",
    "\n",
    "grid4[6,3:5] = 1\n",
    "\n",
    "#grid5[[3,4],[3,4]] = 1\n",
    "grid5[[6, 6], [7, 8]] = 1\n",
    "\n",
    "grid6[[5, 6], [5, 6]] = 1\n",
    "\n",
    "grid7[[2, 5],[2, 5]] = 1\n"
   ]
  },
  {
   "cell_type": "code",
   "execution_count": 61,
   "metadata": {},
   "outputs": [
    {
     "data": {
      "text/plain": [
       "array([[0., 0., 0., 0., 0., 0., 0., 0., 0., 0.],\n",
       "       [0., 0., 0., 0., 0., 0., 0., 0., 0., 0.],\n",
       "       [0., 0., 1., 0., 0., 0., 0., 0., 0., 0.],\n",
       "       [0., 0., 0., 0., 0., 0., 0., 0., 0., 0.],\n",
       "       [0., 0., 0., 0., 0., 0., 0., 0., 0., 0.],\n",
       "       [0., 0., 0., 0., 0., 1., 0., 0., 0., 0.],\n",
       "       [0., 0., 0., 0., 0., 0., 0., 0., 0., 0.],\n",
       "       [0., 0., 0., 0., 0., 0., 0., 0., 0., 0.],\n",
       "       [0., 0., 0., 0., 0., 0., 0., 0., 0., 0.],\n",
       "       [0., 0., 0., 0., 0., 0., 0., 0., 0., 0.]])"
      ]
     },
     "execution_count": 61,
     "metadata": {},
     "output_type": "execute_result"
    }
   ],
   "source": [
    "grid7"
   ]
  },
  {
   "cell_type": "code",
   "execution_count": 62,
   "metadata": {},
   "outputs": [
    {
     "name": "stdout",
     "output_type": "stream",
     "text": [
      "[[0. 0. 0. 0. 0. 0. 0. 0. 0. 0. 0. 0. 0. 0. 0. 0. 0. 0.]\n",
      " [0. 0. 0. 0. 0. 0. 0. 0. 0. 0. 0. 0. 0. 0. 0. 0. 0. 0.]\n",
      " [0. 0. 0. 0. 0. 0. 0. 0. 0. 0. 0. 0. 0. 0. 0. 0. 0. 0.]\n",
      " [0. 0. 0. 0. 0. 0. 0. 0. 0. 0. 0. 0. 0. 0. 0. 0. 0. 0.]\n",
      " [0. 0. 0. 0. 1. 1. 1. 1. 1. 1. 1. 1. 1. 1. 0. 0. 0. 0.]\n",
      " [0. 0. 0. 0. 1. 1. 1. 1. 1. 1. 1. 1. 1. 1. 0. 0. 0. 0.]\n",
      " [0. 0. 0. 0. 1. 1. 2. 1. 1. 1. 1. 1. 1. 1. 0. 0. 0. 0.]\n",
      " [0. 0. 0. 0. 1. 1. 1. 2. 1. 1. 1. 1. 1. 1. 0. 0. 0. 0.]\n",
      " [0. 0. 0. 0. 1. 1. 1. 1. 1. 1. 1. 1. 1. 1. 0. 0. 0. 0.]\n",
      " [0. 0. 0. 0. 1. 1. 1. 1. 1. 2. 1. 1. 1. 1. 0. 0. 0. 0.]\n",
      " [0. 0. 0. 0. 1. 1. 1. 1. 1. 1. 1. 1. 1. 1. 0. 0. 0. 0.]\n",
      " [0. 0. 0. 0. 1. 1. 1. 1. 1. 1. 1. 1. 1. 1. 0. 0. 0. 0.]\n",
      " [0. 0. 0. 0. 1. 1. 1. 1. 1. 1. 1. 1. 1. 1. 0. 0. 0. 0.]\n",
      " [0. 0. 0. 0. 1. 1. 1. 1. 1. 1. 1. 1. 1. 1. 0. 0. 0. 0.]\n",
      " [0. 0. 0. 0. 0. 0. 0. 0. 0. 0. 0. 0. 0. 0. 0. 0. 0. 0.]\n",
      " [0. 0. 0. 0. 0. 0. 0. 0. 0. 0. 0. 0. 0. 0. 0. 0. 0. 0.]\n",
      " [0. 0. 0. 0. 0. 0. 0. 0. 0. 0. 0. 0. 0. 0. 0. 0. 0. 0.]\n",
      " [0. 0. 0. 0. 0. 0. 0. 0. 0. 0. 0. 0. 0. 0. 0. 0. 0. 0.]]\n"
     ]
    },
    {
     "data": {
      "text/plain": [
       "(True,\n",
       " [11.0,\n",
       "  12.0,\n",
       "  12.0,\n",
       "  12.0,\n",
       "  11.0,\n",
       "  12.0,\n",
       "  12.0,\n",
       "  12.0,\n",
       "  13.0,\n",
       "  15.0,\n",
       "  16.0,\n",
       "  15.0,\n",
       "  11.0,\n",
       "  12.0,\n",
       "  12.0,\n",
       "  11.0],\n",
       " 1)"
      ]
     },
     "execution_count": 62,
     "metadata": {},
     "output_type": "execute_result"
    }
   ],
   "source": [
    "issimplefreethree_position([3,3], grid7)"
   ]
  },
  {
   "cell_type": "markdown",
   "metadata": {},
   "source": [
    "## Détection des doubles free threes"
   ]
  },
  {
   "cell_type": "code",
   "execution_count": 26,
   "metadata": {},
   "outputs": [],
   "source": [
    "# kernels to check if there is a double free threes\n",
    "S = 1 # choose a number corresponding to what the stone will be multiply by\n",
    "V = 1 # choose a number corresponding to what the empty position will be multiply by\n",
    "s1_a = np.array([[V, 0, 0, 0, 0, 0, 0],\n",
    "\t\t\t\t [0, S, 0, 0, 0, 0, 0],\n",
    "\t\t\t\t [0, 0, S, 0, 0, 0, 0],\n",
    "\t\t\t\t [0, 0, V, S, S, S, V],\n",
    "\t\t\t\t [0, 0, 0, 0, V, 0, 0]], dtype='int8')\n",
    "s1_b = np.array([[0, V, 0, 0, 0],\n",
    "\t\t\t\t [0, S, 0, 0, 0],\n",
    "\t\t\t\t [0, S, 0, 0, 0],\n",
    "\t\t\t\t [V, S, S, S, V],\n",
    "\t\t\t\t [0, V, 0, 0, 0]], dtype='int8')\n",
    "s1_c = np.array([[0, 0, 0, 0, V],\n",
    "\t\t\t\t [0, 0, 0, S, 0],\n",
    "\t\t\t\t [0, 0, S, 0, 0],\n",
    "\t\t\t\t [V, S, S, S, V],\n",
    "\t\t\t\t [V, 0, 0, 0, 0]], dtype='int8')\n",
    "s1_d = np.array([[V, 0, 0, 0, 0, 0, V],\n",
    "\t\t\t\t [0, S, 0, 0, 0, S, 0],\n",
    "\t\t\t\t [0, 0, S, 0, S, 0, 0],\n",
    "\t\t\t\t [0, 0, 0, S, 0, 0, 0],\n",
    "\t\t\t\t [0, 0, V, 0, V, 0, 0]], dtype='int8')\n",
    "\n",
    "s2_a = np.array([[V, 0, 0, 0, 0, 0, 0, 0],\n",
    "\t\t\t\t [0, S, 0, 0, 0, 0, 0, 0],\n",
    "\t\t\t\t [0, 0, S, 0, 0, 0, 0, 0],\n",
    "\t\t\t\t [0, 0, 0, V, 0, 0, 0, 0],\n",
    "\t\t\t\t [0, 0, 0, V, S, S, S, V],\n",
    "\t\t\t\t [0, 0, 0, 0, 0, V, 0, 0]], dtype='int8')\n",
    "s2_b = np.array([[0, V, 0, 0, 0],\n",
    "\t\t\t\t [0, S, 0, 0, 0],\n",
    "\t\t\t\t [0, S, 0, 0, 0],\n",
    "\t\t\t\t [0, V, 0, 0, 0],\n",
    "\t\t\t\t [V, S, S, S, V],\n",
    "\t\t\t\t [0, V, 0, 0, 0]], dtype='int8')\n",
    "s2_c = np.array([[0, 0, 0, 0, 0, V],\n",
    "\t\t\t\t [0, 0, 0, 0, S, 0],\n",
    "\t\t\t\t [0, 0, 0, S, 0, 0],\n",
    "\t\t\t\t [0, 0, V, 0, 0, 0],\n",
    "\t\t\t\t [V, S, S, S, V, 0],\n",
    "\t\t\t\t [V, 0, 0, 0, 0, 0]], dtype='int8')\n",
    "s2_d = np.array([[V, 0, 0, 0, 0, 0, 0, 0],\n",
    "\t\t\t\t [0, S, 0, 0, 0, 0, 0, V],\n",
    "\t\t\t\t [0, 0, S, 0, 0, 0, S, 0],\n",
    "\t\t\t\t [0, 0, 0, V, 0, S, 0, 0],\n",
    "\t\t\t\t [0, 0, 0, 0, S, 0, 0, 0],\n",
    "\t\t\t\t [0, 0, 0, V, 0, V, 0, 0]], dtype='int8')\n",
    "\n",
    "s3_a = np.array([[V, 0, 0, 0, 0, 0, 0, 0],\n",
    "\t\t\t\t [0, S, 0, 0, 0, 0, 0, 0],\n",
    "\t\t\t\t [0, 0, V, 0, 0, 0, 0, 0],\n",
    "\t\t\t\t [0, 0, 0, S, 0, 0, 0, 0],\n",
    "\t\t\t\t [0, 0, 0, V, S, S, S, V],\n",
    "\t\t\t\t [0, 0, 0, 0, 0, V, 0, 0]], dtype='int8')\n",
    "s3_b = np.array([[0, V, 0, 0, 0],\n",
    "\t\t\t\t [0, S, 0, 0, 0],\n",
    "\t\t\t\t [0, V, 0, 0, 0],\n",
    "\t\t\t\t [0, S, 0, 0, 0],\n",
    "\t\t\t\t [V, S, S, S, V],\n",
    "\t\t\t\t [0, V, 0, 0, 0]], dtype='int8')\n",
    "s3_c = np.array([[0, 0, 0, 0, 0, V],\n",
    "\t\t\t\t [0, 0, 0, 0, S, 0],\n",
    "\t\t\t\t [0, 0, 0, V, 0, 0],\n",
    "\t\t\t\t [0, 0, S, 0, 0, 0],\n",
    "\t\t\t\t [V, S, S, S, V, 0],\n",
    "\t\t\t\t [V, 0, 0, 0, 0, 0]], dtype='int8')\n",
    "s3_d = np.array([[V, 0, 0, 0, 0, 0, 0, 0],\n",
    "\t\t\t\t [0, S, 0, 0, 0, 0, 0, V],\n",
    "\t\t\t\t [0, 0, V, 0, 0, 0, S, 0],\n",
    "\t\t\t\t [0, 0, 0, S, 0, S, 0, 0],\n",
    "\t\t\t\t [0, 0, 0, 0, S, 0, 0, 0],\n",
    "\t\t\t\t [0, 0, 0, V, 0, V, 0, 0]], dtype='int8')\n",
    "\n",
    "s4_a = np.array([[V, 0, 0, 0, 0, 0, 0, 0, 0],\n",
    "                 [0, S, 0, 0, 0, 0, 0, 0, 0],\n",
    "                 [0, 0, S, 0, 0, 0, 0, 0, 0],\n",
    "                 [0, 0, 0, V, 0, 0, 0, 0, 0],\n",
    "                 [0, 0, 0, V, S, V, S, S, V],\n",
    "                 [0, 0, 0, 0, 0, V, 0, 0, 0]], dtype='int8')\n",
    "s4_b = np.array([[0, V, 0, 0, 0, 0],\n",
    "                 [0, S, 0, 0, 0, 0],\n",
    "                 [0, S, 0, 0, 0, 0],\n",
    "                 [0, V, 0, 0, 0, 0],\n",
    "                 [V, S, V, S, S, V],\n",
    "                 [0, V, 0, 0, 0, 0]], dtype='int8')\n",
    "s4_c = np.array([[0, 0, 0, 0, 0, V],\n",
    "                 [0, 0, 0, 0, S, 0],\n",
    "                 [0, 0, 0, S, 0, 0],\n",
    "                 [0, 0, V, 0, 0, 0],\n",
    "                 [V, S, V, S, S, V],\n",
    "                 [V, 0, 0, 0, 0, 0]], dtype='int8')\n",
    "s4_d = np.array([[V, 0, 0, 0, 0, 0, 0, 0, V],\n",
    "                 [0, S, 0, 0, 0, 0, 0, S, 0],\n",
    "                 [0, 0, S, 0, 0, 0, S, 0, 0],\n",
    "                 [0, 0, 0, V, 0, V, 0, 0, 0],\n",
    "                 [0, 0, 0, 0, S, 0, 0, 0, 0],\n",
    "                 [0, 0, 0, V, 0, V, 0, 0, 0]], dtype='int8')\n",
    "\n",
    "s5_a = np.array([[V, 0, 0, 0, 0, 0, 0, 0, 0],\n",
    "                 [0, S, 0, 0, 0, 0, 0, 0, 0],\n",
    "                 [0, 0, S, 0, 0, 0, 0, 0, 0],\n",
    "                 [0, 0, 0, V, 0, 0, 0, 0, 0],\n",
    "                 [0, 0, 0, V, S, S, V, S, V],\n",
    "                 [0, 0, 0, 0, 0, V, 0, 0, 0]], dtype='int8')\n",
    "s5_b = np.array([[0, V, 0, 0, 0, 0],\n",
    "                 [0, S, 0, 0, 0, 0],\n",
    "                 [0, S, 0, 0, 0, 0],\n",
    "                 [0, V, 0, 0, 0, 0],\n",
    "                 [V, S, S, V, S, V],\n",
    "                 [0, V, 0, 0, 0, 0]], dtype='int8')\n",
    "s5_c = np.array([[0, 0, 0, 0, 0, V],\n",
    "                 [0, 0, 0, 0, S, 0],\n",
    "                 [0, 0, 0, S, 0, 0],\n",
    "                 [0, 0, V, 0, 0, 0],\n",
    "                 [V, S, S, V, S, V],\n",
    "                 [V, 0, 0, 0, 0, 0]], dtype='int8')\n",
    "s5_d = np.array([[V, 0, 0, 0, 0, 0, 0, 0, V],\n",
    "                 [0, S, 0, 0, 0, 0, 0, S, 0],\n",
    "                 [0, 0, S, 0, 0, 0, V, 0, 0],\n",
    "                 [0, 0, 0, V, 0, S, 0, 0, 0],\n",
    "                 [0, 0, 0, 0, S, 0, 0, 0, 0],\n",
    "                 [0, 0, 0, V, 0, V, 0, 0, 0]], dtype='int8')\n",
    "\n",
    "s6_a = np.array([[V, 0, 0, 0, 0, 0, 0, 0, 0],\n",
    "                 [0, S, 0, 0, 0, 0, 0, 0, 0],\n",
    "                 [0, 0, V, 0, 0, 0, 0, 0, 0],\n",
    "                 [0, 0, 0, S, 0, 0, 0, 0, 0],\n",
    "                 [0, 0, 0, V, S, S, V, S, V],\n",
    "                 [0, 0, 0, 0, 0, V, 0, 0, 0]], dtype='int8')\n",
    "s6_b = np.array([[0, V, 0, 0, 0, 0],\n",
    "                 [0, S, 0, 0, 0, 0],\n",
    "                 [0, V, 0, 0, 0, 0],\n",
    "                 [0, S, 0, 0, 0, 0],\n",
    "                 [V, S, S, V, S, V],\n",
    "                 [0, V, 0, 0, 0, 0]], dtype='int8')\n",
    "s6_c = np.array([[0, 0, 0, 0, 0, V],\n",
    "                 [0, 0, 0, 0, S, 0],\n",
    "                 [0, 0, 0, V, 0, 0],\n",
    "                 [0, 0, S, 0, 0, 0],\n",
    "                 [V, S, S, V, S, V],\n",
    "                 [V, 0, 0, 0, 0, 0]], dtype='int8')\n",
    "s6_d = np.array([[V, 0, 0, 0, 0, 0, 0, 0, V],\n",
    "                 [0, S, 0, 0, 0, 0, 0, S, 0],\n",
    "                 [0, 0, V, 0, 0, 0, V, 0, 0],\n",
    "                 [0, 0, 0, S, 0, S, 0, 0, 0],\n",
    "                 [0, 0, 0, 0, S, 0, 0, 0, 0],\n",
    "                 [0, 0, 0, V, 0, V, 0, 0, 0]], dtype='int8')\n"
   ]
  },
  {
   "cell_type": "code",
   "execution_count": 27,
   "metadata": {},
   "outputs": [],
   "source": [
    "dct_S = {'S1': {'a': s1_a, 'b': s1_b, 'c': s1_c, 'd':s1_d},\n",
    "         'S2': {'a': s2_a, 'b': s2_b, 'c': s2_c, 'd':s2_d},\n",
    "         'S3': {'a': s3_a, 'b': s3_b, 'c': s3_c, 'd':s3_d},\n",
    "         'S4': {'a': s4_a, 'b': s4_b, 'c': s4_c, 'd':s4_d},\n",
    "         'S5': {'a': s5_a, 'b': s5_b, 'c': s5_c, 'd':s5_d},\n",
    "         'S6': {'a': s6_a, 'b': s6_b, 'c': s6_c, 'd':s6_d}}"
   ]
  },
  {
   "cell_type": "code",
   "execution_count": 28,
   "metadata": {},
   "outputs": [],
   "source": [
    "def R_transformation(arr:np.array) -> list:\n",
    "    l_kernel = []\n",
    "    for k in [0, 1, 2, 3]:\n",
    "        l_kernel.append(np.rot90(arr, k))\n",
    "    return l_kernel\n",
    "\n",
    "def mR_transformation(arr:np.array) -> list:\n",
    "    l_kernel = []\n",
    "    for k in [0, 1, 2, 3]:\n",
    "        l_kernel.append(np.rot90(np.flipud(arr), k))\n",
    "    return l_kernel"
   ]
  },
  {
   "cell_type": "code",
   "execution_count": 29,
   "metadata": {},
   "outputs": [],
   "source": [
    "table_transf = {'S1': {'a': [True, True],\n",
    "\t\t\t\t\t   'b': [True, False],\n",
    "        \t\t\t   'c': [True, True],\n",
    "              \t\t   'd': [True, False]},\n",
    "                'S2': {'a': [True, True],\n",
    "\t\t\t\t\t   'b': [True, True],\n",
    "\t\t\t\t\t   'c': [True, True],\n",
    "\t\t\t\t\t   'd': [True, True]},\n",
    "                'S3': {'a': [True, True],\n",
    "\t\t\t\t\t   'b': [True, True],\n",
    "\t\t\t\t\t   'c': [True, True],\n",
    "\t\t\t\t\t   'd': [True, True]},\n",
    "                'S4': {'a': [True, True],\n",
    "\t\t\t\t\t   'b': [True, False],\n",
    "\t\t\t\t\t   'c': [True, True],\n",
    "\t\t\t\t\t   'd': [True, False]},\n",
    "                'S5': {'a': [True, True],\n",
    "\t\t\t\t\t   'b': [True, True],\n",
    "\t\t\t\t\t   'c': [True, True],\n",
    "\t\t\t\t\t   'd': [True, True]},\n",
    "                'S6': {'a': [True, True],\n",
    "\t\t\t\t\t   'b': [True, False],\n",
    "\t\t\t\t\t   'c': [True, True],\n",
    "\t\t\t\t\t   'd': [True, False]}}"
   ]
  },
  {
   "cell_type": "code",
   "execution_count": 30,
   "metadata": {},
   "outputs": [],
   "source": [
    "full_kernels = []\n",
    "for first_k in table_transf.keys():\n",
    "    for second_k in table_transf[first_k].keys():\n",
    "        sym1, sym2 = table_transf[first_k][second_k]\n",
    "        if sym1:\n",
    "            [full_kernels.append(transf) for transf in R_transformation(dct_S[first_k][second_k])]\n",
    "        if sym2:\n",
    "            [full_kernels.append(transf) for transf in mR_transformation(dct_S[first_k][second_k])]"
   ]
  },
  {
   "cell_type": "code",
   "execution_count": 13,
   "metadata": {},
   "outputs": [],
   "source": [
    "def _subboard_4_Conv2D(grid, k_shape:tuple, stride:tuple) -> np.array:\n",
    "    \"\"\" Generates the sub view of the grid to be multiply with the kernel.\n",
    "    First the shape of the sub_grid array is calculated, it depends on\n",
    "    the grid shape and the kernel shape.\n",
    "    The sub_grid array shape will be (n_x, n_y, k_x, k_y) with:\n",
    "        * n_x: number of application of the kernel along row (with stride of 1)\n",
    "        * n_y: number of application of the kernel along column (with stride of 1)\n",
    "        * k_x, k_y: the shape of the kernel\n",
    "    In this way sub_grid is a numpy array of n_x/n_y rows/columns of (k_x x k_y)\n",
    "    sub view of the grid.\n",
    "    Args:\n",
    "    -----\n",
    "        k_shape ([tuple[int]]): shape of the kernel\n",
    "        stride ([tuple(int)]): put self.grid.strides * 2 (but why?)\n",
    "    \"\"\"\n",
    "    view_shape = tuple(np.subtract(grid.shape, k_shape) + 1) + k_shape\n",
    "    sub_grid = as_strided(grid, view_shape, stride * 2)\n",
    "    return sub_grid\n",
    "\n",
    "def _my_conv2D(grid, kernel:np.array) -> np.array:\n",
    "    \"\"\" Retrieves the sub_grid from the function _subboard_4_Conv2D and performs\n",
    "    the convolution (array multiplication + einstein sum along the 3rd and 4th\n",
    "    dimensions).\n",
    "    Args:\n",
    "    -----\n",
    "        * kernel ([np.array]): the kernel to use for convolution.\n",
    "    \"\"\"\n",
    "    sub_grid = _subboard_4_Conv2D(grid, k_shape=kernel.shape, stride=grid.strides)\n",
    "    res_conv = np.multiply(sub_grid, kernel)\n",
    "    convolved = np.einsum('ijkl->ij', res_conv)\n",
    "    return convolved.astype('int8')"
   ]
  },
  {
   "cell_type": "code",
   "execution_count": 76,
   "metadata": {},
   "outputs": [],
   "source": [
    "v_my_conv2D = np.vectorize(_my_conv2D, signature='(m,n),(p,q)->()')"
   ]
  },
  {
   "cell_type": "code",
   "execution_count": null,
   "metadata": {},
   "outputs": [],
   "source": [
    "v_my_conv2D(grid, full_kernels)"
   ]
  },
  {
   "cell_type": "code",
   "execution_count": 74,
   "metadata": {},
   "outputs": [],
   "source": [
    "grid = np.zeros((19,19), dtype = 'int8')\n",
    "grid[[3, 4, 6, 6, 6],[3, 4, 6, 7, 8]] = 1"
   ]
  },
  {
   "cell_type": "code",
   "execution_count": 64,
   "metadata": {},
   "outputs": [],
   "source": [
    "res = _my_conv2D(grid, full_kernels[0])"
   ]
  },
  {
   "cell_type": "code",
   "execution_count": 66,
   "metadata": {},
   "outputs": [
    {
     "name": "stdout",
     "output_type": "stream",
     "text": [
      "(19, 19)\n",
      "(5, 7)\n",
      "(15, 13)\n"
     ]
    }
   ],
   "source": [
    "print(grid.shape)\n",
    "print(full_kernels[0].shape)\n",
    "print(res.shape)"
   ]
  },
  {
   "cell_type": "code",
   "execution_count": 34,
   "metadata": {},
   "outputs": [
    {
     "name": "stdout",
     "output_type": "stream",
     "text": [
      "0.01781296730041504\n"
     ]
    }
   ],
   "source": [
    "res = []\n",
    "start = time.time()\n",
    "for kernel in full_kernels:\n",
    "    res.append(_my_conv2D(grid[], kernel))\n",
    "end = time.time()\n",
    "print(end-start)"
   ]
  },
  {
   "cell_type": "code",
   "execution_count": 7,
   "metadata": {},
   "outputs": [],
   "source": [
    "BLACK = 1\n",
    "WHITE = -1\n",
    "\n",
    "k_freethree = np.array([1, 2, 2, 2, 2, 1])\n",
    "\n",
    "def get_line_idx(yx:np.array):\n",
    "    return (np.ones((1,9)) * yx[0]).astype('int8'), (np.arange(-4, 5) + yx[1]).astype('int8')\n",
    "\n",
    "\n",
    "def get_col_idx(yx:np.array):\n",
    "    return (np.arange(-4, 5) + yx[0]).astype('int8'), (np.ones((1,9)) * yx[1]).astype('int8')\n",
    "\n",
    "\n",
    "def get_diag1_idx(yx:np.array):\n",
    "    return (np.arange(-4, 5) + yx[0]).astype('int8'), (np.arange(-4, 5) + yx[1]).astype('int8')\n",
    "\n",
    "\n",
    "def get_diag2_idx(yx:np.array):\n",
    "    return (np.arange(4, -5, -1) + yx[0]).astype('int8'), (np.arange(-4, 5) + yx[1]).astype('int8')\n",
    "\n",
    "def isdoublefreethree_position(yx:np.array, grid:np.array, color:int) -> bool:\n",
    "        \"\"\"[summary]\n",
    "        Args:\n",
    "            yx ([type]): [description]\n",
    "            grid ([type]): [description]\n",
    "        Returns:\n",
    "            bool: [description]\n",
    "        \"\"\"\n",
    "        pad_width = 5\n",
    "        c = color\n",
    "        extend_grid = np.pad(grid + c, pad_width, \"constant\", constant_values = (0))\n",
    "        extend_grid[yx[0] + pad_width, yx[1] + pad_width] = 2 * c\n",
    "        print(extend_grid)\n",
    "        res = []\n",
    "        res.append(np.convolve(extend_grid[get_line_idx(yx + pad_width)].reshape(-1,), c * k_freethree, \"valid\"))\n",
    "        res.append(np.convolve(extend_grid[get_col_idx(yx + pad_width)].reshape(-1,), c * k_freethree, \"valid\"))\n",
    "        res.append(np.convolve(extend_grid[get_diag1_idx(yx + pad_width)], c * k_freethree, \"valid\"))\n",
    "        res.append(np.convolve(extend_grid[get_diag2_idx(yx + pad_width)], c * k_freethree, \"valid\"))\n",
    "        nb_free_three = 0\n",
    "        for r_conv in res:\n",
    "            if (r_conv >= 16).any():\n",
    "                nb_free_three += 1\n",
    "        if nb_free_three > 1:\n",
    "            return True\n",
    "        return False"
   ]
  },
  {
   "cell_type": "code",
   "execution_count": 8,
   "metadata": {},
   "outputs": [
    {
     "data": {
      "text/plain": [
       "array([[0., 0., 0., 0., 0., 0., 0., 0., 0., 0.],\n",
       "       [0., 0., 0., 0., 0., 0., 0., 0., 0., 0.],\n",
       "       [0., 0., 1., 0., 0., 0., 0., 0., 0., 0.],\n",
       "       [0., 0., 0., 1., 0., 0., 0., 0., 0., 0.],\n",
       "       [0., 0., 0., 0., 0., 0., 0., 0., 0., 0.],\n",
       "       [0., 0., 0., 0., 0., 0., 1., 1., 0., 0.],\n",
       "       [0., 0., 0., 0., 0., 0., 0., 0., 0., 0.],\n",
       "       [0., 0., 0., 0., 0., 0., 0., 0., 0., 0.],\n",
       "       [0., 0., 0., 0., 0., 0., 0., 0., 0., 0.],\n",
       "       [0., 0., 0., 0., 0., 0., 0., 0., 0., 0.]])"
      ]
     },
     "execution_count": 8,
     "metadata": {},
     "output_type": "execute_result"
    }
   ],
   "source": [
    "grid8 = np.zeros((10,10))\n",
    "grid8[[2, 3, 5, 5],[2, 3, 6, 7]] = 1\n",
    "grid8"
   ]
  },
  {
   "cell_type": "code",
   "execution_count": 10,
   "metadata": {},
   "outputs": [
    {
     "name": "stdout",
     "output_type": "stream",
     "text": [
      "[[0. 0. 0. 0. 0. 0. 0. 0. 0. 0. 0. 0. 0. 0. 0. 0. 0. 0. 0. 0.]\n",
      " [0. 0. 0. 0. 0. 0. 0. 0. 0. 0. 0. 0. 0. 0. 0. 0. 0. 0. 0. 0.]\n",
      " [0. 0. 0. 0. 0. 0. 0. 0. 0. 0. 0. 0. 0. 0. 0. 0. 0. 0. 0. 0.]\n",
      " [0. 0. 0. 0. 0. 0. 0. 0. 0. 0. 0. 0. 0. 0. 0. 0. 0. 0. 0. 0.]\n",
      " [0. 0. 0. 0. 0. 0. 0. 0. 0. 0. 0. 0. 0. 0. 0. 0. 0. 0. 0. 0.]\n",
      " [0. 0. 0. 0. 0. 1. 1. 1. 1. 1. 1. 1. 1. 1. 1. 0. 0. 0. 0. 0.]\n",
      " [0. 0. 0. 0. 0. 1. 1. 1. 1. 1. 1. 1. 1. 1. 1. 0. 0. 0. 0. 0.]\n",
      " [0. 0. 0. 0. 0. 1. 1. 2. 1. 1. 1. 1. 1. 1. 1. 0. 0. 0. 0. 0.]\n",
      " [0. 0. 0. 0. 0. 1. 1. 1. 2. 1. 1. 1. 1. 1. 1. 0. 0. 0. 0. 0.]\n",
      " [0. 0. 0. 0. 0. 1. 1. 1. 1. 1. 1. 1. 1. 1. 1. 0. 0. 0. 0. 0.]\n",
      " [0. 0. 0. 0. 0. 1. 1. 1. 1. 1. 2. 2. 2. 1. 1. 0. 0. 0. 0. 0.]\n",
      " [0. 0. 0. 0. 0. 1. 1. 1. 1. 1. 1. 1. 1. 1. 1. 0. 0. 0. 0. 0.]\n",
      " [0. 0. 0. 0. 0. 1. 1. 1. 1. 1. 1. 1. 1. 1. 1. 0. 0. 0. 0. 0.]\n",
      " [0. 0. 0. 0. 0. 1. 1. 1. 1. 1. 1. 1. 1. 1. 1. 0. 0. 0. 0. 0.]\n",
      " [0. 0. 0. 0. 0. 1. 1. 1. 1. 1. 1. 1. 1. 1. 1. 0. 0. 0. 0. 0.]\n",
      " [0. 0. 0. 0. 0. 0. 0. 0. 0. 0. 0. 0. 0. 0. 0. 0. 0. 0. 0. 0.]\n",
      " [0. 0. 0. 0. 0. 0. 0. 0. 0. 0. 0. 0. 0. 0. 0. 0. 0. 0. 0. 0.]\n",
      " [0. 0. 0. 0. 0. 0. 0. 0. 0. 0. 0. 0. 0. 0. 0. 0. 0. 0. 0. 0.]\n",
      " [0. 0. 0. 0. 0. 0. 0. 0. 0. 0. 0. 0. 0. 0. 0. 0. 0. 0. 0. 0.]\n",
      " [0. 0. 0. 0. 0. 0. 0. 0. 0. 0. 0. 0. 0. 0. 0. 0. 0. 0. 0. 0.]]\n"
     ]
    },
    {
     "data": {
      "text/plain": [
       "True"
      ]
     },
     "execution_count": 10,
     "metadata": {},
     "output_type": "execute_result"
    }
   ],
   "source": [
    "stone = 1\n",
    "yx = np.array([5, 5])\n",
    "isdoublefreethree_position(yx , grid8, stone)"
   ]
  },
  {
   "cell_type": "code",
   "execution_count": 12,
   "metadata": {},
   "outputs": [
    {
     "data": {
      "text/plain": [
       "array([[0., 0., 0., 0., 0., 0., 0., 0., 0., 0.],\n",
       "       [0., 0., 0., 0., 0., 0., 0., 0., 0., 0.],\n",
       "       [0., 0., 0., 0., 0., 0., 0., 1., 0., 0.],\n",
       "       [0., 0., 0., 0., 0., 0., 1., 0., 0., 0.],\n",
       "       [0., 0., 0., 0., 0., 0., 0., 0., 0., 0.],\n",
       "       [0., 0., 0., 0., 0., 0., 1., 1., 0., 0.],\n",
       "       [0., 0., 0., 0., 0., 0., 0., 0., 0., 0.],\n",
       "       [0., 0., 0., 0., 0., 0., 0., 0., 0., 0.],\n",
       "       [0., 0., 0., 0., 0., 0., 0., 0., 0., 0.],\n",
       "       [0., 0., 0., 0., 0., 0., 0., 0., 0., 0.]])"
      ]
     },
     "execution_count": 12,
     "metadata": {},
     "output_type": "execute_result"
    }
   ],
   "source": [
    "grid9 = np.zeros((10,10))\n",
    "grid9[[2, 3, 5, 5],[7, 6, 6, 7]] = 1\n",
    "grid9"
   ]
  },
  {
   "cell_type": "code",
   "execution_count": 16,
   "metadata": {},
   "outputs": [
    {
     "name": "stdout",
     "output_type": "stream",
     "text": [
      "[[0. 0. 0. 0. 0. 0. 0. 0. 0. 0. 0. 0. 0. 0. 0. 0. 0. 0. 0. 0.]\n",
      " [0. 0. 0. 0. 0. 0. 0. 0. 0. 0. 0. 0. 0. 0. 0. 0. 0. 0. 0. 0.]\n",
      " [0. 0. 0. 0. 0. 0. 0. 0. 0. 0. 0. 0. 0. 0. 0. 0. 0. 0. 0. 0.]\n",
      " [0. 0. 0. 0. 0. 0. 0. 0. 0. 0. 0. 0. 0. 0. 0. 0. 0. 0. 0. 0.]\n",
      " [0. 0. 0. 0. 0. 0. 0. 0. 0. 0. 0. 0. 0. 0. 0. 0. 0. 0. 0. 0.]\n",
      " [0. 0. 0. 0. 0. 1. 1. 1. 1. 1. 1. 1. 1. 1. 1. 0. 0. 0. 0. 0.]\n",
      " [0. 0. 0. 0. 0. 1. 1. 1. 1. 1. 1. 1. 1. 1. 1. 0. 0. 0. 0. 0.]\n",
      " [0. 0. 0. 0. 0. 1. 1. 1. 1. 1. 1. 1. 2. 1. 1. 0. 0. 0. 0. 0.]\n",
      " [0. 0. 0. 0. 0. 1. 1. 1. 1. 1. 1. 2. 1. 1. 1. 0. 0. 0. 0. 0.]\n",
      " [0. 0. 0. 0. 0. 1. 1. 1. 1. 1. 2. 1. 1. 1. 1. 0. 0. 0. 0. 0.]\n",
      " [0. 0. 0. 0. 0. 1. 1. 1. 1. 1. 1. 2. 2. 1. 1. 0. 0. 0. 0. 0.]\n",
      " [0. 0. 0. 0. 0. 1. 1. 1. 1. 1. 1. 1. 1. 1. 1. 0. 0. 0. 0. 0.]\n",
      " [0. 0. 0. 0. 0. 1. 1. 1. 1. 1. 1. 1. 1. 1. 1. 0. 0. 0. 0. 0.]\n",
      " [0. 0. 0. 0. 0. 1. 1. 1. 1. 1. 1. 1. 1. 1. 1. 0. 0. 0. 0. 0.]\n",
      " [0. 0. 0. 0. 0. 1. 1. 1. 1. 1. 1. 1. 1. 1. 1. 0. 0. 0. 0. 0.]\n",
      " [0. 0. 0. 0. 0. 0. 0. 0. 0. 0. 0. 0. 0. 0. 0. 0. 0. 0. 0. 0.]\n",
      " [0. 0. 0. 0. 0. 0. 0. 0. 0. 0. 0. 0. 0. 0. 0. 0. 0. 0. 0. 0.]\n",
      " [0. 0. 0. 0. 0. 0. 0. 0. 0. 0. 0. 0. 0. 0. 0. 0. 0. 0. 0. 0.]\n",
      " [0. 0. 0. 0. 0. 0. 0. 0. 0. 0. 0. 0. 0. 0. 0. 0. 0. 0. 0. 0.]\n",
      " [0. 0. 0. 0. 0. 0. 0. 0. 0. 0. 0. 0. 0. 0. 0. 0. 0. 0. 0. 0.]]\n"
     ]
    },
    {
     "data": {
      "text/plain": [
       "False"
      ]
     },
     "execution_count": 16,
     "metadata": {},
     "output_type": "execute_result"
    }
   ],
   "source": [
    "isdoublefreethree_position(np.array([4,5]) , grid9, stone)"
   ]
  },
  {
   "cell_type": "code",
   "execution_count": 26,
   "metadata": {},
   "outputs": [
    {
     "data": {
      "text/plain": [
       "array([[ 0.,  0.,  0.,  0.,  0.,  0.,  0.,  0.,  0.,  0.],\n",
       "       [ 0.,  0.,  0.,  0.,  0.,  0.,  0., -1.,  0.,  0.],\n",
       "       [ 0.,  0.,  1.,  0.,  0.,  0.,  1.,  0.,  0.,  0.],\n",
       "       [ 0.,  0.,  0.,  1.,  0.,  1.,  0.,  0.,  0.,  0.],\n",
       "       [ 0.,  0.,  0.,  0.,  0.,  0.,  0.,  0.,  0.,  0.],\n",
       "       [ 0.,  0.,  0.,  0.,  0.,  0.,  0.,  0.,  0.,  0.],\n",
       "       [ 0.,  0.,  0.,  0.,  0.,  0.,  0.,  0.,  0.,  0.],\n",
       "       [ 0.,  0.,  0.,  0.,  0.,  0.,  0.,  0.,  0.,  0.],\n",
       "       [ 0.,  0.,  0.,  0.,  0.,  0.,  0.,  0.,  0.,  0.],\n",
       "       [ 0.,  0.,  0.,  0.,  0.,  0.,  0.,  0.,  0.,  0.]])"
      ]
     },
     "execution_count": 26,
     "metadata": {},
     "output_type": "execute_result"
    }
   ],
   "source": [
    "grid10 = np.zeros((10,10))\n",
    "grid10[[2, 3, 3, 2],[2, 3, 5, 6]] = 1\n",
    "grid10[[1], [7]] = -1\n",
    "grid10"
   ]
  },
  {
   "cell_type": "code",
   "execution_count": 27,
   "metadata": {},
   "outputs": [
    {
     "name": "stdout",
     "output_type": "stream",
     "text": [
      "[[0. 0. 0. 0. 0. 0. 0. 0. 0. 0. 0. 0. 0. 0. 0. 0. 0. 0. 0. 0.]\n",
      " [0. 0. 0. 0. 0. 0. 0. 0. 0. 0. 0. 0. 0. 0. 0. 0. 0. 0. 0. 0.]\n",
      " [0. 0. 0. 0. 0. 0. 0. 0. 0. 0. 0. 0. 0. 0. 0. 0. 0. 0. 0. 0.]\n",
      " [0. 0. 0. 0. 0. 0. 0. 0. 0. 0. 0. 0. 0. 0. 0. 0. 0. 0. 0. 0.]\n",
      " [0. 0. 0. 0. 0. 0. 0. 0. 0. 0. 0. 0. 0. 0. 0. 0. 0. 0. 0. 0.]\n",
      " [0. 0. 0. 0. 0. 1. 1. 1. 1. 1. 1. 1. 1. 1. 1. 0. 0. 0. 0. 0.]\n",
      " [0. 0. 0. 0. 0. 1. 1. 1. 1. 1. 1. 1. 0. 1. 1. 0. 0. 0. 0. 0.]\n",
      " [0. 0. 0. 0. 0. 1. 1. 2. 1. 1. 1. 2. 1. 1. 1. 0. 0. 0. 0. 0.]\n",
      " [0. 0. 0. 0. 0. 1. 1. 1. 2. 1. 2. 1. 1. 1. 1. 0. 0. 0. 0. 0.]\n",
      " [0. 0. 0. 0. 0. 1. 1. 1. 1. 2. 1. 1. 1. 1. 1. 0. 0. 0. 0. 0.]\n",
      " [0. 0. 0. 0. 0. 1. 1. 1. 1. 1. 1. 1. 1. 1. 1. 0. 0. 0. 0. 0.]\n",
      " [0. 0. 0. 0. 0. 1. 1. 1. 1. 1. 1. 1. 1. 1. 1. 0. 0. 0. 0. 0.]\n",
      " [0. 0. 0. 0. 0. 1. 1. 1. 1. 1. 1. 1. 1. 1. 1. 0. 0. 0. 0. 0.]\n",
      " [0. 0. 0. 0. 0. 1. 1. 1. 1. 1. 1. 1. 1. 1. 1. 0. 0. 0. 0. 0.]\n",
      " [0. 0. 0. 0. 0. 1. 1. 1. 1. 1. 1. 1. 1. 1. 1. 0. 0. 0. 0. 0.]\n",
      " [0. 0. 0. 0. 0. 0. 0. 0. 0. 0. 0. 0. 0. 0. 0. 0. 0. 0. 0. 0.]\n",
      " [0. 0. 0. 0. 0. 0. 0. 0. 0. 0. 0. 0. 0. 0. 0. 0. 0. 0. 0. 0.]\n",
      " [0. 0. 0. 0. 0. 0. 0. 0. 0. 0. 0. 0. 0. 0. 0. 0. 0. 0. 0. 0.]\n",
      " [0. 0. 0. 0. 0. 0. 0. 0. 0. 0. 0. 0. 0. 0. 0. 0. 0. 0. 0. 0.]\n",
      " [0. 0. 0. 0. 0. 0. 0. 0. 0. 0. 0. 0. 0. 0. 0. 0. 0. 0. 0. 0.]]\n"
     ]
    },
    {
     "data": {
      "text/plain": [
       "False"
      ]
     },
     "execution_count": 27,
     "metadata": {},
     "output_type": "execute_result"
    }
   ],
   "source": [
    "isdoublefreethree_position(np.array([4,4]) , grid10, stone)"
   ]
  },
  {
   "cell_type": "code",
   "execution_count": 580,
   "metadata": {},
   "outputs": [
    {
     "name": "stdout",
     "output_type": "stream",
     "text": [
      "[[0. 0. 0. 0. 0. 0. 0. 0. 0. 0. 0. 0. 0. 0. 0. 0. 0. 0.]\n",
      " [0. 0. 0. 0. 0. 0. 0. 0. 0. 0. 0. 0. 0. 0. 0. 0. 0. 0.]\n",
      " [0. 0. 0. 0. 0. 0. 0. 0. 0. 0. 0. 0. 0. 0. 0. 0. 0. 0.]\n",
      " [0. 0. 0. 0. 0. 0. 0. 0. 0. 0. 0. 0. 0. 0. 0. 0. 0. 0.]\n",
      " [0. 0. 0. 0. 1. 1. 1. 1. 1. 1. 1. 1. 1. 1. 0. 0. 0. 0.]\n",
      " [0. 0. 0. 0. 1. 1. 1. 1. 1. 1. 1. 1. 1. 1. 0. 0. 0. 0.]\n",
      " [0. 0. 0. 0. 1. 1. 2. 1. 1. 1. 2. 1. 1. 1. 0. 0. 0. 0.]\n",
      " [0. 0. 0. 0. 1. 1. 1. 2. 1. 2. 1. 1. 1. 1. 0. 0. 0. 0.]\n",
      " [0. 0. 0. 0. 1. 1. 1. 1. 2. 1. 1. 1. 1. 1. 0. 0. 0. 0.]\n",
      " [0. 0. 0. 0. 1. 1. 1. 1. 1. 1. 1. 1. 1. 1. 0. 0. 0. 0.]\n",
      " [0. 0. 0. 0. 1. 1. 1. 1. 1. 1. 1. 1. 1. 1. 0. 0. 0. 0.]\n",
      " [0. 0. 0. 0. 1. 1. 1. 1. 1. 1. 1. 1. 1. 1. 0. 0. 0. 0.]\n",
      " [0. 0. 0. 0. 1. 1. 1. 1. 1. 1. 1. 1. 1. 1. 0. 0. 0. 0.]\n",
      " [0. 0. 0. 0. 1. 1. 1. 1. 1. 1. 1. 1. 1. 1. 0. 0. 0. 0.]\n",
      " [0. 0. 0. 0. 0. 0. 0. 0. 0. 0. 0. 0. 0. 0. 0. 0. 0. 0.]\n",
      " [0. 0. 0. 0. 0. 0. 0. 0. 0. 0. 0. 0. 0. 0. 0. 0. 0. 0.]\n",
      " [0. 0. 0. 0. 0. 0. 0. 0. 0. 0. 0. 0. 0. 0. 0. 0. 0. 0.]\n",
      " [0. 0. 0. 0. 0. 0. 0. 0. 0. 0. 0. 0. 0. 0. 0. 0. 0. 0.]]\n"
     ]
    },
    {
     "data": {
      "text/plain": [
       "True"
      ]
     },
     "execution_count": 580,
     "metadata": {},
     "output_type": "execute_result"
    }
   ],
   "source": [
    "isdoublefreethree_position([4, 4], grid10)"
   ]
  },
  {
   "cell_type": "code",
   "execution_count": 59,
   "metadata": {},
   "outputs": [],
   "source": [
    "test = np.array([[1, 1, 0, 0, 0]])\n",
    "\n",
    "kernel = np.array([[1, 1, 1, 1],\n",
    "                   [1, 1, 1, 1],\n",
    "                   [0, 1, 1, 1],\n",
    "                   [0, 0, 1, 1],\n",
    "                   [0, 0, 0, 1]])"
   ]
  },
  {
   "cell_type": "code",
   "execution_count": 60,
   "metadata": {},
   "outputs": [
    {
     "data": {
      "text/plain": [
       "array([[2, 2, 2, 2]])"
      ]
     },
     "execution_count": 60,
     "metadata": {},
     "output_type": "execute_result"
    }
   ],
   "source": [
    "np.dot(test, kernel)"
   ]
  },
  {
   "cell_type": "code",
   "execution_count": 17,
   "metadata": {},
   "outputs": [
    {
     "data": {
      "text/plain": [
       "array([[0., 1., 1., 0., 0.]])"
      ]
     },
     "execution_count": 17,
     "metadata": {},
     "output_type": "execute_result"
    }
   ],
   "source": [
    "test"
   ]
  },
  {
   "cell_type": "code",
   "execution_count": 55,
   "metadata": {},
   "outputs": [],
   "source": [
    "res = np.array([[-1, -1, -1, -1, -1]])\n",
    "for _ in range(10):\n",
    "    res = np.append(res, np.random.randint(low=0, high=10, size=(1,5)), axis=0)"
   ]
  },
  {
   "cell_type": "code",
   "execution_count": 56,
   "metadata": {},
   "outputs": [
    {
     "data": {
      "text/plain": [
       "array([[-1, -1, -1, -1, -1],\n",
       "       [ 6,  0,  0,  6,  3],\n",
       "       [ 0,  2,  4,  3,  1],\n",
       "       [ 5,  0,  0,  9,  9],\n",
       "       [ 9,  9,  1,  1,  6],\n",
       "       [ 9,  2,  9,  4,  1],\n",
       "       [ 1,  3,  8,  4,  4],\n",
       "       [ 5,  6,  6,  8,  0],\n",
       "       [ 8,  7,  3,  6,  0],\n",
       "       [ 9,  7,  6,  4,  9],\n",
       "       [ 8,  6,  4,  1,  2]])"
      ]
     },
     "execution_count": 56,
     "metadata": {},
     "output_type": "execute_result"
    }
   ],
   "source": [
    "res"
   ]
  },
  {
   "cell_type": "code",
   "execution_count": 62,
   "metadata": {},
   "outputs": [
    {
     "data": {
      "text/plain": [
       "array([[0, 6]])"
      ]
     },
     "execution_count": 62,
     "metadata": {},
     "output_type": "execute_result"
    }
   ],
   "source": [
    "res[1:2, 2:4]"
   ]
  },
  {
   "cell_type": "code",
   "execution_count": 65,
   "metadata": {},
   "outputs": [
    {
     "data": {
      "text/plain": [
       "array([[-1,  0,  0,  0,  0],\n",
       "       [ 6,  0,  0,  1,  0],\n",
       "       [ 0,  1,  1,  0,  0],\n",
       "       [ 5,  0,  0,  2,  1],\n",
       "       [ 9,  4,  0,  0,  1],\n",
       "       [ 9,  1,  3,  1,  0],\n",
       "       [ 1,  1,  2,  1,  0],\n",
       "       [ 5,  3,  2,  2,  0],\n",
       "       [ 8,  3,  1,  1,  0],\n",
       "       [ 9,  3,  2,  1,  1],\n",
       "       [ 8,  3,  1,  0,  0]], dtype=int8)"
      ]
     },
     "execution_count": 65,
     "metadata": {},
     "output_type": "execute_result"
    }
   ],
   "source": [
    "(res / np.arange(1, 6)).astype('int8')"
   ]
  },
  {
   "cell_type": "code",
   "execution_count": 138,
   "metadata": {},
   "outputs": [],
   "source": [
    "res = np.array([[-1, -1]])\n",
    "for _ in range(10):\n",
    "    res = np.append(res, np.random.randint(low=0, high=3, size=(1,2)), axis=0)"
   ]
  },
  {
   "cell_type": "code",
   "execution_count": 139,
   "metadata": {},
   "outputs": [
    {
     "data": {
      "text/plain": [
       "array([[1, 1],\n",
       "       [2, 1],\n",
       "       [1, 2],\n",
       "       [0, 0],\n",
       "       [0, 2],\n",
       "       [1, 1],\n",
       "       [2, 2],\n",
       "       [1, 0],\n",
       "       [1, 1],\n",
       "       [0, 2]])"
      ]
     },
     "execution_count": 139,
     "metadata": {},
     "output_type": "execute_result"
    }
   ],
   "source": [
    "res = np.delete(res, 0, 0)\n",
    "res"
   ]
  },
  {
   "cell_type": "code",
   "execution_count": 140,
   "metadata": {},
   "outputs": [
    {
     "data": {
      "text/plain": [
       "array([[0, 0],\n",
       "       [0, 2],\n",
       "       [1, 0],\n",
       "       [1, 1],\n",
       "       [1, 2],\n",
       "       [2, 1],\n",
       "       [2, 2]])"
      ]
     },
     "execution_count": 140,
     "metadata": {},
     "output_type": "execute_result"
    }
   ],
   "source": [
    "np.unique(res, axis=0)"
   ]
  },
  {
   "cell_type": "code",
   "execution_count": 141,
   "metadata": {},
   "outputs": [
    {
     "name": "stdout",
     "output_type": "stream",
     "text": [
      "mask: [False False False False False  True False False  True False]\n",
      "mask: [False  True False False False False False False]\n",
      "mask: [False False  True False False False False]\n",
      "mask: [False False False  True False False]\n",
      "mask: [False False  True False  True]\n"
     ]
    }
   ],
   "source": [
    "i = 0\n",
    "while i < res.shape[0]:\n",
    "    print(f\"res[{i}]: \", res[i])\n",
    "    mask = (res == res[i]).all(axis=1)\n",
    "    mask[0] = False\n",
    "    print(\"mask:\", mask)\n",
    "    res = np.delete(res, mask, axis=0)\n",
    "    i += 1"
   ]
  },
  {
   "cell_type": "code",
   "execution_count": 133,
   "metadata": {},
   "outputs": [
    {
     "data": {
      "text/plain": [
       "array([[0, 0],\n",
       "       [1, 0]])"
      ]
     },
     "execution_count": 133,
     "metadata": {},
     "output_type": "execute_result"
    }
   ],
   "source": [
    "res"
   ]
  },
  {
   "cell_type": "code",
   "execution_count": 83,
   "metadata": {},
   "outputs": [
    {
     "data": {
      "text/plain": [
       "array([0, 2])"
      ]
     },
     "execution_count": 83,
     "metadata": {},
     "output_type": "execute_result"
    }
   ],
   "source": [
    "res[1]"
   ]
  },
  {
   "cell_type": "code",
   "execution_count": 86,
   "metadata": {},
   "outputs": [
    {
     "data": {
      "text/plain": [
       "array([[ 1,  0],\n",
       "       [ 1,  1],\n",
       "       [ 2,  0],\n",
       "       [ 2,  1],\n",
       "       [ 3,  0],\n",
       "       [ 3,  1],\n",
       "       [ 6,  0],\n",
       "       [ 6,  1],\n",
       "       [ 8,  0],\n",
       "       [ 8,  1],\n",
       "       [10,  0],\n",
       "       [10,  1],\n",
       "       [11,  0],\n",
       "       [12,  1],\n",
       "       [15,  0],\n",
       "       [15,  1],\n",
       "       [16,  0],\n",
       "       [16,  1],\n",
       "       [17,  0],\n",
       "       [19,  1],\n",
       "       [20,  0],\n",
       "       [20,  1]])"
      ]
     },
     "execution_count": 86,
     "metadata": {},
     "output_type": "execute_result"
    }
   ],
   "source": [
    "tmp"
   ]
  },
  {
   "cell_type": "code",
   "execution_count": 93,
   "metadata": {},
   "outputs": [
    {
     "data": {
      "text/plain": [
       "array([ 2,  2,  3,  3,  6,  6,  8,  8, 10, 10, 11, 12, 15, 15, 16, 16, 17,\n",
       "       19, 20, 20])"
      ]
     },
     "execution_count": 93,
     "metadata": {},
     "output_type": "execute_result"
    }
   ],
   "source": [
    "tmp[2:,0]"
   ]
  },
  {
   "cell_type": "markdown",
   "metadata": {},
   "source": [
    "## Elaboration du scoreboard"
   ]
  },
  {
   "cell_type": "code",
   "execution_count": 4,
   "metadata": {},
   "outputs": [
    {
     "name": "stdout",
     "output_type": "stream",
     "text": [
      "nb_white = 37 -- nb_black = 38 -- cur_pos = [0 5]\n"
     ]
    },
    {
     "data": {
      "text/plain": [
       "array([[ 0.,  1., -1., -1.,  0., -1.,  0.,  0., -1.,  0.],\n",
       "       [ 0., -1.,  0., -1.,  1.,  0.,  0.,  0.,  0.,  1.],\n",
       "       [ 1.,  0.,  0., -1.,  1.,  0., -1., -1.,  0.,  1.],\n",
       "       [ 0., -1.,  0., -1., -1.,  0.,  0., -1., -1.,  0.],\n",
       "       [-1.,  0.,  0.,  1.,  0.,  1., -1., -1.,  0.,  1.],\n",
       "       [-1.,  0.,  0.,  1., -1.,  0., -1.,  0.,  0., -1.],\n",
       "       [-1.,  0.,  0.,  0., -1.,  0.,  0.,  1.,  0.,  0.],\n",
       "       [-1.,  1.,  0.,  0., -1.,  1., -1., -1.,  0., -1.],\n",
       "       [-1.,  0.,  1.,  0., -1.,  0.,  1.,  0.,  0.,  1.],\n",
       "       [ 0., -1.,  0.,  1.,  0.,  0.,  0.,  0., -1.,  1.]])"
      ]
     },
     "execution_count": 4,
     "metadata": {},
     "output_type": "execute_result"
    }
   ],
   "source": [
    "SIZE = 10\n",
    "\n",
    "kernel = np.array([[1, 0, 1, 0, 1],\n",
    "                   [0, 1, 1, 1, 0],\n",
    "                   [1, 1, 1, 1, 1],\n",
    "                   [0, 1, 1, 1, 0],\n",
    "                   [1, 0, 1, 0, 1]])\n",
    "\n",
    "scoreboard = np.zeros((SIZE,SIZE))\n",
    "\n",
    "grid  = np.zeros((SIZE,SIZE))\n",
    "\n",
    "nb_white = np.random.randint(35,40)\n",
    "nb_black = 0\n",
    "while nb_black <= 0:\n",
    "\tnb_black = nb_white + np.random.randint(-4, 4)\n",
    "\n",
    "ii = jj = 0\n",
    "while ii < nb_white:\n",
    "    x, y = list(np.random.randint(0, SIZE, size = 2))\n",
    "    grid[y, x] = 1\n",
    "    ii += 1\n",
    "\n",
    "while jj < nb_black:\n",
    "    x, y = list(np.random.randint(0, SIZE, size = 2))\n",
    "    grid[y, x] = -1\n",
    "    jj += 1\n",
    "\n",
    "possible_pos = np.argwhere(grid != 0)\n",
    "curr_pos = np.array(possible_pos[np.random.randint(0, len(possible_pos) -1, size = 1)][0])\n",
    "\n",
    "print(f\"nb_white = {nb_white} -- nb_black = {nb_black} -- cur_pos = {curr_pos}\")\n",
    "grid"
   ]
  },
  {
   "cell_type": "code",
   "execution_count": 5,
   "metadata": {},
   "outputs": [],
   "source": [
    "extend_grid = np.pad(grid, 4, \"constant\", constant_values = 0)\n",
    "extend_scoreboard = np.pad(scoreboard, 2, \"constant\", constant_values = 0)"
   ]
  },
  {
   "cell_type": "code",
   "execution_count": 6,
   "metadata": {},
   "outputs": [
    {
     "data": {
      "text/plain": [
       "array([0, 5])"
      ]
     },
     "execution_count": 6,
     "metadata": {},
     "output_type": "execute_result"
    }
   ],
   "source": [
    "curr_pos"
   ]
  },
  {
   "cell_type": "code",
   "execution_count": 7,
   "metadata": {},
   "outputs": [
    {
     "data": {
      "text/plain": [
       "array([[ 0.,  0.,  0.,  0.,  0.],\n",
       "       [ 0.,  0.,  0.,  0.,  0.],\n",
       "       [-1.,  0., -1.,  0.,  0.],\n",
       "       [-1.,  1.,  0.,  0.,  0.],\n",
       "       [-1.,  1.,  0., -1., -1.]])"
      ]
     },
     "execution_count": 7,
     "metadata": {},
     "output_type": "execute_result"
    }
   ],
   "source": [
    "coordy = curr_pos[0] + 4\n",
    "coordx = curr_pos[1] + 4\n",
    "extend_grid[coordy-2:coordy+3, coordx-2:coordx+3]\n"
   ]
  },
  {
   "cell_type": "code",
   "execution_count": 11,
   "metadata": {},
   "outputs": [
    {
     "data": {
      "text/plain": [
       "array([[-1., -1., -2., -1., -1.],\n",
       "       [-4., -1., -2.,  0.,  0.],\n",
       "       [-3., -3., -3., -2., -2.],\n",
       "       [-5., -3., -3., -4., -3.],\n",
       "       [-1., -5., -3., -4., -3.]])"
      ]
     },
     "execution_count": 11,
     "metadata": {},
     "output_type": "execute_result"
    }
   ],
   "source": [
    "#extend_scoreboard[curr_pos[0]:curr_pos[0]+5,curr_pos[1]:curr_pos[1]+5] = convolve2d(extend_grid[coordy-2:coordy+3, coordx-2:coordx+3], kernel, \"same\")\n",
    "convolve2d(extend_grid[coordy-4:coordy+5, coordx-4:coordx+5], kernel, \"valid\")"
   ]
  },
  {
   "cell_type": "code",
   "execution_count": 94,
   "metadata": {},
   "outputs": [
    {
     "data": {
      "text/plain": [
       "array([[ 0.,  0.,  0.,  0.,  0.,  0.,  0.,  0.,  0.,  0.,  0.,  0.,  0.,\n",
       "         0.],\n",
       "       [-1.,  0., -1.,  0., -1.,  0.,  0.,  0.,  0.,  0.,  0.,  0.,  0.,\n",
       "         0.],\n",
       "       [ 0., -1., -1., -1.,  0.,  0.,  0.,  0.,  0.,  0.,  0.,  0.,  0.,\n",
       "         0.],\n",
       "       [-1., -1., -1., -1., -1.,  0.,  0.,  0.,  0.,  0.,  0.,  0.,  0.,\n",
       "         0.],\n",
       "       [ 0., -1., -1., -1.,  0.,  0.,  0.,  0.,  0.,  0.,  0.,  0.,  0.,\n",
       "         0.],\n",
       "       [-1.,  0., -1.,  0., -1.,  0.,  0.,  0.,  0.,  0.,  0.,  0.,  0.,\n",
       "         0.],\n",
       "       [ 0.,  0.,  0.,  0.,  0.,  0.,  0.,  0.,  0.,  0.,  0.,  0.,  0.,\n",
       "         0.],\n",
       "       [ 0.,  0.,  0.,  0.,  0.,  0.,  0.,  0.,  0.,  0.,  0.,  0.,  0.,\n",
       "         0.],\n",
       "       [ 0.,  0.,  0.,  0.,  0.,  0.,  0.,  0.,  0.,  0.,  0.,  0.,  0.,\n",
       "         0.],\n",
       "       [ 0.,  0.,  0.,  0.,  0.,  0.,  0.,  0.,  0.,  0.,  0.,  0.,  0.,\n",
       "         0.],\n",
       "       [ 0.,  0.,  0.,  0.,  0.,  0.,  0.,  0.,  0.,  0.,  0.,  0.,  0.,\n",
       "         0.],\n",
       "       [ 0.,  0.,  0.,  0.,  0.,  0.,  0.,  0.,  0.,  0.,  0.,  0.,  0.,\n",
       "         0.],\n",
       "       [ 0.,  0.,  0.,  0.,  0.,  0.,  0.,  0.,  0.,  0.,  0.,  0.,  0.,\n",
       "         0.],\n",
       "       [ 0.,  0.,  0.,  0.,  0.,  0.,  0.,  0.,  0.,  0.,  0.,  0.,  0.,\n",
       "         0.]])"
      ]
     },
     "execution_count": 94,
     "metadata": {},
     "output_type": "execute_result"
    }
   ],
   "source": [
    "extend_scoreboard"
   ]
  },
  {
   "cell_type": "code",
   "execution_count": 95,
   "metadata": {},
   "outputs": [],
   "source": [
    "scoreboard = extend_scoreboard[2:-2, 2:-2]"
   ]
  },
  {
   "cell_type": "code",
   "execution_count": 96,
   "metadata": {},
   "outputs": [
    {
     "data": {
      "text/plain": [
       "array([[-1., -1.,  0.,  0.,  0.,  0.,  0.,  0.,  0.,  0.],\n",
       "       [-1., -1., -1.,  0.,  0.,  0.,  0.,  0.,  0.,  0.],\n",
       "       [-1., -1.,  0.,  0.,  0.,  0.,  0.,  0.,  0.,  0.],\n",
       "       [-1.,  0., -1.,  0.,  0.,  0.,  0.,  0.,  0.,  0.],\n",
       "       [ 0.,  0.,  0.,  0.,  0.,  0.,  0.,  0.,  0.,  0.],\n",
       "       [ 0.,  0.,  0.,  0.,  0.,  0.,  0.,  0.,  0.,  0.],\n",
       "       [ 0.,  0.,  0.,  0.,  0.,  0.,  0.,  0.,  0.,  0.],\n",
       "       [ 0.,  0.,  0.,  0.,  0.,  0.,  0.,  0.,  0.,  0.],\n",
       "       [ 0.,  0.,  0.,  0.,  0.,  0.,  0.,  0.,  0.,  0.],\n",
       "       [ 0.,  0.,  0.,  0.,  0.,  0.,  0.,  0.,  0.,  0.]])"
      ]
     },
     "execution_count": 96,
     "metadata": {},
     "output_type": "execute_result"
    }
   ],
   "source": [
    "scoreboard"
   ]
  },
  {
   "cell_type": "markdown",
   "metadata": {},
   "source": [
    "# Test sur la caractere terminal d'une séquence de pierre:"
   ]
  },
  {
   "cell_type": "code",
   "execution_count": 32,
   "metadata": {},
   "outputs": [],
   "source": [
    "BLACK = 1\n",
    "WHITE = -1\n",
    "\n",
    "k_capture = np.array([[-1, 1, 1, -1]])"
   ]
  },
  {
   "cell_type": "code",
   "execution_count": 53,
   "metadata": {},
   "outputs": [
    {
     "data": {
      "text/plain": [
       "array([[ 0.,  0.,  0.,  0.,  0.,  0.,  0.,  0.,  0.,  0.,  0.],\n",
       "       [ 0.,  0.,  0.,  0.,  0.,  0.,  0.,  0.,  0.,  0.,  0.],\n",
       "       [ 0.,  0.,  0.,  0.,  0.,  1.,  0.,  0.,  0.,  0.,  0.],\n",
       "       [ 0.,  0.,  0.,  0.,  0.,  1.,  0.,  0.,  0.,  0.,  0.],\n",
       "       [ 0.,  0.,  0., -1.,  0.,  1.,  1.,  0.,  0.,  0.,  0.],\n",
       "       [ 0.,  0.,  0.,  0.,  0.,  1.,  1., -1.,  0.,  0.,  0.],\n",
       "       [ 0.,  0.,  0.,  0.,  0.,  1.,  0.,  0.,  0.,  0.,  0.],\n",
       "       [ 0.,  0.,  0.,  0.,  0.,  0.,  0.,  0.,  0.,  0.,  0.],\n",
       "       [ 0.,  0.,  0.,  0.,  0.,  0.,  0.,  0.,  0.,  0.,  0.],\n",
       "       [ 0.,  0.,  0.,  0.,  0.,  0.,  0.,  0.,  0.,  0.,  0.],\n",
       "       [ 0.,  0.,  0.,  0.,  0.,  0.,  0.,  0.,  0.,  0.,  0.]])"
      ]
     },
     "execution_count": 53,
     "metadata": {},
     "output_type": "execute_result"
    }
   ],
   "source": [
    "last_color = BLACK\n",
    "las_coord = np.array([4,5])\n",
    "# %%%%%%%%%%%%%%%%%%%%%%%%%%%%%%%% #\n",
    "board = np.zeros((11,11))\n",
    "board[2:7, 5] = BLACK\n",
    "board[[4,5],[6,6]]= BLACK\n",
    "board[[4,5],[3,7]] = WHITE\n",
    "board"
   ]
  },
  {
   "cell_type": "code",
   "execution_count": 54,
   "metadata": {},
   "outputs": [],
   "source": [
    "start_y = 0\n",
    "start_x = 5\n",
    "while (board[start_y, start_x] == 0):\n",
    "    start_y += 1\n",
    "end_y = start_y + 5\n",
    "end_x = start_x"
   ]
  },
  {
   "cell_type": "code",
   "execution_count": 55,
   "metadata": {},
   "outputs": [
    {
     "name": "stdout",
     "output_type": "stream",
     "text": [
      "(2;5)  (7;5)\n"
     ]
    }
   ],
   "source": [
    "print(f\"({start_y};{start_x})  ({end_y};{end_x})\")"
   ]
  },
  {
   "cell_type": "code",
   "execution_count": 56,
   "metadata": {},
   "outputs": [
    {
     "data": {
      "text/plain": [
       "array([[ 0.,  0.,  1.,  0.,  0.],\n",
       "       [ 0.,  0.,  1.,  0.,  0.],\n",
       "       [-1.,  0.,  1.,  1.,  0.],\n",
       "       [ 0.,  0.,  1.,  1., -1.],\n",
       "       [ 0.,  0.,  1.,  0.,  0.]])"
      ]
     },
     "execution_count": 56,
     "metadata": {},
     "output_type": "execute_result"
    }
   ],
   "source": [
    "ROI = board[start_y : end_y, start_x - 2 : end_x + 2 + 1]\n",
    "ROI"
   ]
  },
  {
   "cell_type": "code",
   "execution_count": 58,
   "metadata": {},
   "outputs": [
    {
     "data": {
      "text/plain": [
       "array([[1., 1.],\n",
       "       [1., 1.],\n",
       "       [1., 2.],\n",
       "       [0., 3.],\n",
       "       [1., 1.]])"
      ]
     },
     "execution_count": 58,
     "metadata": {},
     "output_type": "execute_result"
    }
   ],
   "source": [
    "res = convolve2d(ROI, last_color * k_capture, \"valid\")\n",
    "res"
   ]
  },
  {
   "cell_type": "code",
   "execution_count": 50,
   "metadata": {},
   "outputs": [
    {
     "data": {
      "text/plain": [
       "True"
      ]
     },
     "execution_count": 50,
     "metadata": {},
     "output_type": "execute_result"
    }
   ],
   "source": [
    "np.any(res == 3)"
   ]
  },
  {
   "cell_type": "code",
   "execution_count": 61,
   "metadata": {},
   "outputs": [
    {
     "name": "stdout",
     "output_type": "stream",
     "text": [
      "1, 1\n",
      "2, 2\n",
      "3, 3\n",
      "4, 4\n",
      "5, 5\n"
     ]
    }
   ],
   "source": [
    "dx = dy = 0\n",
    "for i in range(5):\n",
    "    dx, dy = dx + 1, dy + 1\n",
    "    print(f\"{dx}, {dy}\")"
   ]
  },
  {
   "cell_type": "code",
   "execution_count": 63,
   "metadata": {},
   "outputs": [
    {
     "ename": "AttributeError",
     "evalue": "module 'numpy' has no attribute 'rot45'",
     "output_type": "error",
     "traceback": [
      "\u001b[0;31m---------------------------------------------------------------------------\u001b[0m",
      "\u001b[0;31mAttributeError\u001b[0m                            Traceback (most recent call last)",
      "\u001b[0;32m<ipython-input-63-58661d9f86d0>\u001b[0m in \u001b[0;36m<module>\u001b[0;34m\u001b[0m\n\u001b[0;32m----> 1\u001b[0;31m \u001b[0mnp\u001b[0m\u001b[0;34m.\u001b[0m\u001b[0mrot45\u001b[0m\u001b[0;34m(\u001b[0m\u001b[0mk_capture\u001b[0m\u001b[0;34m)\u001b[0m\u001b[0;34m\u001b[0m\u001b[0;34m\u001b[0m\u001b[0m\n\u001b[0m",
      "\u001b[0;32m~/miniconda3/lib/python3.7/site-packages/numpy/__init__.py\u001b[0m in \u001b[0;36m__getattr__\u001b[0;34m(attr)\u001b[0m\n\u001b[1;32m    213\u001b[0m             \u001b[0;32melse\u001b[0m\u001b[0;34m:\u001b[0m\u001b[0;34m\u001b[0m\u001b[0;34m\u001b[0m\u001b[0m\n\u001b[1;32m    214\u001b[0m                 raise AttributeError(\"module {!r} has no attribute \"\n\u001b[0;32m--> 215\u001b[0;31m                                      \"{!r}\".format(__name__, attr))\n\u001b[0m\u001b[1;32m    216\u001b[0m \u001b[0;34m\u001b[0m\u001b[0m\n\u001b[1;32m    217\u001b[0m         \u001b[0;32mdef\u001b[0m \u001b[0m__dir__\u001b[0m\u001b[0;34m(\u001b[0m\u001b[0;34m)\u001b[0m\u001b[0;34m:\u001b[0m\u001b[0;34m\u001b[0m\u001b[0;34m\u001b[0m\u001b[0m\n",
      "\u001b[0;31mAttributeError\u001b[0m: module 'numpy' has no attribute 'rot45'"
     ]
    }
   ],
   "source": [
    "np.rot45(k_capture)"
   ]
  },
  {
   "cell_type": "code",
   "execution_count": null,
   "metadata": {},
   "outputs": [],
   "source": []
  }
 ],
 "metadata": {
  "kernelspec": {
   "display_name": "Python 3",
   "language": "python",
   "name": "python3"
  },
  "language_info": {
   "codemirror_mode": {
    "name": "ipython",
    "version": 3
   },
   "file_extension": ".py",
   "mimetype": "text/x-python",
   "name": "python",
   "nbconvert_exporter": "python",
   "pygments_lexer": "ipython3",
   "version": "3.7.3"
  }
 },
 "nbformat": 4,
 "nbformat_minor": 5
}
