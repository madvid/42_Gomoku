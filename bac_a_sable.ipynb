{
 "cells": [
  {
   "cell_type": "code",
   "execution_count": 1,
   "id": "9c2fd553",
   "metadata": {},
   "outputs": [],
   "source": [
    "from numpy.lib.stride_tricks import as_strided\n",
    "import numpy as np"
   ]
  },
  {
   "cell_type": "code",
   "execution_count": 2,
   "id": "b30ce420",
   "metadata": {},
   "outputs": [],
   "source": [
    "arr = np.arange(1, 25).reshape(4, 6) % 10"
   ]
  },
  {
   "cell_type": "code",
   "execution_count": 3,
   "id": "16fa8bca",
   "metadata": {},
   "outputs": [
    {
     "data": {
      "text/plain": [
       "array([[1, 2, 3, 4, 5, 6],\n",
       "       [7, 8, 9, 0, 1, 2],\n",
       "       [3, 4, 5, 6, 7, 8],\n",
       "       [9, 0, 1, 2, 3, 4]])"
      ]
     },
     "execution_count": 3,
     "metadata": {},
     "output_type": "execute_result"
    }
   ],
   "source": [
    "arr"
   ]
  },
  {
   "cell_type": "code",
   "execution_count": 4,
   "id": "9ab0f097",
   "metadata": {},
   "outputs": [],
   "source": [
    "sub_shape = (3, 3)"
   ]
  },
  {
   "cell_type": "code",
   "execution_count": 5,
   "id": "b858ccf0",
   "metadata": {},
   "outputs": [],
   "source": [
    "view_shape = tuple(np.subtract(arr.shape, sub_shape) + 1) + sub_shape"
   ]
  },
  {
   "cell_type": "code",
   "execution_count": 6,
   "id": "650ec965",
   "metadata": {},
   "outputs": [
    {
     "data": {
      "text/plain": [
       "array([2, 4])"
      ]
     },
     "execution_count": 6,
     "metadata": {},
     "output_type": "execute_result"
    }
   ],
   "source": [
    "np.subtract(arr.shape, sub_shape) + 1"
   ]
  },
  {
   "cell_type": "code",
   "execution_count": 8,
   "id": "0c216fd2",
   "metadata": {},
   "outputs": [
    {
     "data": {
      "text/plain": [
       "(2, 4, 3, 3)"
      ]
     },
     "execution_count": 8,
     "metadata": {},
     "output_type": "execute_result"
    }
   ],
   "source": [
    "view_shape"
   ]
  },
  {
   "cell_type": "code",
   "execution_count": 10,
   "id": "d300fc60",
   "metadata": {},
   "outputs": [],
   "source": [
    "arr_view = as_strided(arr, view_shape, arr.strides * 2)"
   ]
  },
  {
   "cell_type": "code",
   "execution_count": 11,
   "id": "a1cd23c0",
   "metadata": {},
   "outputs": [
    {
     "data": {
      "text/plain": [
       "(48, 8, 48, 8)"
      ]
     },
     "execution_count": 11,
     "metadata": {},
     "output_type": "execute_result"
    }
   ],
   "source": [
    "arr.strides * 2"
   ]
  },
  {
   "cell_type": "code",
   "execution_count": 12,
   "id": "4dcff6a3",
   "metadata": {},
   "outputs": [
    {
     "data": {
      "text/plain": [
       "array([[[[1, 2, 3],\n",
       "         [7, 8, 9],\n",
       "         [3, 4, 5]],\n",
       "\n",
       "        [[2, 3, 4],\n",
       "         [8, 9, 0],\n",
       "         [4, 5, 6]],\n",
       "\n",
       "        [[3, 4, 5],\n",
       "         [9, 0, 1],\n",
       "         [5, 6, 7]],\n",
       "\n",
       "        [[4, 5, 6],\n",
       "         [0, 1, 2],\n",
       "         [6, 7, 8]]],\n",
       "\n",
       "\n",
       "       [[[7, 8, 9],\n",
       "         [3, 4, 5],\n",
       "         [9, 0, 1]],\n",
       "\n",
       "        [[8, 9, 0],\n",
       "         [4, 5, 6],\n",
       "         [0, 1, 2]],\n",
       "\n",
       "        [[9, 0, 1],\n",
       "         [5, 6, 7],\n",
       "         [1, 2, 3]],\n",
       "\n",
       "        [[0, 1, 2],\n",
       "         [6, 7, 8],\n",
       "         [2, 3, 4]]]])"
      ]
     },
     "execution_count": 12,
     "metadata": {},
     "output_type": "execute_result"
    }
   ],
   "source": [
    "arr_view"
   ]
  },
  {
   "cell_type": "code",
   "execution_count": 15,
   "id": "02731f54",
   "metadata": {},
   "outputs": [],
   "source": [
    "arr_view = arr_view.reshape((-1,) + sub_shape)"
   ]
  },
  {
   "cell_type": "code",
   "execution_count": 16,
   "id": "27c3613e",
   "metadata": {},
   "outputs": [
    {
     "data": {
      "text/plain": [
       "array([[[1, 2, 3],\n",
       "        [7, 8, 9],\n",
       "        [3, 4, 5]],\n",
       "\n",
       "       [[2, 3, 4],\n",
       "        [8, 9, 0],\n",
       "        [4, 5, 6]],\n",
       "\n",
       "       [[3, 4, 5],\n",
       "        [9, 0, 1],\n",
       "        [5, 6, 7]],\n",
       "\n",
       "       [[4, 5, 6],\n",
       "        [0, 1, 2],\n",
       "        [6, 7, 8]],\n",
       "\n",
       "       [[7, 8, 9],\n",
       "        [3, 4, 5],\n",
       "        [9, 0, 1]],\n",
       "\n",
       "       [[8, 9, 0],\n",
       "        [4, 5, 6],\n",
       "        [0, 1, 2]],\n",
       "\n",
       "       [[9, 0, 1],\n",
       "        [5, 6, 7],\n",
       "        [1, 2, 3]],\n",
       "\n",
       "       [[0, 1, 2],\n",
       "        [6, 7, 8],\n",
       "        [2, 3, 4]]])"
      ]
     },
     "execution_count": 16,
     "metadata": {},
     "output_type": "execute_result"
    }
   ],
   "source": [
    "arr_view"
   ]
  },
  {
   "cell_type": "code",
   "execution_count": 13,
   "id": "87c5e063",
   "metadata": {},
   "outputs": [],
   "source": [
    "kernel = np.array([[0, 0, 0],\n",
    "                   [1, 1, 1],\n",
    "                   [0, 0, 0]])"
   ]
  },
  {
   "cell_type": "code",
   "execution_count": 26,
   "id": "10158bc0",
   "metadata": {},
   "outputs": [],
   "source": [
    "res = np.multiply(arr_view, kernel)"
   ]
  },
  {
   "cell_type": "code",
   "execution_count": 27,
   "id": "6b791226",
   "metadata": {},
   "outputs": [
    {
     "data": {
      "text/plain": [
       "array([[[0, 0, 0],\n",
       "        [7, 8, 9],\n",
       "        [0, 0, 0]],\n",
       "\n",
       "       [[0, 0, 0],\n",
       "        [8, 9, 0],\n",
       "        [0, 0, 0]],\n",
       "\n",
       "       [[0, 0, 0],\n",
       "        [9, 0, 1],\n",
       "        [0, 0, 0]],\n",
       "\n",
       "       [[0, 0, 0],\n",
       "        [0, 1, 2],\n",
       "        [0, 0, 0]],\n",
       "\n",
       "       [[0, 0, 0],\n",
       "        [3, 4, 5],\n",
       "        [0, 0, 0]],\n",
       "\n",
       "       [[0, 0, 0],\n",
       "        [4, 5, 6],\n",
       "        [0, 0, 0]],\n",
       "\n",
       "       [[0, 0, 0],\n",
       "        [5, 6, 7],\n",
       "        [0, 0, 0]],\n",
       "\n",
       "       [[0, 0, 0],\n",
       "        [6, 7, 8],\n",
       "        [0, 0, 0]]])"
      ]
     },
     "execution_count": 27,
     "metadata": {},
     "output_type": "execute_result"
    }
   ],
   "source": [
    "res.reshape(-1, 3, 3)"
   ]
  },
  {
   "cell_type": "code",
   "execution_count": 65,
   "id": "01875207",
   "metadata": {},
   "outputs": [
    {
     "data": {
      "text/plain": [
       "(2, 4, 3, 3)"
      ]
     },
     "execution_count": 65,
     "metadata": {},
     "output_type": "execute_result"
    }
   ],
   "source": [
    "res.shape"
   ]
  },
  {
   "cell_type": "code",
   "execution_count": 35,
   "id": "23c823a7",
   "metadata": {},
   "outputs": [],
   "source": [
    "f = np.vectorize(np.sum)"
   ]
  },
  {
   "cell_type": "code",
   "execution_count": 51,
   "id": "63d6d987",
   "metadata": {},
   "outputs": [],
   "source": [
    "f_res = f(res)"
   ]
  },
  {
   "cell_type": "code",
   "execution_count": 52,
   "id": "c43d8499",
   "metadata": {},
   "outputs": [
    {
     "name": "stdout",
     "output_type": "stream",
     "text": [
      "[[[0 0 0]\n",
      "  [7 8 9]\n",
      "  [0 0 0]]\n",
      "\n",
      " [[0 0 0]\n",
      "  [8 9 0]\n",
      "  [0 0 0]]\n",
      "\n",
      " [[0 0 0]\n",
      "  [9 0 1]\n",
      "  [0 0 0]]\n",
      "\n",
      " [[0 0 0]\n",
      "  [0 1 2]\n",
      "  [0 0 0]]]\n",
      "[[[0 0 0]\n",
      "  [3 4 5]\n",
      "  [0 0 0]]\n",
      "\n",
      " [[0 0 0]\n",
      "  [4 5 6]\n",
      "  [0 0 0]]\n",
      "\n",
      " [[0 0 0]\n",
      "  [5 6 7]\n",
      "  [0 0 0]]\n",
      "\n",
      " [[0 0 0]\n",
      "  [6 7 8]\n",
      "  [0 0 0]]]\n"
     ]
    }
   ],
   "source": [
    "for elem in f_res:\n",
    "    print(elem)"
   ]
  },
  {
   "cell_type": "code",
   "execution_count": 37,
   "id": "752f6365",
   "metadata": {},
   "outputs": [],
   "source": [
    "test = np.arange(25).reshape(5,5)"
   ]
  },
  {
   "cell_type": "code",
   "execution_count": 38,
   "id": "9d273b36",
   "metadata": {},
   "outputs": [
    {
     "data": {
      "text/plain": [
       "array([[ 0,  1,  2,  3,  4],\n",
       "       [ 5,  6,  7,  8,  9],\n",
       "       [10, 11, 12, 13, 14],\n",
       "       [15, 16, 17, 18, 19],\n",
       "       [20, 21, 22, 23, 24]])"
      ]
     },
     "execution_count": 38,
     "metadata": {},
     "output_type": "execute_result"
    }
   ],
   "source": [
    "test"
   ]
  },
  {
   "cell_type": "code",
   "execution_count": 63,
   "id": "74d20c8c",
   "metadata": {},
   "outputs": [
    {
     "data": {
      "text/plain": [
       "array([[24, 17, 10,  3],\n",
       "       [12, 15, 18, 21]])"
      ]
     },
     "execution_count": 63,
     "metadata": {},
     "output_type": "execute_result"
    }
   ],
   "source": [
    "np.einsum('ijkl->ij', f_res)"
   ]
  },
  {
   "cell_type": "code",
   "execution_count": 64,
   "id": "8c64933b",
   "metadata": {},
   "outputs": [
    {
     "data": {
      "text/plain": [
       "array([[[[0, 0, 0],\n",
       "         [7, 8, 9],\n",
       "         [0, 0, 0]],\n",
       "\n",
       "        [[0, 0, 0],\n",
       "         [8, 9, 0],\n",
       "         [0, 0, 0]],\n",
       "\n",
       "        [[0, 0, 0],\n",
       "         [9, 0, 1],\n",
       "         [0, 0, 0]],\n",
       "\n",
       "        [[0, 0, 0],\n",
       "         [0, 1, 2],\n",
       "         [0, 0, 0]]],\n",
       "\n",
       "\n",
       "       [[[0, 0, 0],\n",
       "         [3, 4, 5],\n",
       "         [0, 0, 0]],\n",
       "\n",
       "        [[0, 0, 0],\n",
       "         [4, 5, 6],\n",
       "         [0, 0, 0]],\n",
       "\n",
       "        [[0, 0, 0],\n",
       "         [5, 6, 7],\n",
       "         [0, 0, 0]],\n",
       "\n",
       "        [[0, 0, 0],\n",
       "         [6, 7, 8],\n",
       "         [0, 0, 0]]]])"
      ]
     },
     "execution_count": 64,
     "metadata": {},
     "output_type": "execute_result"
    }
   ],
   "source": [
    "f_res"
   ]
  },
  {
   "cell_type": "code",
   "execution_count": 89,
   "id": "6e987082",
   "metadata": {},
   "outputs": [],
   "source": [
    "arr_test = np.zeros((10,10))"
   ]
  },
  {
   "cell_type": "code",
   "execution_count": 68,
   "id": "24f4b265",
   "metadata": {},
   "outputs": [],
   "source": [
    "arr_test[2][8] = 2"
   ]
  },
  {
   "cell_type": "code",
   "execution_count": 79,
   "id": "c4038e7a",
   "metadata": {},
   "outputs": [],
   "source": [
    "arr_res = np.argwhere(arr_test > 3)"
   ]
  },
  {
   "cell_type": "code",
   "execution_count": 80,
   "id": "4f0fd1d3",
   "metadata": {},
   "outputs": [
    {
     "data": {
      "text/plain": [
       "True"
      ]
     },
     "execution_count": 80,
     "metadata": {},
     "output_type": "execute_result"
    }
   ],
   "source": [
    "arr_res.shape[0] == 0"
   ]
  },
  {
   "cell_type": "code",
   "execution_count": 82,
   "id": "ebc2bb80",
   "metadata": {},
   "outputs": [
    {
     "ename": "IndexError",
     "evalue": "index 0 is out of bounds for axis 0 with size 0",
     "output_type": "error",
     "traceback": [
      "\u001b[0;31m---------------------------------------------------------------------------\u001b[0m",
      "\u001b[0;31mIndexError\u001b[0m                                Traceback (most recent call last)",
      "\u001b[0;32m/var/folders/zz/zyxvpxvq6csfxvn_n0003tb8000ykt/T/ipykernel_6101/3667119010.py\u001b[0m in \u001b[0;36m<module>\u001b[0;34m\u001b[0m\n\u001b[0;32m----> 1\u001b[0;31m \u001b[0marr_res\u001b[0m\u001b[0;34m[\u001b[0m\u001b[0;36m0\u001b[0m\u001b[0;34m]\u001b[0m\u001b[0;34m\u001b[0m\u001b[0;34m\u001b[0m\u001b[0m\n\u001b[0m",
      "\u001b[0;31mIndexError\u001b[0m: index 0 is out of bounds for axis 0 with size 0"
     ]
    }
   ],
   "source": [
    "arr_res[0]"
   ]
  },
  {
   "cell_type": "code",
   "execution_count": 84,
   "id": "55898881",
   "metadata": {},
   "outputs": [
    {
     "data": {
      "text/plain": [
       "array([ 0.25, -0.25, -0.25,  0.25])"
      ]
     },
     "execution_count": 84,
     "metadata": {},
     "output_type": "execute_result"
    }
   ],
   "source": [
    "-1 * 0.25 * np.array([-1, 1, 1, -1])"
   ]
  },
  {
   "cell_type": "code",
   "execution_count": 86,
   "id": "89478b56",
   "metadata": {},
   "outputs": [],
   "source": [
    "k_vertical = 0.25 * np.array([[-1], [1], [1], [-1]])\n",
    "k_horizontal = 0.25 * np.array([[-1], [1], [1], [-1]])"
   ]
  },
  {
   "cell_type": "code",
   "execution_count": 90,
   "id": "db252a1c",
   "metadata": {},
   "outputs": [
    {
     "data": {
      "text/plain": [
       "array([[ 0.,  1.,  0.,  0.,  0.,  0.,  0.,  0.,  0.,  0.],\n",
       "       [ 0., -1.,  0.,  0.,  0.,  0.,  0.,  0.,  0.,  0.],\n",
       "       [ 0., -1.,  0.,  0.,  0.,  0.,  0.,  0.,  0.,  0.],\n",
       "       [ 0.,  1.,  0.,  0.,  0.,  0.,  0.,  0.,  0.,  0.],\n",
       "       [ 0.,  0.,  0.,  0.,  0.,  0.,  0.,  0.,  0.,  0.],\n",
       "       [ 0.,  0.,  0.,  0.,  0.,  0.,  0.,  0.,  0.,  0.],\n",
       "       [ 0.,  0.,  0.,  0.,  0.,  0.,  0.,  0.,  0.,  0.],\n",
       "       [ 0.,  0.,  0.,  0.,  0.,  0.,  0.,  0.,  0.,  0.],\n",
       "       [ 0.,  0.,  0.,  0.,  0.,  0.,  0.,  0.,  0.,  0.],\n",
       "       [ 0.,  0.,  0.,  0.,  0.,  0.,  0.,  0.,  0.,  0.]])"
      ]
     },
     "execution_count": 90,
     "metadata": {},
     "output_type": "execute_result"
    }
   ],
   "source": [
    "arr_test[0][1] = 1\n",
    "arr_test[1][1] = -1\n",
    "arr_test[2][1] = -1\n",
    "arr_test[3][1] = 1\n",
    "arr_test"
   ]
  },
  {
   "cell_type": "code",
   "execution_count": 95,
   "id": "d3386aa6",
   "metadata": {},
   "outputs": [],
   "source": [
    "k_diags = np.array([0.25 * np.array([[-1, 0, 0, 0],\n",
    "                                    [0, 1, 0, 0],\n",
    "                                    [0, 0, 1, 0],\n",
    "                                    [0, 0, 0, -1]]),\n",
    "                    0.25 * np.array([[0, 0, 0, -1],\n",
    "                                    [0, 0, 1, 0],\n",
    "                                    [0, 1, 0, 0],\n",
    "                                    [-1, 0, 0, 0]])])\n",
    "\n",
    "k_lines = [0.25 * np.array([[-1, 1, 1, -1]]), 0.25 * np.array([[-1],[1],[1],[-1]])]\n",
    "\n",
    "def _subboard_4_Conv2D(grid, k_shape:tuple, stride:tuple) -> np.array:\n",
    "    \"\"\" Generates the sub view of the grid to be multiply with the kernel.\n",
    "    First the shape of the sub_grid array is calculated, it depends on\n",
    "    the grid shape and the kernel shape.\n",
    "    The sub_grid array shape will be (n_x, n_y, k_x, k_y) with:\n",
    "        * n_x: number of application of the kernel along row (with stride of 1)\n",
    "        * n_y: number of application of the kernel along column (with stride of 1)\n",
    "        * k_x, k_y: the shape of the kernel\n",
    "    In this way sub_grid is a numpy array of n_x/n_y rows/columns of (k_x x k_y)\n",
    "    sub view of the grid.\n",
    "    Args:\n",
    "    -----\n",
    "        k_shape ([tuple[int]]): shape of the kernel\n",
    "        stride ([tuple(int)]): put self.grid.strides * 2 (but why?)\n",
    "    \"\"\"\n",
    "    view_shape = tuple(np.subtract(grid.shape, k_shape) + 1) + k_shape\n",
    "    sub_grid = as_strided(grid, view_shape, stride * 2)\n",
    "    return sub_grid\n",
    "\n",
    "\n",
    "def _my_conv2D(grid, kernel:np.array) -> np.array:\n",
    "    \"\"\" Retrieves the sub_grid from the function _subboard_4_Conv2D and performs\n",
    "    the convolution (array multiplication + einstein sum along the 3rd and 4th\n",
    "    dimensions).\n",
    "    Args:\n",
    "    -----\n",
    "        * kernel ([np.array]): the kernel to use for convolution.\n",
    "    \"\"\"\n",
    "    sub_grid = _subboard_4_Conv2D(grid, k_shape=kernel.shape, stride=grid.strides)\n",
    "    res_conv = np.multiply(sub_grid, kernel)\n",
    "    convolved = np.einsum('ijkl->kl', res_conv)\n",
    "    return convolved.astype('int8')\n",
    "\n",
    "\n",
    "def check_board(grid):\n",
    "    \"\"\"[summary]\n",
    "    \"\"\"\n",
    "    ## Checking if white pair captured\n",
    "    # Checking the diagonal:\n",
    "    conv_diag1 = _my_conv2D(k_diags[0])\n",
    "    conv_diag2 = _my_conv2D(k_diags[1])\n",
    "    # Checking vertical and horizontal\n",
    "    conv_lin1 = _my_conv2D(k_lines[0])\n",
    "    conv_lin2 = _my_conv2D(k_lines[1])\n",
    "    \n",
    "    coord_cd1 = np.argwhere(conv_diag1 == 1)\n",
    "    coord_cd2 = np.argwhere(conv_diag2 == 1)\n",
    "    coord_cl1 = np.argwhere(conv_lin1 == 1)\n",
    "    coord_cl2 = np.argwhere(conv_lin2 == 1)\n",
    "    if coord_cd1.shape[0] != 0:\n",
    "        for coord in coord_cd1:\n",
    "            print(\"[check_board] - conv_diag1\")\n",
    "            grid[coord[0] + 1][coord[1] + 1] = 0\n",
    "            grid[coord[0] + 2][coord[1] + 2] = 0\n",
    "    if coord_cd2.shape[0] != 0:\n",
    "        for coord in coord_cd2:\n",
    "            print(\"[check_board] - conv_diag2\")\n",
    "            grid[coord[0] + 1][coord[1] + 2] = 0\n",
    "            grid[coord[0] + 2][coord[1] + 1] = 0\n",
    "    if coord_cl1.shape[0] != 0:\n",
    "        for coord in coord_cl1:\n",
    "            print(\"[check_board] - conv_lin1\")\n",
    "            grid[coord[0]][coord[1] + 1] = 0\n",
    "            grid[coord[0]][coord[1] + 2] = 0\n",
    "    if coord_cl2.shape[0] != 0:\n",
    "        for coord in coord_cl2:\n",
    "            print(\"[check_board] - conv_lin2\")\n",
    "            grid[coord[0] + 1][coord[1]] = 0\n",
    "            grid[coord[0] + 2][coord[1]] = 0\n",
    "    ## Checking if black pair captured\n",
    "    # Checking the diagonal:\n",
    "    conv_diag1 = _my_conv2D(-1 * k_diags[0])\n",
    "    conv_diag2 = _my_conv2D(-1 * k_diags[1])\n",
    "    # Checking vertical and horizontal\n",
    "    conv_lin1 = _my_conv2D(-1 * k_lines[0])\n",
    "    conv_lin2 = _my_conv2D(-1 * k_lines[1])\n",
    "    print(\"<<<== CONV_LIN1 ==>>>\")\n",
    "    print(conv_lin1)\n",
    "    print(\"<<<== CONV_LIN2 ==>>>\")\n",
    "    print(conv_lin2)\n",
    "    print(\"<<<== ========= ==>>>\")\n",
    "    coord_cd1 = np.argwhere(conv_diag1 == 1)\n",
    "    coord_cd2 = np.argwhere(conv_diag2 == 1)\n",
    "    coord_cl1 = np.argwhere(conv_lin1 == 1)\n",
    "    coord_cl2 = np.argwhere(conv_lin2 == 1)\n",
    "    if coord_cd1.shape[0] != 0:\n",
    "        for coord in coord_cd1:\n",
    "            print(\"[check_board] - conv_diag1 -1\")\n",
    "            grid[coord[0] + 1][coord[1] + 1] = 0\n",
    "            grid[coord[0] + 2][coord[1] + 2] = 0\n",
    "    if coord_cd2.shape[0] != 0:\n",
    "        for coord in coord_cd2:\n",
    "            print(\"[check_board] - conv_diag2 -1\")\n",
    "            grid[coord[0] + 1][coord[1] + 2] = 0\n",
    "            grid[coord[0] + 2][coord[1] + 1] = 0\n",
    "    if coord_cl1.shape[0] != 0:\n",
    "        for coord in coord_cl1:\n",
    "            print(\"[check_board] - conv_lin1 -1\")\n",
    "            grid[coord[0]][coord[1] + 1] = 0\n",
    "            grid[coord[0]][coord[1] + 2] = 0\n",
    "    if coord_cl2.shape[0] != 0:\n",
    "        for coord in coord_cl2:\n",
    "            print(\"[check_board] - conv_lin2 -1\")\n",
    "            grid[coord[0] + 1][coord[1]] = 0\n",
    "            grid[coord[0] + 2][coord[1]] = 0"
   ]
  },
  {
   "cell_type": "code",
   "execution_count": 97,
   "id": "56c50eb1",
   "metadata": {},
   "outputs": [
    {
     "ename": "TypeError",
     "evalue": "only integer scalar arrays can be converted to a scalar index",
     "output_type": "error",
     "traceback": [
      "\u001b[0;31m---------------------------------------------------------------------------\u001b[0m",
      "\u001b[0;31mTypeError\u001b[0m                                 Traceback (most recent call last)",
      "\u001b[0;32m/var/folders/zz/zyxvpxvq6csfxvn_n0003tb8000ykt/T/ipykernel_6101/2689828924.py\u001b[0m in \u001b[0;36m<module>\u001b[0;34m\u001b[0m\n\u001b[0;32m----> 1\u001b[0;31m \u001b[0m_subboard_4_Conv2D\u001b[0m\u001b[0;34m(\u001b[0m\u001b[0marr_test\u001b[0m\u001b[0;34m,\u001b[0m \u001b[0mk_vertical\u001b[0m\u001b[0;34m,\u001b[0m \u001b[0marr_test\u001b[0m\u001b[0;34m.\u001b[0m\u001b[0mstrides\u001b[0m\u001b[0;34m)\u001b[0m\u001b[0;34m\u001b[0m\u001b[0;34m\u001b[0m\u001b[0m\n\u001b[0m",
      "\u001b[0;32m/var/folders/zz/zyxvpxvq6csfxvn_n0003tb8000ykt/T/ipykernel_6101/3035605129.py\u001b[0m in \u001b[0;36m_subboard_4_Conv2D\u001b[0;34m(grid, k_shape, stride)\u001b[0m\n\u001b[1;32m     26\u001b[0m     \"\"\"\n\u001b[1;32m     27\u001b[0m     \u001b[0mview_shape\u001b[0m \u001b[0;34m=\u001b[0m \u001b[0mtuple\u001b[0m\u001b[0;34m(\u001b[0m\u001b[0mnp\u001b[0m\u001b[0;34m.\u001b[0m\u001b[0msubtract\u001b[0m\u001b[0;34m(\u001b[0m\u001b[0mgrid\u001b[0m\u001b[0;34m.\u001b[0m\u001b[0mshape\u001b[0m\u001b[0;34m,\u001b[0m \u001b[0mk_shape\u001b[0m\u001b[0;34m)\u001b[0m \u001b[0;34m+\u001b[0m \u001b[0;36m1\u001b[0m\u001b[0;34m)\u001b[0m \u001b[0;34m+\u001b[0m \u001b[0mk_shape\u001b[0m\u001b[0;34m\u001b[0m\u001b[0;34m\u001b[0m\u001b[0m\n\u001b[0;32m---> 28\u001b[0;31m     \u001b[0msub_grid\u001b[0m \u001b[0;34m=\u001b[0m \u001b[0mas_strided\u001b[0m\u001b[0;34m(\u001b[0m\u001b[0mgrid\u001b[0m\u001b[0;34m,\u001b[0m \u001b[0mview_shape\u001b[0m\u001b[0;34m,\u001b[0m \u001b[0mstride\u001b[0m \u001b[0;34m*\u001b[0m \u001b[0;36m2\u001b[0m\u001b[0;34m)\u001b[0m\u001b[0;34m\u001b[0m\u001b[0;34m\u001b[0m\u001b[0m\n\u001b[0m\u001b[1;32m     29\u001b[0m     \u001b[0;32mreturn\u001b[0m \u001b[0msub_grid\u001b[0m\u001b[0;34m\u001b[0m\u001b[0;34m\u001b[0m\u001b[0m\n\u001b[1;32m     30\u001b[0m \u001b[0;34m\u001b[0m\u001b[0m\n",
      "\u001b[0;32m/sgoinfre/goinfre/Perso/mdavid/miniconda3/lib/python3.9/site-packages/numpy/lib/stride_tricks.py\u001b[0m in \u001b[0;36mas_strided\u001b[0;34m(x, shape, strides, subok, writeable)\u001b[0m\n\u001b[1;32m    102\u001b[0m         \u001b[0minterface\u001b[0m\u001b[0;34m[\u001b[0m\u001b[0;34m'strides'\u001b[0m\u001b[0;34m]\u001b[0m \u001b[0;34m=\u001b[0m \u001b[0mtuple\u001b[0m\u001b[0;34m(\u001b[0m\u001b[0mstrides\u001b[0m\u001b[0;34m)\u001b[0m\u001b[0;34m\u001b[0m\u001b[0;34m\u001b[0m\u001b[0m\n\u001b[1;32m    103\u001b[0m \u001b[0;34m\u001b[0m\u001b[0m\n\u001b[0;32m--> 104\u001b[0;31m     \u001b[0marray\u001b[0m \u001b[0;34m=\u001b[0m \u001b[0mnp\u001b[0m\u001b[0;34m.\u001b[0m\u001b[0masarray\u001b[0m\u001b[0;34m(\u001b[0m\u001b[0mDummyArray\u001b[0m\u001b[0;34m(\u001b[0m\u001b[0minterface\u001b[0m\u001b[0;34m,\u001b[0m \u001b[0mbase\u001b[0m\u001b[0;34m=\u001b[0m\u001b[0mx\u001b[0m\u001b[0;34m)\u001b[0m\u001b[0;34m)\u001b[0m\u001b[0;34m\u001b[0m\u001b[0;34m\u001b[0m\u001b[0m\n\u001b[0m\u001b[1;32m    105\u001b[0m     \u001b[0;31m# The route via `__interface__` does not preserve structured\u001b[0m\u001b[0;34m\u001b[0m\u001b[0;34m\u001b[0m\u001b[0;34m\u001b[0m\u001b[0m\n\u001b[1;32m    106\u001b[0m     \u001b[0;31m# dtypes. Since dtype should remain unchanged, we set it explicitly.\u001b[0m\u001b[0;34m\u001b[0m\u001b[0;34m\u001b[0m\u001b[0;34m\u001b[0m\u001b[0m\n",
      "\u001b[0;31mTypeError\u001b[0m: only integer scalar arrays can be converted to a scalar index"
     ]
    }
   ],
   "source": [
    "_subboard_4_Conv2D(arr_test, k_vertical, arr_test.strides)"
   ]
  },
  {
   "cell_type": "code",
   "execution_count": 99,
   "id": "85e33568",
   "metadata": {},
   "outputs": [],
   "source": [
    "view_shape = tuple(np.subtract(arr_test.shape, k_vertical.shape) + 1) + k_vertical.shape"
   ]
  },
  {
   "cell_type": "code",
   "execution_count": 100,
   "id": "7e16ac2e",
   "metadata": {},
   "outputs": [
    {
     "data": {
      "text/plain": [
       "(7, 10, 4, 1)"
      ]
     },
     "execution_count": 100,
     "metadata": {},
     "output_type": "execute_result"
    }
   ],
   "source": [
    "view_shape"
   ]
  },
  {
   "cell_type": "code",
   "execution_count": 101,
   "id": "930b2990",
   "metadata": {},
   "outputs": [],
   "source": [
    "sub_grid = as_strided(arr_test, view_shape, arr_test.strides * 2)\n"
   ]
  },
  {
   "cell_type": "code",
   "execution_count": 102,
   "id": "c92f3099",
   "metadata": {},
   "outputs": [
    {
     "data": {
      "text/plain": [
       "array([[[[ 0.],\n",
       "         [ 0.],\n",
       "         [ 0.],\n",
       "         [ 0.]],\n",
       "\n",
       "        [[ 1.],\n",
       "         [-1.],\n",
       "         [-1.],\n",
       "         [ 1.]],\n",
       "\n",
       "        [[ 0.],\n",
       "         [ 0.],\n",
       "         [ 0.],\n",
       "         [ 0.]],\n",
       "\n",
       "        [[ 0.],\n",
       "         [ 0.],\n",
       "         [ 0.],\n",
       "         [ 0.]],\n",
       "\n",
       "        [[ 0.],\n",
       "         [ 0.],\n",
       "         [ 0.],\n",
       "         [ 0.]],\n",
       "\n",
       "        [[ 0.],\n",
       "         [ 0.],\n",
       "         [ 0.],\n",
       "         [ 0.]],\n",
       "\n",
       "        [[ 0.],\n",
       "         [ 0.],\n",
       "         [ 0.],\n",
       "         [ 0.]],\n",
       "\n",
       "        [[ 0.],\n",
       "         [ 0.],\n",
       "         [ 0.],\n",
       "         [ 0.]],\n",
       "\n",
       "        [[ 0.],\n",
       "         [ 0.],\n",
       "         [ 0.],\n",
       "         [ 0.]],\n",
       "\n",
       "        [[ 0.],\n",
       "         [ 0.],\n",
       "         [ 0.],\n",
       "         [ 0.]]],\n",
       "\n",
       "\n",
       "       [[[ 0.],\n",
       "         [ 0.],\n",
       "         [ 0.],\n",
       "         [ 0.]],\n",
       "\n",
       "        [[-1.],\n",
       "         [-1.],\n",
       "         [ 1.],\n",
       "         [ 0.]],\n",
       "\n",
       "        [[ 0.],\n",
       "         [ 0.],\n",
       "         [ 0.],\n",
       "         [ 0.]],\n",
       "\n",
       "        [[ 0.],\n",
       "         [ 0.],\n",
       "         [ 0.],\n",
       "         [ 0.]],\n",
       "\n",
       "        [[ 0.],\n",
       "         [ 0.],\n",
       "         [ 0.],\n",
       "         [ 0.]],\n",
       "\n",
       "        [[ 0.],\n",
       "         [ 0.],\n",
       "         [ 0.],\n",
       "         [ 0.]],\n",
       "\n",
       "        [[ 0.],\n",
       "         [ 0.],\n",
       "         [ 0.],\n",
       "         [ 0.]],\n",
       "\n",
       "        [[ 0.],\n",
       "         [ 0.],\n",
       "         [ 0.],\n",
       "         [ 0.]],\n",
       "\n",
       "        [[ 0.],\n",
       "         [ 0.],\n",
       "         [ 0.],\n",
       "         [ 0.]],\n",
       "\n",
       "        [[ 0.],\n",
       "         [ 0.],\n",
       "         [ 0.],\n",
       "         [ 0.]]],\n",
       "\n",
       "\n",
       "       [[[ 0.],\n",
       "         [ 0.],\n",
       "         [ 0.],\n",
       "         [ 0.]],\n",
       "\n",
       "        [[-1.],\n",
       "         [ 1.],\n",
       "         [ 0.],\n",
       "         [ 0.]],\n",
       "\n",
       "        [[ 0.],\n",
       "         [ 0.],\n",
       "         [ 0.],\n",
       "         [ 0.]],\n",
       "\n",
       "        [[ 0.],\n",
       "         [ 0.],\n",
       "         [ 0.],\n",
       "         [ 0.]],\n",
       "\n",
       "        [[ 0.],\n",
       "         [ 0.],\n",
       "         [ 0.],\n",
       "         [ 0.]],\n",
       "\n",
       "        [[ 0.],\n",
       "         [ 0.],\n",
       "         [ 0.],\n",
       "         [ 0.]],\n",
       "\n",
       "        [[ 0.],\n",
       "         [ 0.],\n",
       "         [ 0.],\n",
       "         [ 0.]],\n",
       "\n",
       "        [[ 0.],\n",
       "         [ 0.],\n",
       "         [ 0.],\n",
       "         [ 0.]],\n",
       "\n",
       "        [[ 0.],\n",
       "         [ 0.],\n",
       "         [ 0.],\n",
       "         [ 0.]],\n",
       "\n",
       "        [[ 0.],\n",
       "         [ 0.],\n",
       "         [ 0.],\n",
       "         [ 0.]]],\n",
       "\n",
       "\n",
       "       [[[ 0.],\n",
       "         [ 0.],\n",
       "         [ 0.],\n",
       "         [ 0.]],\n",
       "\n",
       "        [[ 1.],\n",
       "         [ 0.],\n",
       "         [ 0.],\n",
       "         [ 0.]],\n",
       "\n",
       "        [[ 0.],\n",
       "         [ 0.],\n",
       "         [ 0.],\n",
       "         [ 0.]],\n",
       "\n",
       "        [[ 0.],\n",
       "         [ 0.],\n",
       "         [ 0.],\n",
       "         [ 0.]],\n",
       "\n",
       "        [[ 0.],\n",
       "         [ 0.],\n",
       "         [ 0.],\n",
       "         [ 0.]],\n",
       "\n",
       "        [[ 0.],\n",
       "         [ 0.],\n",
       "         [ 0.],\n",
       "         [ 0.]],\n",
       "\n",
       "        [[ 0.],\n",
       "         [ 0.],\n",
       "         [ 0.],\n",
       "         [ 0.]],\n",
       "\n",
       "        [[ 0.],\n",
       "         [ 0.],\n",
       "         [ 0.],\n",
       "         [ 0.]],\n",
       "\n",
       "        [[ 0.],\n",
       "         [ 0.],\n",
       "         [ 0.],\n",
       "         [ 0.]],\n",
       "\n",
       "        [[ 0.],\n",
       "         [ 0.],\n",
       "         [ 0.],\n",
       "         [ 0.]]],\n",
       "\n",
       "\n",
       "       [[[ 0.],\n",
       "         [ 0.],\n",
       "         [ 0.],\n",
       "         [ 0.]],\n",
       "\n",
       "        [[ 0.],\n",
       "         [ 0.],\n",
       "         [ 0.],\n",
       "         [ 0.]],\n",
       "\n",
       "        [[ 0.],\n",
       "         [ 0.],\n",
       "         [ 0.],\n",
       "         [ 0.]],\n",
       "\n",
       "        [[ 0.],\n",
       "         [ 0.],\n",
       "         [ 0.],\n",
       "         [ 0.]],\n",
       "\n",
       "        [[ 0.],\n",
       "         [ 0.],\n",
       "         [ 0.],\n",
       "         [ 0.]],\n",
       "\n",
       "        [[ 0.],\n",
       "         [ 0.],\n",
       "         [ 0.],\n",
       "         [ 0.]],\n",
       "\n",
       "        [[ 0.],\n",
       "         [ 0.],\n",
       "         [ 0.],\n",
       "         [ 0.]],\n",
       "\n",
       "        [[ 0.],\n",
       "         [ 0.],\n",
       "         [ 0.],\n",
       "         [ 0.]],\n",
       "\n",
       "        [[ 0.],\n",
       "         [ 0.],\n",
       "         [ 0.],\n",
       "         [ 0.]],\n",
       "\n",
       "        [[ 0.],\n",
       "         [ 0.],\n",
       "         [ 0.],\n",
       "         [ 0.]]],\n",
       "\n",
       "\n",
       "       [[[ 0.],\n",
       "         [ 0.],\n",
       "         [ 0.],\n",
       "         [ 0.]],\n",
       "\n",
       "        [[ 0.],\n",
       "         [ 0.],\n",
       "         [ 0.],\n",
       "         [ 0.]],\n",
       "\n",
       "        [[ 0.],\n",
       "         [ 0.],\n",
       "         [ 0.],\n",
       "         [ 0.]],\n",
       "\n",
       "        [[ 0.],\n",
       "         [ 0.],\n",
       "         [ 0.],\n",
       "         [ 0.]],\n",
       "\n",
       "        [[ 0.],\n",
       "         [ 0.],\n",
       "         [ 0.],\n",
       "         [ 0.]],\n",
       "\n",
       "        [[ 0.],\n",
       "         [ 0.],\n",
       "         [ 0.],\n",
       "         [ 0.]],\n",
       "\n",
       "        [[ 0.],\n",
       "         [ 0.],\n",
       "         [ 0.],\n",
       "         [ 0.]],\n",
       "\n",
       "        [[ 0.],\n",
       "         [ 0.],\n",
       "         [ 0.],\n",
       "         [ 0.]],\n",
       "\n",
       "        [[ 0.],\n",
       "         [ 0.],\n",
       "         [ 0.],\n",
       "         [ 0.]],\n",
       "\n",
       "        [[ 0.],\n",
       "         [ 0.],\n",
       "         [ 0.],\n",
       "         [ 0.]]],\n",
       "\n",
       "\n",
       "       [[[ 0.],\n",
       "         [ 0.],\n",
       "         [ 0.],\n",
       "         [ 0.]],\n",
       "\n",
       "        [[ 0.],\n",
       "         [ 0.],\n",
       "         [ 0.],\n",
       "         [ 0.]],\n",
       "\n",
       "        [[ 0.],\n",
       "         [ 0.],\n",
       "         [ 0.],\n",
       "         [ 0.]],\n",
       "\n",
       "        [[ 0.],\n",
       "         [ 0.],\n",
       "         [ 0.],\n",
       "         [ 0.]],\n",
       "\n",
       "        [[ 0.],\n",
       "         [ 0.],\n",
       "         [ 0.],\n",
       "         [ 0.]],\n",
       "\n",
       "        [[ 0.],\n",
       "         [ 0.],\n",
       "         [ 0.],\n",
       "         [ 0.]],\n",
       "\n",
       "        [[ 0.],\n",
       "         [ 0.],\n",
       "         [ 0.],\n",
       "         [ 0.]],\n",
       "\n",
       "        [[ 0.],\n",
       "         [ 0.],\n",
       "         [ 0.],\n",
       "         [ 0.]],\n",
       "\n",
       "        [[ 0.],\n",
       "         [ 0.],\n",
       "         [ 0.],\n",
       "         [ 0.]],\n",
       "\n",
       "        [[ 0.],\n",
       "         [ 0.],\n",
       "         [ 0.],\n",
       "         [ 0.]]]])"
      ]
     },
     "execution_count": 102,
     "metadata": {},
     "output_type": "execute_result"
    }
   ],
   "source": [
    "sub_grid"
   ]
  },
  {
   "cell_type": "code",
   "execution_count": 103,
   "id": "b0ef557c",
   "metadata": {},
   "outputs": [],
   "source": [
    "res_conv = np.multiply(sub_grid, k_vertical)\n"
   ]
  },
  {
   "cell_type": "code",
   "execution_count": 104,
   "id": "846c71cf",
   "metadata": {},
   "outputs": [
    {
     "data": {
      "text/plain": [
       "array([[[[-0.  ],\n",
       "         [ 0.  ],\n",
       "         [ 0.  ],\n",
       "         [-0.  ]],\n",
       "\n",
       "        [[-0.25],\n",
       "         [-0.25],\n",
       "         [-0.25],\n",
       "         [-0.25]],\n",
       "\n",
       "        [[-0.  ],\n",
       "         [ 0.  ],\n",
       "         [ 0.  ],\n",
       "         [-0.  ]],\n",
       "\n",
       "        [[-0.  ],\n",
       "         [ 0.  ],\n",
       "         [ 0.  ],\n",
       "         [-0.  ]],\n",
       "\n",
       "        [[-0.  ],\n",
       "         [ 0.  ],\n",
       "         [ 0.  ],\n",
       "         [-0.  ]],\n",
       "\n",
       "        [[-0.  ],\n",
       "         [ 0.  ],\n",
       "         [ 0.  ],\n",
       "         [-0.  ]],\n",
       "\n",
       "        [[-0.  ],\n",
       "         [ 0.  ],\n",
       "         [ 0.  ],\n",
       "         [-0.  ]],\n",
       "\n",
       "        [[-0.  ],\n",
       "         [ 0.  ],\n",
       "         [ 0.  ],\n",
       "         [-0.  ]],\n",
       "\n",
       "        [[-0.  ],\n",
       "         [ 0.  ],\n",
       "         [ 0.  ],\n",
       "         [-0.  ]],\n",
       "\n",
       "        [[-0.  ],\n",
       "         [ 0.  ],\n",
       "         [ 0.  ],\n",
       "         [-0.  ]]],\n",
       "\n",
       "\n",
       "       [[[-0.  ],\n",
       "         [ 0.  ],\n",
       "         [ 0.  ],\n",
       "         [-0.  ]],\n",
       "\n",
       "        [[ 0.25],\n",
       "         [-0.25],\n",
       "         [ 0.25],\n",
       "         [-0.  ]],\n",
       "\n",
       "        [[-0.  ],\n",
       "         [ 0.  ],\n",
       "         [ 0.  ],\n",
       "         [-0.  ]],\n",
       "\n",
       "        [[-0.  ],\n",
       "         [ 0.  ],\n",
       "         [ 0.  ],\n",
       "         [-0.  ]],\n",
       "\n",
       "        [[-0.  ],\n",
       "         [ 0.  ],\n",
       "         [ 0.  ],\n",
       "         [-0.  ]],\n",
       "\n",
       "        [[-0.  ],\n",
       "         [ 0.  ],\n",
       "         [ 0.  ],\n",
       "         [-0.  ]],\n",
       "\n",
       "        [[-0.  ],\n",
       "         [ 0.  ],\n",
       "         [ 0.  ],\n",
       "         [-0.  ]],\n",
       "\n",
       "        [[-0.  ],\n",
       "         [ 0.  ],\n",
       "         [ 0.  ],\n",
       "         [-0.  ]],\n",
       "\n",
       "        [[-0.  ],\n",
       "         [ 0.  ],\n",
       "         [ 0.  ],\n",
       "         [-0.  ]],\n",
       "\n",
       "        [[-0.  ],\n",
       "         [ 0.  ],\n",
       "         [ 0.  ],\n",
       "         [-0.  ]]],\n",
       "\n",
       "\n",
       "       [[[-0.  ],\n",
       "         [ 0.  ],\n",
       "         [ 0.  ],\n",
       "         [-0.  ]],\n",
       "\n",
       "        [[ 0.25],\n",
       "         [ 0.25],\n",
       "         [ 0.  ],\n",
       "         [-0.  ]],\n",
       "\n",
       "        [[-0.  ],\n",
       "         [ 0.  ],\n",
       "         [ 0.  ],\n",
       "         [-0.  ]],\n",
       "\n",
       "        [[-0.  ],\n",
       "         [ 0.  ],\n",
       "         [ 0.  ],\n",
       "         [-0.  ]],\n",
       "\n",
       "        [[-0.  ],\n",
       "         [ 0.  ],\n",
       "         [ 0.  ],\n",
       "         [-0.  ]],\n",
       "\n",
       "        [[-0.  ],\n",
       "         [ 0.  ],\n",
       "         [ 0.  ],\n",
       "         [-0.  ]],\n",
       "\n",
       "        [[-0.  ],\n",
       "         [ 0.  ],\n",
       "         [ 0.  ],\n",
       "         [-0.  ]],\n",
       "\n",
       "        [[-0.  ],\n",
       "         [ 0.  ],\n",
       "         [ 0.  ],\n",
       "         [-0.  ]],\n",
       "\n",
       "        [[-0.  ],\n",
       "         [ 0.  ],\n",
       "         [ 0.  ],\n",
       "         [-0.  ]],\n",
       "\n",
       "        [[-0.  ],\n",
       "         [ 0.  ],\n",
       "         [ 0.  ],\n",
       "         [-0.  ]]],\n",
       "\n",
       "\n",
       "       [[[-0.  ],\n",
       "         [ 0.  ],\n",
       "         [ 0.  ],\n",
       "         [-0.  ]],\n",
       "\n",
       "        [[-0.25],\n",
       "         [ 0.  ],\n",
       "         [ 0.  ],\n",
       "         [-0.  ]],\n",
       "\n",
       "        [[-0.  ],\n",
       "         [ 0.  ],\n",
       "         [ 0.  ],\n",
       "         [-0.  ]],\n",
       "\n",
       "        [[-0.  ],\n",
       "         [ 0.  ],\n",
       "         [ 0.  ],\n",
       "         [-0.  ]],\n",
       "\n",
       "        [[-0.  ],\n",
       "         [ 0.  ],\n",
       "         [ 0.  ],\n",
       "         [-0.  ]],\n",
       "\n",
       "        [[-0.  ],\n",
       "         [ 0.  ],\n",
       "         [ 0.  ],\n",
       "         [-0.  ]],\n",
       "\n",
       "        [[-0.  ],\n",
       "         [ 0.  ],\n",
       "         [ 0.  ],\n",
       "         [-0.  ]],\n",
       "\n",
       "        [[-0.  ],\n",
       "         [ 0.  ],\n",
       "         [ 0.  ],\n",
       "         [-0.  ]],\n",
       "\n",
       "        [[-0.  ],\n",
       "         [ 0.  ],\n",
       "         [ 0.  ],\n",
       "         [-0.  ]],\n",
       "\n",
       "        [[-0.  ],\n",
       "         [ 0.  ],\n",
       "         [ 0.  ],\n",
       "         [-0.  ]]],\n",
       "\n",
       "\n",
       "       [[[-0.  ],\n",
       "         [ 0.  ],\n",
       "         [ 0.  ],\n",
       "         [-0.  ]],\n",
       "\n",
       "        [[-0.  ],\n",
       "         [ 0.  ],\n",
       "         [ 0.  ],\n",
       "         [-0.  ]],\n",
       "\n",
       "        [[-0.  ],\n",
       "         [ 0.  ],\n",
       "         [ 0.  ],\n",
       "         [-0.  ]],\n",
       "\n",
       "        [[-0.  ],\n",
       "         [ 0.  ],\n",
       "         [ 0.  ],\n",
       "         [-0.  ]],\n",
       "\n",
       "        [[-0.  ],\n",
       "         [ 0.  ],\n",
       "         [ 0.  ],\n",
       "         [-0.  ]],\n",
       "\n",
       "        [[-0.  ],\n",
       "         [ 0.  ],\n",
       "         [ 0.  ],\n",
       "         [-0.  ]],\n",
       "\n",
       "        [[-0.  ],\n",
       "         [ 0.  ],\n",
       "         [ 0.  ],\n",
       "         [-0.  ]],\n",
       "\n",
       "        [[-0.  ],\n",
       "         [ 0.  ],\n",
       "         [ 0.  ],\n",
       "         [-0.  ]],\n",
       "\n",
       "        [[-0.  ],\n",
       "         [ 0.  ],\n",
       "         [ 0.  ],\n",
       "         [-0.  ]],\n",
       "\n",
       "        [[-0.  ],\n",
       "         [ 0.  ],\n",
       "         [ 0.  ],\n",
       "         [-0.  ]]],\n",
       "\n",
       "\n",
       "       [[[-0.  ],\n",
       "         [ 0.  ],\n",
       "         [ 0.  ],\n",
       "         [-0.  ]],\n",
       "\n",
       "        [[-0.  ],\n",
       "         [ 0.  ],\n",
       "         [ 0.  ],\n",
       "         [-0.  ]],\n",
       "\n",
       "        [[-0.  ],\n",
       "         [ 0.  ],\n",
       "         [ 0.  ],\n",
       "         [-0.  ]],\n",
       "\n",
       "        [[-0.  ],\n",
       "         [ 0.  ],\n",
       "         [ 0.  ],\n",
       "         [-0.  ]],\n",
       "\n",
       "        [[-0.  ],\n",
       "         [ 0.  ],\n",
       "         [ 0.  ],\n",
       "         [-0.  ]],\n",
       "\n",
       "        [[-0.  ],\n",
       "         [ 0.  ],\n",
       "         [ 0.  ],\n",
       "         [-0.  ]],\n",
       "\n",
       "        [[-0.  ],\n",
       "         [ 0.  ],\n",
       "         [ 0.  ],\n",
       "         [-0.  ]],\n",
       "\n",
       "        [[-0.  ],\n",
       "         [ 0.  ],\n",
       "         [ 0.  ],\n",
       "         [-0.  ]],\n",
       "\n",
       "        [[-0.  ],\n",
       "         [ 0.  ],\n",
       "         [ 0.  ],\n",
       "         [-0.  ]],\n",
       "\n",
       "        [[-0.  ],\n",
       "         [ 0.  ],\n",
       "         [ 0.  ],\n",
       "         [-0.  ]]],\n",
       "\n",
       "\n",
       "       [[[-0.  ],\n",
       "         [ 0.  ],\n",
       "         [ 0.  ],\n",
       "         [-0.  ]],\n",
       "\n",
       "        [[-0.  ],\n",
       "         [ 0.  ],\n",
       "         [ 0.  ],\n",
       "         [-0.  ]],\n",
       "\n",
       "        [[-0.  ],\n",
       "         [ 0.  ],\n",
       "         [ 0.  ],\n",
       "         [-0.  ]],\n",
       "\n",
       "        [[-0.  ],\n",
       "         [ 0.  ],\n",
       "         [ 0.  ],\n",
       "         [-0.  ]],\n",
       "\n",
       "        [[-0.  ],\n",
       "         [ 0.  ],\n",
       "         [ 0.  ],\n",
       "         [-0.  ]],\n",
       "\n",
       "        [[-0.  ],\n",
       "         [ 0.  ],\n",
       "         [ 0.  ],\n",
       "         [-0.  ]],\n",
       "\n",
       "        [[-0.  ],\n",
       "         [ 0.  ],\n",
       "         [ 0.  ],\n",
       "         [-0.  ]],\n",
       "\n",
       "        [[-0.  ],\n",
       "         [ 0.  ],\n",
       "         [ 0.  ],\n",
       "         [-0.  ]],\n",
       "\n",
       "        [[-0.  ],\n",
       "         [ 0.  ],\n",
       "         [ 0.  ],\n",
       "         [-0.  ]],\n",
       "\n",
       "        [[-0.  ],\n",
       "         [ 0.  ],\n",
       "         [ 0.  ],\n",
       "         [-0.  ]]]])"
      ]
     },
     "execution_count": 104,
     "metadata": {},
     "output_type": "execute_result"
    }
   ],
   "source": [
    "res_conv"
   ]
  },
  {
   "cell_type": "code",
   "execution_count": 105,
   "id": "8e755c09",
   "metadata": {},
   "outputs": [],
   "source": [
    "convolved = np.einsum('ijkl->kl', res_conv)"
   ]
  },
  {
   "cell_type": "code",
   "execution_count": 106,
   "id": "0e79e9e1",
   "metadata": {},
   "outputs": [
    {
     "data": {
      "text/plain": [
       "array([[ 0.  ],\n",
       "       [-0.25],\n",
       "       [ 0.  ],\n",
       "       [-0.25]])"
      ]
     },
     "execution_count": 106,
     "metadata": {},
     "output_type": "execute_result"
    }
   ],
   "source": [
    "convolved"
   ]
  },
  {
   "cell_type": "code",
   "execution_count": null,
   "id": "ef16cc50",
   "metadata": {},
   "outputs": [],
   "source": []
  }
 ],
 "metadata": {
  "kernelspec": {
   "display_name": "Python 3 (ipykernel)",
   "language": "python",
   "name": "python3"
  },
  "language_info": {
   "codemirror_mode": {
    "name": "ipython",
    "version": 3
   },
   "file_extension": ".py",
   "mimetype": "text/x-python",
   "name": "python",
   "nbconvert_exporter": "python",
   "pygments_lexer": "ipython3",
   "version": "3.9.5"
  }
 },
 "nbformat": 4,
 "nbformat_minor": 5
}
