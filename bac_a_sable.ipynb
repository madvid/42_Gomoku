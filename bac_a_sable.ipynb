{
 "cells": [
  {
   "cell_type": "code",
   "execution_count": null,
   "id": "9c2fd553",
   "metadata": {},
   "outputs": [],
   "source": [
    "from numpy.lib.stride_tricks import as_strided\n",
    "import numpy as np"
   ]
  },
  {
   "cell_type": "code",
   "execution_count": null,
   "id": "48058e05",
   "metadata": {},
   "outputs": [],
   "source": [
    "k_diags = np.array([0.25 * np.array([[-1, 0, 0, 0],\n",
    "                                    [0, 1, 0, 0],\n",
    "                                    [0, 0, 1, 0],\n",
    "                                    [0, 0, 0, -1]]),\n",
    "                    0.25 * np.array([[0, 0, 0, -1],\n",
    "                                    [0, 0, 1, 0],\n",
    "                                    [0, 1, 0, 0],\n",
    "                                    [-1, 0, 0, 0]])])\n",
    "\n",
    "k_lines = [0.25 * np.array([[-1, 1, 1, -1]]), 0.25 * np.array([[-1],[1],[1],[-1]])]"
   ]
  },
  {
   "cell_type": "code",
   "execution_count": null,
   "id": "b30ce420",
   "metadata": {},
   "outputs": [],
   "source": [
    "arr = np.zeros((10, 10))"
   ]
  },
  {
   "cell_type": "code",
   "execution_count": null,
   "id": "16fa8bca",
   "metadata": {},
   "outputs": [],
   "source": [
    "arr[1][2] = 1\n",
    "arr[2][2] = -1\n",
    "arr[3][2] = -1\n",
    "arr[4][2] = 1\n",
    "\n",
    "arr[5][5] = 1\n",
    "arr[5][6] = -1\n",
    "arr[5][7] = -1\n",
    "arr[5][8] = 1\n",
    "\n",
    "arr[6][0] = 1\n",
    "arr[7][1] = -1\n",
    "arr[8][2] = -1\n",
    "arr[9][3] = 1\n",
    "\n",
    "\n",
    "arr"
   ]
  },
  {
   "cell_type": "code",
   "execution_count": null,
   "id": "9ab0f097",
   "metadata": {},
   "outputs": [],
   "source": [
    "sub_shape = k_diags[0].shape\n",
    "print(sub_shape)"
   ]
  },
  {
   "cell_type": "code",
   "execution_count": null,
   "id": "b858ccf0",
   "metadata": {},
   "outputs": [],
   "source": [
    "view_shape = tuple(np.subtract(arr.shape, sub_shape) + 1) + sub_shape"
   ]
  },
  {
   "cell_type": "code",
   "execution_count": null,
   "id": "650ec965",
   "metadata": {},
   "outputs": [],
   "source": [
    "np.subtract(arr.shape, sub_shape) + 1"
   ]
  },
  {
   "cell_type": "code",
   "execution_count": null,
   "id": "0c216fd2",
   "metadata": {},
   "outputs": [],
   "source": [
    "view_shape"
   ]
  },
  {
   "cell_type": "code",
   "execution_count": null,
   "id": "d300fc60",
   "metadata": {},
   "outputs": [],
   "source": [
    "arr_view = as_strided(arr, view_shape, arr.strides * 2)"
   ]
  },
  {
   "cell_type": "code",
   "execution_count": null,
   "id": "a1cd23c0",
   "metadata": {},
   "outputs": [],
   "source": [
    "arr.strides * 2"
   ]
  },
  {
   "cell_type": "code",
   "execution_count": null,
   "id": "4dcff6a3",
   "metadata": {},
   "outputs": [],
   "source": [
    "arr_view"
   ]
  },
  {
   "cell_type": "code",
   "execution_count": null,
   "id": "02731f54",
   "metadata": {},
   "outputs": [],
   "source": [
    "arr_view = arr_view.reshape((-1,) + sub_shape)\n",
    "arr_view"
   ]
  },
  {
   "cell_type": "code",
   "execution_count": null,
   "id": "10158bc0",
   "metadata": {},
   "outputs": [],
   "source": [
    "res = np.multiply(arr_view, k_diags[0])"
   ]
  },
  {
   "cell_type": "code",
   "execution_count": null,
   "id": "6b791226",
   "metadata": {},
   "outputs": [],
   "source": [
    "res"
   ]
  },
  {
   "cell_type": "code",
   "execution_count": null,
   "id": "01875207",
   "metadata": {},
   "outputs": [],
   "source": [
    "res.shape"
   ]
  },
  {
   "cell_type": "code",
   "execution_count": null,
   "id": "74d20c8c",
   "metadata": {},
   "outputs": [],
   "source": [
    "np.einsum('ijk->i', res)"
   ]
  },
  {
   "cell_type": "code",
   "execution_count": null,
   "id": "6e987082",
   "metadata": {},
   "outputs": [],
   "source": [
    "arr_test = np.zeros((10,10))"
   ]
  },
  {
   "cell_type": "code",
   "execution_count": null,
   "id": "24f4b265",
   "metadata": {},
   "outputs": [],
   "source": [
    "arr_test[2][8] = 2"
   ]
  },
  {
   "cell_type": "code",
   "execution_count": null,
   "id": "c4038e7a",
   "metadata": {},
   "outputs": [],
   "source": [
    "arr_res = np.argwhere(arr_test > 3)"
   ]
  },
  {
   "cell_type": "code",
   "execution_count": null,
   "id": "4f0fd1d3",
   "metadata": {},
   "outputs": [],
   "source": [
    "arr_res.shape[0] == 0"
   ]
  },
  {
   "cell_type": "code",
   "execution_count": null,
   "id": "ebc2bb80",
   "metadata": {},
   "outputs": [],
   "source": [
    "arr_res[0]"
   ]
  },
  {
   "cell_type": "code",
   "execution_count": null,
   "id": "55898881",
   "metadata": {},
   "outputs": [],
   "source": [
    "-1 * 0.25 * np.array([-1, 1, 1, -1])"
   ]
  },
  {
   "cell_type": "code",
   "execution_count": null,
   "id": "89478b56",
   "metadata": {},
   "outputs": [],
   "source": [
    "k_vertical = 0.25 * np.array([[-1], [1], [1], [-1]])\n",
    "k_horizontal = 0.25 * np.array([[-1], [1], [1], [-1]])"
   ]
  },
  {
   "cell_type": "code",
   "execution_count": null,
   "id": "db252a1c",
   "metadata": {},
   "outputs": [],
   "source": [
    "arr_test[0][1] = 1\n",
    "arr_test[1][1] = -1\n",
    "arr_test[2][1] = -1\n",
    "arr_test[3][1] = 1\n",
    "arr_test"
   ]
  },
  {
   "cell_type": "code",
   "execution_count": null,
   "id": "d3386aa6",
   "metadata": {},
   "outputs": [],
   "source": [
    "k_diags = np.array([0.25 * np.array([[-1, 0, 0, 0],\n",
    "                                    [0, 1, 0, 0],\n",
    "                                    [0, 0, 1, 0],\n",
    "                                    [0, 0, 0, -1]]),\n",
    "                    0.25 * np.array([[0, 0, 0, -1],\n",
    "                                    [0, 0, 1, 0],\n",
    "                                    [0, 1, 0, 0],\n",
    "                                    [-1, 0, 0, 0]])])\n",
    "\n",
    "k_lines = [0.25 * np.array([[-1, 1, 1, -1]]), 0.25 * np.array([[-1],[1],[1],[-1]])]\n",
    "\n",
    "def _subboard_4_Conv2D(grid, k_shape:tuple, stride:tuple) -> np.array:\n",
    "    \"\"\" Generates the sub view of the grid to be multiply with the kernel.\n",
    "    First the shape of the sub_grid array is calculated, it depends on\n",
    "    the grid shape and the kernel shape.\n",
    "    The sub_grid array shape will be (n_x, n_y, k_x, k_y) with:\n",
    "        * n_x: number of application of the kernel along row (with stride of 1)\n",
    "        * n_y: number of application of the kernel along column (with stride of 1)\n",
    "        * k_x, k_y: the shape of the kernel\n",
    "    In this way sub_grid is a numpy array of n_x/n_y rows/columns of (k_x x k_y)\n",
    "    sub view of the grid.\n",
    "    Args:\n",
    "    -----\n",
    "        k_shape ([tuple[int]]): shape of the kernel\n",
    "        stride ([tuple(int)]): put self.grid.strides * 2 (but why?)\n",
    "    \"\"\"\n",
    "    view_shape = tuple(np.subtract(grid.shape, k_shape) + 1) + k_shape\n",
    "    sub_grid = as_strided(grid, view_shape, stride * 2)\n",
    "    return sub_grid\n",
    "\n",
    "\n",
    "def _my_conv2D(grid, kernel:np.array) -> np.array:\n",
    "    \"\"\" Retrieves the sub_grid from the function _subboard_4_Conv2D and performs\n",
    "    the convolution (array multiplication + einstein sum along the 3rd and 4th\n",
    "    dimensions).\n",
    "    Args:\n",
    "    -----\n",
    "        * kernel ([np.array]): the kernel to use for convolution.\n",
    "    \"\"\"\n",
    "    sub_grid = _subboard_4_Conv2D(grid, k_shape=kernel.shape, stride=grid.strides)\n",
    "    res_conv = np.multiply(sub_grid, kernel)\n",
    "    convolved = np.einsum('ijkl->kl', res_conv)\n",
    "    return convolved.astype('int8')\n",
    "\n",
    "\n",
    "def check_board(grid):\n",
    "    \"\"\"[summary]\n",
    "    \"\"\"\n",
    "    ## Checking if white pair captured\n",
    "    # Checking the diagonal:\n",
    "    conv_diag1 = _my_conv2D(k_diags[0])\n",
    "    conv_diag2 = _my_conv2D(k_diags[1])\n",
    "    # Checking vertical and horizontal\n",
    "    conv_lin1 = _my_conv2D(k_lines[0])\n",
    "    conv_lin2 = _my_conv2D(k_lines[1])\n",
    "    \n",
    "    coord_cd1 = np.argwhere(conv_diag1 == 1)\n",
    "    coord_cd2 = np.argwhere(conv_diag2 == 1)\n",
    "    coord_cl1 = np.argwhere(conv_lin1 == 1)\n",
    "    coord_cl2 = np.argwhere(conv_lin2 == 1)\n",
    "    if coord_cd1.shape[0] != 0:\n",
    "        for coord in coord_cd1:\n",
    "            print(\"[check_board] - conv_diag1\")\n",
    "            grid[coord[0] + 1][coord[1] + 1] = 0\n",
    "            grid[coord[0] + 2][coord[1] + 2] = 0\n",
    "    if coord_cd2.shape[0] != 0:\n",
    "        for coord in coord_cd2:\n",
    "            print(\"[check_board] - conv_diag2\")\n",
    "            grid[coord[0] + 1][coord[1] + 2] = 0\n",
    "            grid[coord[0] + 2][coord[1] + 1] = 0\n",
    "    if coord_cl1.shape[0] != 0:\n",
    "        for coord in coord_cl1:\n",
    "            print(\"[check_board] - conv_lin1\")\n",
    "            grid[coord[0]][coord[1] + 1] = 0\n",
    "            grid[coord[0]][coord[1] + 2] = 0\n",
    "    if coord_cl2.shape[0] != 0:\n",
    "        for coord in coord_cl2:\n",
    "            print(\"[check_board] - conv_lin2\")\n",
    "            grid[coord[0] + 1][coord[1]] = 0\n",
    "            grid[coord[0] + 2][coord[1]] = 0\n",
    "    ## Checking if black pair captured\n",
    "    # Checking the diagonal:\n",
    "    conv_diag1 = _my_conv2D(-1 * k_diags[0])\n",
    "    conv_diag2 = _my_conv2D(-1 * k_diags[1])\n",
    "    # Checking vertical and horizontal\n",
    "    conv_lin1 = _my_conv2D(-1 * k_lines[0])\n",
    "    conv_lin2 = _my_conv2D(-1 * k_lines[1])\n",
    "    print(\"<<<== CONV_LIN1 ==>>>\")\n",
    "    print(conv_lin1)\n",
    "    print(\"<<<== CONV_LIN2 ==>>>\")\n",
    "    print(conv_lin2)\n",
    "    print(\"<<<== ========= ==>>>\")\n",
    "    coord_cd1 = np.argwhere(conv_diag1 == 1)\n",
    "    coord_cd2 = np.argwhere(conv_diag2 == 1)\n",
    "    coord_cl1 = np.argwhere(conv_lin1 == 1)\n",
    "    coord_cl2 = np.argwhere(conv_lin2 == 1)\n",
    "    if coord_cd1.shape[0] != 0:\n",
    "        for coord in coord_cd1:\n",
    "            print(\"[check_board] - conv_diag1 -1\")\n",
    "            grid[coord[0] + 1][coord[1] + 1] = 0\n",
    "            grid[coord[0] + 2][coord[1] + 2] = 0\n",
    "    if coord_cd2.shape[0] != 0:\n",
    "        for coord in coord_cd2:\n",
    "            print(\"[check_board] - conv_diag2 -1\")\n",
    "            grid[coord[0] + 1][coord[1] + 2] = 0\n",
    "            grid[coord[0] + 2][coord[1] + 1] = 0\n",
    "    if coord_cl1.shape[0] != 0:\n",
    "        for coord in coord_cl1:\n",
    "            print(\"[check_board] - conv_lin1 -1\")\n",
    "            grid[coord[0]][coord[1] + 1] = 0\n",
    "            grid[coord[0]][coord[1] + 2] = 0\n",
    "    if coord_cl2.shape[0] != 0:\n",
    "        for coord in coord_cl2:\n",
    "            print(\"[check_board] - conv_lin2 -1\")\n",
    "            grid[coord[0] + 1][coord[1]] = 0\n",
    "            grid[coord[0] + 2][coord[1]] = 0"
   ]
  },
  {
   "cell_type": "code",
   "execution_count": null,
   "id": "56c50eb1",
   "metadata": {},
   "outputs": [],
   "source": [
    "_subboard_4_Conv2D(arr_test, k_vertical, arr_test.strides)"
   ]
  },
  {
   "cell_type": "code",
   "execution_count": null,
   "id": "85e33568",
   "metadata": {},
   "outputs": [],
   "source": [
    "view_shape = tuple(np.subtract(arr_test.shape, k_vertical.shape) + 1) + k_vertical.shape"
   ]
  },
  {
   "cell_type": "code",
   "execution_count": null,
   "id": "7e16ac2e",
   "metadata": {},
   "outputs": [],
   "source": [
    "view_shape"
   ]
  },
  {
   "cell_type": "code",
   "execution_count": null,
   "id": "930b2990",
   "metadata": {},
   "outputs": [],
   "source": [
    "sub_grid = as_strided(arr_test, view_shape, arr_test.strides * 2)\n"
   ]
  },
  {
   "cell_type": "code",
   "execution_count": null,
   "id": "c92f3099",
   "metadata": {},
   "outputs": [],
   "source": [
    "sub_grid"
   ]
  },
  {
   "cell_type": "code",
   "execution_count": null,
   "id": "b0ef557c",
   "metadata": {},
   "outputs": [],
   "source": [
    "res_conv = np.multiply(sub_grid, k_vertical)\n"
   ]
  },
  {
   "cell_type": "code",
   "execution_count": null,
   "id": "846c71cf",
   "metadata": {},
   "outputs": [],
   "source": [
    "res_conv"
   ]
  },
  {
   "cell_type": "code",
   "execution_count": null,
   "id": "8e755c09",
   "metadata": {},
   "outputs": [],
   "source": [
    "convolved = np.einsum('ijkl->kl', res_conv)"
   ]
  },
  {
   "cell_type": "code",
   "execution_count": null,
   "id": "0e79e9e1",
   "metadata": {},
   "outputs": [],
   "source": [
    "convolved"
   ]
  },
  {
   "cell_type": "code",
   "execution_count": null,
   "id": "ef16cc50",
   "metadata": {},
   "outputs": [],
   "source": []
  }
 ],
 "metadata": {
  "kernelspec": {
   "display_name": "Python 3 (ipykernel)",
   "language": "python",
   "name": "python3"
  },
  "language_info": {
   "codemirror_mode": {
    "name": "ipython",
    "version": 3
   },
   "file_extension": ".py",
   "mimetype": "text/x-python",
   "name": "python",
   "nbconvert_exporter": "python",
   "pygments_lexer": "ipython3",
   "version": "3.9.5"
  }
 },
 "nbformat": 4,
 "nbformat_minor": 5
}
