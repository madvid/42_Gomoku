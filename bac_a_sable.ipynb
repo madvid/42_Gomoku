{
 "cells": [
  {
   "cell_type": "code",
   "execution_count": 1,
   "id": "9c2fd553",
   "metadata": {},
   "outputs": [],
   "source": [
    "from numpy.lib.stride_tricks import as_strided\n",
    "import numpy as np"
   ]
  },
  {
   "cell_type": "code",
   "execution_count": null,
   "id": "48058e05",
   "metadata": {},
   "outputs": [],
   "source": [
    "k_diags = np.array([0.25 * np.array([[-1, 0, 0, 0],\n",
    "                                    [0, 1, 0, 0],\n",
    "                                    [0, 0, 1, 0],\n",
    "                                    [0, 0, 0, -1]]),\n",
    "                    0.25 * np.array([[0, 0, 0, -1],\n",
    "                                    [0, 0, 1, 0],\n",
    "                                    [0, 1, 0, 0],\n",
    "                                    [-1, 0, 0, 0]])])\n",
    "\n",
    "k_lines = [0.25 * np.array([[-1, 1, 1, -1]]), 0.25 * np.array([[-1],[1],[1],[-1]])]"
   ]
  },
  {
   "cell_type": "code",
   "execution_count": null,
   "id": "b30ce420",
   "metadata": {},
   "outputs": [],
   "source": [
    "arr = np.zeros((10, 10))"
   ]
  },
  {
   "cell_type": "code",
   "execution_count": null,
   "id": "16fa8bca",
   "metadata": {},
   "outputs": [],
   "source": [
    "arr[1][2] = 1\n",
    "arr[2][2] = -1\n",
    "arr[3][2] = -1\n",
    "arr[4][2] = 1\n",
    "\n",
    "arr[5][5] = 1\n",
    "arr[5][6] = -1\n",
    "arr[5][7] = -1\n",
    "arr[5][8] = 1\n",
    "\n",
    "arr[6][0] = 1\n",
    "arr[7][1] = -1\n",
    "arr[8][2] = -1\n",
    "arr[9][3] = 1\n",
    "\n",
    "\n",
    "arr"
   ]
  },
  {
   "cell_type": "code",
   "execution_count": null,
   "id": "9ab0f097",
   "metadata": {},
   "outputs": [],
   "source": [
    "sub_shape = k_diags[0].shape\n",
    "print(sub_shape)"
   ]
  },
  {
   "cell_type": "code",
   "execution_count": null,
   "id": "b858ccf0",
   "metadata": {},
   "outputs": [],
   "source": [
    "view_shape = tuple(np.subtract(arr.shape, sub_shape) + 1) + sub_shape"
   ]
  },
  {
   "cell_type": "code",
   "execution_count": null,
   "id": "650ec965",
   "metadata": {},
   "outputs": [],
   "source": [
    "np.subtract(arr.shape, sub_shape) + 1"
   ]
  },
  {
   "cell_type": "code",
   "execution_count": null,
   "id": "0c216fd2",
   "metadata": {},
   "outputs": [],
   "source": [
    "view_shape"
   ]
  },
  {
   "cell_type": "code",
   "execution_count": null,
   "id": "d300fc60",
   "metadata": {},
   "outputs": [],
   "source": [
    "arr_view = as_strided(arr, view_shape, arr.strides * 2)"
   ]
  },
  {
   "cell_type": "code",
   "execution_count": null,
   "id": "a1cd23c0",
   "metadata": {},
   "outputs": [],
   "source": [
    "arr.strides * 2"
   ]
  },
  {
   "cell_type": "code",
   "execution_count": null,
   "id": "4dcff6a3",
   "metadata": {},
   "outputs": [],
   "source": [
    "arr_view"
   ]
  },
  {
   "cell_type": "code",
   "execution_count": null,
   "id": "02731f54",
   "metadata": {},
   "outputs": [],
   "source": [
    "arr_view = arr_view.reshape((-1,) + sub_shape)\n",
    "arr_view"
   ]
  },
  {
   "cell_type": "code",
   "execution_count": null,
   "id": "10158bc0",
   "metadata": {},
   "outputs": [],
   "source": [
    "res = np.multiply(arr_view, k_diags[0])"
   ]
  },
  {
   "cell_type": "code",
   "execution_count": null,
   "id": "6b791226",
   "metadata": {},
   "outputs": [],
   "source": [
    "res"
   ]
  },
  {
   "cell_type": "code",
   "execution_count": null,
   "id": "01875207",
   "metadata": {},
   "outputs": [],
   "source": [
    "res.shape"
   ]
  },
  {
   "cell_type": "code",
   "execution_count": null,
   "id": "74d20c8c",
   "metadata": {},
   "outputs": [],
   "source": [
    "np.einsum('ijk->i', res)"
   ]
  },
  {
   "cell_type": "code",
   "execution_count": 4,
   "id": "6e987082",
   "metadata": {},
   "outputs": [],
   "source": [
    "arr_test = np.zeros((10,10))"
   ]
  },
  {
   "cell_type": "code",
   "execution_count": 5,
   "id": "24f4b265",
   "metadata": {},
   "outputs": [],
   "source": [
    "arr_test[2][8] = 2"
   ]
  },
  {
   "cell_type": "code",
   "execution_count": 6,
   "id": "c4038e7a",
   "metadata": {},
   "outputs": [],
   "source": [
    "arr_res = np.argwhere(arr_test > 3)"
   ]
  },
  {
   "cell_type": "code",
   "execution_count": 7,
   "id": "4f0fd1d3",
   "metadata": {},
   "outputs": [
    {
     "data": {
      "text/plain": [
       "True"
      ]
     },
     "execution_count": 7,
     "metadata": {},
     "output_type": "execute_result"
    }
   ],
   "source": [
    "arr_res.shape[0] == 0"
   ]
  },
  {
   "cell_type": "code",
   "execution_count": 8,
   "id": "ebc2bb80",
   "metadata": {},
   "outputs": [
    {
     "ename": "IndexError",
     "evalue": "index 0 is out of bounds for axis 0 with size 0",
     "output_type": "error",
     "traceback": [
      "\u001b[0;31m---------------------------------------------------------------------------\u001b[0m",
      "\u001b[0;31mIndexError\u001b[0m                                Traceback (most recent call last)",
      "\u001b[0;32m/var/folders/zz/zyxvpxvq6csfxvn_n0003tb8000ykt/T/ipykernel_12544/3667119010.py\u001b[0m in \u001b[0;36m<module>\u001b[0;34m\u001b[0m\n\u001b[0;32m----> 1\u001b[0;31m \u001b[0marr_res\u001b[0m\u001b[0;34m[\u001b[0m\u001b[0;36m0\u001b[0m\u001b[0;34m]\u001b[0m\u001b[0;34m\u001b[0m\u001b[0;34m\u001b[0m\u001b[0m\n\u001b[0m",
      "\u001b[0;31mIndexError\u001b[0m: index 0 is out of bounds for axis 0 with size 0"
     ]
    }
   ],
   "source": [
    "arr_res[0]"
   ]
  },
  {
   "cell_type": "code",
   "execution_count": 9,
   "id": "55898881",
   "metadata": {},
   "outputs": [
    {
     "data": {
      "text/plain": [
       "array([ 0.25, -0.25, -0.25,  0.25])"
      ]
     },
     "execution_count": 9,
     "metadata": {},
     "output_type": "execute_result"
    }
   ],
   "source": [
    "-1 * 0.25 * np.array([-1, 1, 1, -1])"
   ]
  },
  {
   "cell_type": "code",
   "execution_count": 10,
   "id": "89478b56",
   "metadata": {},
   "outputs": [],
   "source": [
    "k_vertical = 0.25 * np.array([[-1], [1], [1], [-1]])\n",
    "k_horizontal = 0.25 * np.array([[-1], [1], [1], [-1]])"
   ]
  },
  {
   "cell_type": "code",
   "execution_count": 11,
   "id": "db252a1c",
   "metadata": {},
   "outputs": [
    {
     "data": {
      "text/plain": [
       "array([[ 0.,  1.,  0.,  0.,  0.,  0.,  0.,  0.,  0.,  0.],\n",
       "       [ 0., -1.,  0.,  0.,  0.,  0.,  0.,  0.,  0.,  0.],\n",
       "       [ 0., -1.,  0.,  0.,  0.,  0.,  0.,  0.,  2.,  0.],\n",
       "       [ 0.,  1.,  0.,  0.,  0.,  0.,  0.,  0.,  0.,  0.],\n",
       "       [ 0.,  0.,  0.,  0.,  0.,  0.,  0.,  0.,  0.,  0.],\n",
       "       [ 0.,  0.,  0.,  0.,  0.,  0.,  0.,  0.,  0.,  0.],\n",
       "       [ 0.,  0.,  0.,  0.,  0.,  0.,  0.,  0.,  0.,  0.],\n",
       "       [ 0.,  0.,  0.,  0.,  0.,  0.,  0.,  0.,  0.,  0.],\n",
       "       [ 0.,  0.,  0.,  0.,  0.,  0.,  0.,  0.,  0.,  0.],\n",
       "       [ 0.,  0.,  0.,  0.,  0.,  0.,  0.,  0.,  0.,  0.]])"
      ]
     },
     "execution_count": 11,
     "metadata": {},
     "output_type": "execute_result"
    }
   ],
   "source": [
    "arr_test[0][1] = 1\n",
    "arr_test[1][1] = -1\n",
    "arr_test[2][1] = -1\n",
    "arr_test[3][1] = 1\n",
    "arr_test"
   ]
  },
  {
   "cell_type": "code",
   "execution_count": 2,
   "id": "d3386aa6",
   "metadata": {},
   "outputs": [],
   "source": [
    "k_diags = np.array([0.25 * np.array([[-1, 0, 0, 0],\n",
    "                                    [0, 1, 0, 0],\n",
    "                                    [0, 0, 1, 0],\n",
    "                                    [0, 0, 0, -1]]),\n",
    "                    0.25 * np.array([[0, 0, 0, -1],\n",
    "                                    [0, 0, 1, 0],\n",
    "                                    [0, 1, 0, 0],\n",
    "                                    [-1, 0, 0, 0]])])\n",
    "\n",
    "k_lines = [0.25 * np.array([[-1, 1, 1, -1]]), 0.25 * np.array([[-1],[1],[1],[-1]])]\n",
    "\n",
    "def _subboard_4_Conv2D(grid, k_shape:tuple, stride:tuple) -> np.array:\n",
    "    \"\"\" Generates the sub view of the grid to be multiply with the kernel.\n",
    "    First the shape of the sub_grid array is calculated, it depends on\n",
    "    the grid shape and the kernel shape.\n",
    "    The sub_grid array shape will be (n_x, n_y, k_x, k_y) with:\n",
    "        * n_x: number of application of the kernel along row (with stride of 1)\n",
    "        * n_y: number of application of the kernel along column (with stride of 1)\n",
    "        * k_x, k_y: the shape of the kernel\n",
    "    In this way sub_grid is a numpy array of n_x/n_y rows/columns of (k_x x k_y)\n",
    "    sub view of the grid.\n",
    "    Args:\n",
    "    -----\n",
    "        k_shape ([tuple[int]]): shape of the kernel\n",
    "        stride ([tuple(int)]): put self.grid.strides * 2 (but why?)\n",
    "    \"\"\"\n",
    "    view_shape = tuple(np.subtract(grid.shape, k_shape) + 1) + k_shape\n",
    "    sub_grid = as_strided(grid, view_shape, stride * 2)\n",
    "    return sub_grid\n",
    "\n",
    "\n",
    "def _my_conv2D(grid, kernel:np.array) -> np.array:\n",
    "    \"\"\" Retrieves the sub_grid from the function _subboard_4_Conv2D and performs\n",
    "    the convolution (array multiplication + einstein sum along the 3rd and 4th\n",
    "    dimensions).\n",
    "    Args:\n",
    "    -----\n",
    "        * kernel ([np.array]): the kernel to use for convolution.\n",
    "    \"\"\"\n",
    "    sub_grid = _subboard_4_Conv2D(grid, k_shape=kernel.shape, stride=grid.strides)\n",
    "    res_conv = np.multiply(sub_grid, kernel)\n",
    "    convolved = np.einsum('ijkl->ij', res_conv)\n",
    "    return convolved.astype('int8')\n",
    "\n",
    "\n",
    "def check_board(grid):\n",
    "    \"\"\"[summary]\n",
    "    \"\"\"\n",
    "    ## Checking if white pair captured\n",
    "    # Checking the diagonal:\n",
    "    conv_diag1 = _my_conv2D(k_diags[0])\n",
    "    conv_diag2 = _my_conv2D(k_diags[1])\n",
    "    # Checking vertical and horizontal\n",
    "    conv_lin1 = _my_conv2D(k_lines[0])\n",
    "    conv_lin2 = _my_conv2D(k_lines[1])\n",
    "    \n",
    "    coord_cd1 = np.argwhere(conv_diag1 == 1)\n",
    "    coord_cd2 = np.argwhere(conv_diag2 == 1)\n",
    "    coord_cl1 = np.argwhere(conv_lin1 == 1)\n",
    "    coord_cl2 = np.argwhere(conv_lin2 == 1)\n",
    "    if coord_cd1.shape[0] != 0:\n",
    "        for coord in coord_cd1:\n",
    "            print(\"[check_board] - conv_diag1\")\n",
    "            grid[coord[0] + 1][coord[1] + 1] = 0\n",
    "            grid[coord[0] + 2][coord[1] + 2] = 0\n",
    "    if coord_cd2.shape[0] != 0:\n",
    "        for coord in coord_cd2:\n",
    "            print(\"[check_board] - conv_diag2\")\n",
    "            grid[coord[0] + 1][coord[1] + 2] = 0\n",
    "            grid[coord[0] + 2][coord[1] + 1] = 0\n",
    "    if coord_cl1.shape[0] != 0:\n",
    "        for coord in coord_cl1:\n",
    "            print(\"[check_board] - conv_lin1\")\n",
    "            grid[coord[0]][coord[1] + 1] = 0\n",
    "            grid[coord[0]][coord[1] + 2] = 0\n",
    "    if coord_cl2.shape[0] != 0:\n",
    "        for coord in coord_cl2:\n",
    "            print(\"[check_board] - conv_lin2\")\n",
    "            grid[coord[0] + 1][coord[1]] = 0\n",
    "            grid[coord[0] + 2][coord[1]] = 0\n",
    "    ## Checking if black pair captured\n",
    "    # Checking the diagonal:\n",
    "    conv_diag1 = _my_conv2D(-1 * k_diags[0])\n",
    "    conv_diag2 = _my_conv2D(-1 * k_diags[1])\n",
    "    # Checking vertical and horizontal\n",
    "    conv_lin1 = _my_conv2D(-1 * k_lines[0])\n",
    "    conv_lin2 = _my_conv2D(-1 * k_lines[1])\n",
    "    print(\"<<<== CONV_LIN1 ==>>>\")\n",
    "    print(conv_lin1)\n",
    "    print(\"<<<== CONV_LIN2 ==>>>\")\n",
    "    print(conv_lin2)\n",
    "    print(\"<<<== ========= ==>>>\")\n",
    "    coord_cd1 = np.argwhere(conv_diag1 == 1)\n",
    "    coord_cd2 = np.argwhere(conv_diag2 == 1)\n",
    "    coord_cl1 = np.argwhere(conv_lin1 == 1)\n",
    "    coord_cl2 = np.argwhere(conv_lin2 == 1)\n",
    "    if coord_cd1.shape[0] != 0:\n",
    "        for coord in coord_cd1:\n",
    "            print(\"[check_board] - conv_diag1 -1\")\n",
    "            grid[coord[0] + 1][coord[1] + 1] = 0\n",
    "            grid[coord[0] + 2][coord[1] + 2] = 0\n",
    "    if coord_cd2.shape[0] != 0:\n",
    "        for coord in coord_cd2:\n",
    "            print(\"[check_board] - conv_diag2 -1\")\n",
    "            grid[coord[0] + 1][coord[1] + 2] = 0\n",
    "            grid[coord[0] + 2][coord[1] + 1] = 0\n",
    "    if coord_cl1.shape[0] != 0:\n",
    "        for coord in coord_cl1:\n",
    "            print(\"[check_board] - conv_lin1 -1\")\n",
    "            grid[coord[0]][coord[1] + 1] = 0\n",
    "            grid[coord[0]][coord[1] + 2] = 0\n",
    "    if coord_cl2.shape[0] != 0:\n",
    "        for coord in coord_cl2:\n",
    "            print(\"[check_board] - conv_lin2 -1\")\n",
    "            grid[coord[0] + 1][coord[1]] = 0\n",
    "            grid[coord[0] + 2][coord[1]] = 0"
   ]
  },
  {
   "cell_type": "code",
   "execution_count": null,
   "id": "56c50eb1",
   "metadata": {},
   "outputs": [],
   "source": [
    "_subboard_4_Conv2D(arr_test, k_vertical, arr_test.strides)"
   ]
  },
  {
   "cell_type": "code",
   "execution_count": null,
   "id": "85e33568",
   "metadata": {},
   "outputs": [],
   "source": [
    "view_shape = tuple(np.subtract(arr_test.shape, k_vertical.shape) + 1) + k_vertical.shape"
   ]
  },
  {
   "cell_type": "code",
   "execution_count": null,
   "id": "7e16ac2e",
   "metadata": {},
   "outputs": [],
   "source": [
    "view_shape"
   ]
  },
  {
   "cell_type": "code",
   "execution_count": null,
   "id": "930b2990",
   "metadata": {},
   "outputs": [],
   "source": [
    "sub_grid = as_strided(arr_test, view_shape, arr_test.strides * 2)\n"
   ]
  },
  {
   "cell_type": "code",
   "execution_count": null,
   "id": "c92f3099",
   "metadata": {},
   "outputs": [],
   "source": [
    "sub_grid"
   ]
  },
  {
   "cell_type": "code",
   "execution_count": null,
   "id": "b0ef557c",
   "metadata": {},
   "outputs": [],
   "source": [
    "res_conv = np.multiply(sub_grid, k_vertical)\n"
   ]
  },
  {
   "cell_type": "code",
   "execution_count": null,
   "id": "846c71cf",
   "metadata": {},
   "outputs": [],
   "source": [
    "res_conv"
   ]
  },
  {
   "cell_type": "code",
   "execution_count": null,
   "id": "8e755c09",
   "metadata": {},
   "outputs": [],
   "source": [
    "convolved = np.einsum('ijkl->kl', res_conv)"
   ]
  },
  {
   "cell_type": "code",
   "execution_count": null,
   "id": "0e79e9e1",
   "metadata": {},
   "outputs": [],
   "source": [
    "convolved"
   ]
  },
  {
   "cell_type": "code",
   "execution_count": null,
   "id": "ef16cc50",
   "metadata": {},
   "outputs": [],
   "source": []
  },
  {
   "cell_type": "code",
   "execution_count": 90,
   "id": "77057f8c",
   "metadata": {},
   "outputs": [],
   "source": [
    "def issimplefreethree_position(yx, grid):\n",
    "    \"\"\"[summary]\n",
    "    Args:\n",
    "    yx ([type]): [description]\n",
    "    grid ([type]): [description]\n",
    "    Returns:\n",
    "    ___: [description]\n",
    "    \"\"\"\n",
    "    tmp = np.zeros((18,18))\n",
    "    tmp[4:-4, 4:-4] = grid + 1 \n",
    "    r_start, r_end = yx[0], yx[0] + 9\n",
    "    c_start, c_end = yx[1], yx[1] + 9\n",
    "    print(f\"r_start = {r_start} -- r_end = {r_end}\")\n",
    "    print(f\"c_start = {c_start} -- c_end = {c_end}\")\n",
    "    print(tmp[r_start:r_end, c_start:c_end])\n",
    "    res = [_my_conv2D(tmp[r_start:r_end, c_start:c_end], kernel) for kernel in k_free_threes]\n",
    "    if any([np.any(arr == 16) for arr in res]):\n",
    "        return True, res\n",
    "    return False, res\n",
    "            "
   ]
  },
  {
   "cell_type": "code",
   "execution_count": 278,
   "id": "41a6f444",
   "metadata": {},
   "outputs": [],
   "source": [
    "def isdoublefreethree_position(yx, grid) -> bool:\n",
    "    \"\"\"[summary]\n",
    "    Args:\n",
    "        yx ([type]): [description]\n",
    "        grid ([type]): [description]\n",
    "    Returns:\n",
    "        bool: [description]\n",
    "    \"\"\"\n",
    "    tmp = np.zeros((18,18))\n",
    "    tmp[4:-4, 4:-4] = grid + 1 \n",
    "    r_start, r_end = yx[0], yx[0] + 9\n",
    "    c_start, c_end = yx[1], yx[1] + 9\n",
    "    tmp[yx[0] + 4, yx[1] + 4] = 2\n",
    "            \n",
    "    print(tmp[r_start:r_end, c_start:c_end])\n",
    "    res = (_my_conv2D(tmp[r_start:r_end, c_start:c_end], kernel) for kernel in k_free_threes)\n",
    "    positions = (np.argwhere(arr >= 16) for arr in res)\n",
    "    positions = [pos for pos in positions if pos.shape[0] != 0]\n",
    "    if len(positions) > 0:\n",
    "        print(positions)\n",
    "        [print(pos.shape) for pos in positions]\n",
    "        coords = np.hstack(positions)\n",
    "        return True, res, positions\n",
    "    return False, res, positions"
   ]
  },
  {
   "cell_type": "code",
   "execution_count": 279,
   "id": "266a726c",
   "metadata": {},
   "outputs": [],
   "source": [
    "grid1 = np.zeros((10,10))\n",
    "grid2 = np.zeros((10,10))\n",
    "grid3 = np.zeros((10,10))\n",
    "grid4 = np.zeros((10,10))\n",
    "grid5 = np.zeros((10,10))\n",
    "grid6 = np.zeros((10,10))\n",
    "grid7 = np.zeros((10,10))\n",
    "grid8 = np.zeros((10,10))\n",
    "grid9 = np.zeros((10,10))\n",
    "grid10 = np.zeros((10,10))"
   ]
  },
  {
   "cell_type": "code",
   "execution_count": 280,
   "id": "a70fb7d7",
   "metadata": {},
   "outputs": [],
   "source": [
    "#k_free_threes = [np.ones((1,6)), np.ones((6,1)), np.identity(6), np.rot90(np.identity(6))]\n",
    "k_free_threes = [np.array([[1, 2, 2, 2, 2, 1]]),\n",
    "                 np.array([[1], [2], [2], [2], [2], [1]]),\n",
    "                 np.array([[1, 0, 0, 0, 0, 0],\n",
    "                           [0, 2, 0, 0, 0, 0],\n",
    "                           [0, 0, 2, 0, 0, 0],\n",
    "                           [0, 0, 0, 2, 0, 0],\n",
    "                           [0, 0, 0, 0, 2, 0],\n",
    "                           [0, 0, 0, 0, 0, 1]]),\n",
    "                 np.array([[0, 0, 0, 0, 0, 1],\n",
    "                           [0, 0, 0, 0, 2, 0],\n",
    "                           [0, 0, 0, 2, 0, 0],\n",
    "                           [0, 0, 2, 0, 0, 0],\n",
    "                           [0, 2, 0, 0, 0, 0],\n",
    "                           [1, 0, 0, 0, 0, 0]])]"
   ]
  },
  {
   "cell_type": "code",
   "execution_count": 281,
   "id": "e9c25a23",
   "metadata": {},
   "outputs": [],
   "source": [
    "grid1[0:3,2] = 1\n",
    "\n",
    "grid2[1:4,2] = 1\n",
    "\n",
    "grid3[5,0:3] = 1\n",
    "\n",
    "grid4[6,2:5] = 1\n",
    "\n",
    "grid5[2,2] = 1\n",
    "grid5[3,3] = 1\n",
    "grid5[4,4] = 1\n",
    "\n",
    "grid6[2][2] = 1\n",
    "grid6[4][4] = 1\n",
    "grid6[5][5] = 1\n",
    "\n",
    "grid7[2][2] = 1\n",
    "grid7[3][3] = 1\n",
    "grid7[5][5] = 1\n",
    "\n",
    "grid8[[6, 7, 8],[6, 7, 8]] = 1\n",
    "grid9[[2, 3, 5, 5], [2, 3, 6, 7]] = 1\n",
    "grid10[[1, 1, 1, 1],[1, 2, 5, 6]] = 1"
   ]
  },
  {
   "cell_type": "code",
   "execution_count": 282,
   "id": "cf18f062",
   "metadata": {},
   "outputs": [
    {
     "data": {
      "text/plain": [
       "array([[0., 0., 0., 0., 0., 0., 0., 0., 0., 0.],\n",
       "       [0., 0., 0., 0., 0., 0., 0., 0., 0., 0.],\n",
       "       [0., 0., 1., 0., 0., 0., 0., 0., 0., 0.],\n",
       "       [0., 0., 0., 1., 0., 0., 0., 0., 0., 0.],\n",
       "       [0., 0., 0., 0., 0., 0., 0., 0., 0., 0.],\n",
       "       [0., 0., 0., 0., 0., 0., 1., 1., 0., 0.],\n",
       "       [0., 0., 0., 0., 0., 0., 0., 0., 0., 0.],\n",
       "       [0., 0., 0., 0., 0., 0., 0., 0., 0., 0.],\n",
       "       [0., 0., 0., 0., 0., 0., 0., 0., 0., 0.],\n",
       "       [0., 0., 0., 0., 0., 0., 0., 0., 0., 0.]])"
      ]
     },
     "execution_count": 282,
     "metadata": {},
     "output_type": "execute_result"
    }
   ],
   "source": [
    "grid9"
   ]
  },
  {
   "cell_type": "code",
   "execution_count": 283,
   "id": "4380be0d",
   "metadata": {},
   "outputs": [
    {
     "name": "stdout",
     "output_type": "stream",
     "text": [
      "[[1. 1. 1. 1. 1. 1. 1. 1. 1.]\n",
      " [1. 2. 1. 1. 1. 1. 1. 1. 1.]\n",
      " [1. 1. 2. 1. 1. 1. 1. 1. 1.]\n",
      " [1. 1. 1. 1. 1. 1. 1. 1. 1.]\n",
      " [1. 1. 1. 1. 2. 2. 2. 1. 1.]\n",
      " [1. 1. 1. 1. 1. 1. 1. 1. 1.]\n",
      " [1. 1. 1. 1. 1. 1. 1. 1. 1.]\n",
      " [1. 1. 1. 1. 1. 1. 1. 1. 1.]\n",
      " [1. 1. 1. 1. 1. 1. 1. 1. 1.]]\n",
      "[array([[4, 2],\n",
      "       [4, 3]]), array([[0, 0]])]\n"
     ]
    },
    {
     "ename": "ValueError",
     "evalue": "all the input array dimensions for the concatenation axis must match exactly, but along dimension 0, the array at index 0 has size 2 and the array at index 1 has size 1",
     "output_type": "error",
     "traceback": [
      "\u001b[0;31m---------------------------------------------------------------------------\u001b[0m",
      "\u001b[0;31mValueError\u001b[0m                                Traceback (most recent call last)",
      "\u001b[0;32m/var/folders/zz/zyxvpxvq6csfxvn_n0003tb8000ykt/T/ipykernel_12544/1249308599.py\u001b[0m in \u001b[0;36m<module>\u001b[0;34m\u001b[0m\n\u001b[0;32m----> 1\u001b[0;31m \u001b[0mb\u001b[0m\u001b[0;34m,\u001b[0m \u001b[0mres\u001b[0m\u001b[0;34m,\u001b[0m \u001b[0mpositions\u001b[0m \u001b[0;34m=\u001b[0m \u001b[0misdoublefreethree_position\u001b[0m\u001b[0;34m(\u001b[0m\u001b[0;34m[\u001b[0m\u001b[0;36m5\u001b[0m\u001b[0;34m,\u001b[0m\u001b[0;36m5\u001b[0m\u001b[0;34m]\u001b[0m\u001b[0;34m,\u001b[0m \u001b[0mgrid9\u001b[0m\u001b[0;34m)\u001b[0m\u001b[0;34m\u001b[0m\u001b[0;34m\u001b[0m\u001b[0m\n\u001b[0m",
      "\u001b[0;32m/var/folders/zz/zyxvpxvq6csfxvn_n0003tb8000ykt/T/ipykernel_12544/512734436.py\u001b[0m in \u001b[0;36misdoublefreethree_position\u001b[0;34m(yx, grid)\u001b[0m\n\u001b[1;32m     19\u001b[0m     \u001b[0;32mif\u001b[0m \u001b[0mlen\u001b[0m\u001b[0;34m(\u001b[0m\u001b[0mpositions\u001b[0m\u001b[0;34m)\u001b[0m \u001b[0;34m>\u001b[0m \u001b[0;36m0\u001b[0m\u001b[0;34m:\u001b[0m\u001b[0;34m\u001b[0m\u001b[0;34m\u001b[0m\u001b[0m\n\u001b[1;32m     20\u001b[0m         \u001b[0mprint\u001b[0m\u001b[0;34m(\u001b[0m\u001b[0mpositions\u001b[0m\u001b[0;34m)\u001b[0m\u001b[0;34m\u001b[0m\u001b[0;34m\u001b[0m\u001b[0m\n\u001b[0;32m---> 21\u001b[0;31m         \u001b[0mcoords\u001b[0m \u001b[0;34m=\u001b[0m \u001b[0mnp\u001b[0m\u001b[0;34m.\u001b[0m\u001b[0mhstack\u001b[0m\u001b[0;34m(\u001b[0m\u001b[0mpositions\u001b[0m\u001b[0;34m)\u001b[0m\u001b[0;34m\u001b[0m\u001b[0;34m\u001b[0m\u001b[0m\n\u001b[0m\u001b[1;32m     22\u001b[0m         \u001b[0;32mreturn\u001b[0m \u001b[0;32mTrue\u001b[0m\u001b[0;34m,\u001b[0m \u001b[0mres\u001b[0m\u001b[0;34m,\u001b[0m \u001b[0mpositions\u001b[0m\u001b[0;34m\u001b[0m\u001b[0;34m\u001b[0m\u001b[0m\n\u001b[1;32m     23\u001b[0m     \u001b[0;32mreturn\u001b[0m \u001b[0;32mFalse\u001b[0m\u001b[0;34m,\u001b[0m \u001b[0mres\u001b[0m\u001b[0;34m,\u001b[0m \u001b[0mpositions\u001b[0m\u001b[0;34m\u001b[0m\u001b[0;34m\u001b[0m\u001b[0m\n",
      "\u001b[0;32m<__array_function__ internals>\u001b[0m in \u001b[0;36mhstack\u001b[0;34m(*args, **kwargs)\u001b[0m\n",
      "\u001b[0;32m/sgoinfre/goinfre/Perso/mdavid/miniconda3/lib/python3.9/site-packages/numpy/core/shape_base.py\u001b[0m in \u001b[0;36mhstack\u001b[0;34m(tup)\u001b[0m\n\u001b[1;32m    343\u001b[0m         \u001b[0;32mreturn\u001b[0m \u001b[0m_nx\u001b[0m\u001b[0;34m.\u001b[0m\u001b[0mconcatenate\u001b[0m\u001b[0;34m(\u001b[0m\u001b[0marrs\u001b[0m\u001b[0;34m,\u001b[0m \u001b[0;36m0\u001b[0m\u001b[0;34m)\u001b[0m\u001b[0;34m\u001b[0m\u001b[0;34m\u001b[0m\u001b[0m\n\u001b[1;32m    344\u001b[0m     \u001b[0;32melse\u001b[0m\u001b[0;34m:\u001b[0m\u001b[0;34m\u001b[0m\u001b[0;34m\u001b[0m\u001b[0m\n\u001b[0;32m--> 345\u001b[0;31m         \u001b[0;32mreturn\u001b[0m \u001b[0m_nx\u001b[0m\u001b[0;34m.\u001b[0m\u001b[0mconcatenate\u001b[0m\u001b[0;34m(\u001b[0m\u001b[0marrs\u001b[0m\u001b[0;34m,\u001b[0m \u001b[0;36m1\u001b[0m\u001b[0;34m)\u001b[0m\u001b[0;34m\u001b[0m\u001b[0;34m\u001b[0m\u001b[0m\n\u001b[0m\u001b[1;32m    346\u001b[0m \u001b[0;34m\u001b[0m\u001b[0m\n\u001b[1;32m    347\u001b[0m \u001b[0;34m\u001b[0m\u001b[0m\n",
      "\u001b[0;32m<__array_function__ internals>\u001b[0m in \u001b[0;36mconcatenate\u001b[0;34m(*args, **kwargs)\u001b[0m\n",
      "\u001b[0;31mValueError\u001b[0m: all the input array dimensions for the concatenation axis must match exactly, but along dimension 0, the array at index 0 has size 2 and the array at index 1 has size 1"
     ]
    }
   ],
   "source": [
    "b, res, positions = isdoublefreethree_position([5,5], grid9)"
   ]
  },
  {
   "cell_type": "code",
   "execution_count": 263,
   "id": "40bf27fa",
   "metadata": {},
   "outputs": [
    {
     "data": {
      "text/plain": [
       "[array([[ 9,  7,  5,  3],\n",
       "        [11,  8,  5,  3],\n",
       "        [11,  9,  6,  3],\n",
       "        [11,  9,  7,  4],\n",
       "        [11,  9,  7,  5],\n",
       "        [ 0,  0,  0,  0],\n",
       "        [ 0,  0,  0,  0],\n",
       "        [ 0,  0,  0,  0],\n",
       "        [ 0,  0,  0,  0]], dtype=int8),\n",
       " array([[ 9, 11, 11, 11, 11,  0,  0,  0,  0],\n",
       "        [ 7,  8,  9,  9,  9,  0,  0,  0,  0],\n",
       "        [ 5,  5,  6,  7,  7,  0,  0,  0,  0],\n",
       "        [ 3,  3,  3,  4,  5,  0,  0,  0,  0]], dtype=int8),\n",
       " array([[17,  7,  5,  3],\n",
       "        [ 7, 14,  5,  3],\n",
       "        [ 5,  5, 10,  3],\n",
       "        [ 3,  3,  3,  6]], dtype=int8),\n",
       " array([[8, 8, 4, 4],\n",
       "        [8, 4, 4, 0],\n",
       "        [4, 4, 0, 0],\n",
       "        [4, 0, 0, 0]], dtype=int8)]"
      ]
     },
     "execution_count": 263,
     "metadata": {},
     "output_type": "execute_result"
    }
   ],
   "source": [
    "res"
   ]
  },
  {
   "cell_type": "code",
   "execution_count": 185,
   "id": "4621bb71",
   "metadata": {},
   "outputs": [],
   "source": [
    "test = np.array([[]])\n"
   ]
  },
  {
   "cell_type": "code",
   "execution_count": 187,
   "id": "0b689277",
   "metadata": {},
   "outputs": [
    {
     "data": {
      "text/plain": [
       "(3, 2)"
      ]
     },
     "execution_count": 187,
     "metadata": {},
     "output_type": "execute_result"
    }
   ],
   "source": [
    "np.vstack((res)).shape"
   ]
  },
  {
   "cell_type": "code",
   "execution_count": 29,
   "id": "4a3de7af",
   "metadata": {},
   "outputs": [
    {
     "data": {
      "text/plain": [
       "array([[ 5,  7,  9],\n",
       "       [ 5,  7,  9],\n",
       "       [ 5,  7,  9],\n",
       "       [ 5,  7,  9],\n",
       "       [ 6, 10, 14],\n",
       "       [ 5,  7,  9],\n",
       "       [ 5,  7,  9],\n",
       "       [ 5,  7,  9]], dtype=int8)"
      ]
     },
     "execution_count": 29,
     "metadata": {},
     "output_type": "execute_result"
    }
   ],
   "source": [
    "yx =[6,1]\n",
    "tmp = np.zeros((18,18))\n",
    "tmp[4:-4, 4:-4] = grid4 + 1 \n",
    "r_start, r_end = yx[0], yx[0] + 8\n",
    "c_start, c_end = yx[1], yx[1] + 8\n",
    "_my_conv2D(tmp[r_start:r_end, c_start:c_end], k_free_threes[0])"
   ]
  },
  {
   "cell_type": "code",
   "execution_count": 30,
   "id": "862e83a9",
   "metadata": {},
   "outputs": [
    {
     "data": {
      "text/plain": [
       "array([[1, 2, 2, 2, 2, 1]])"
      ]
     },
     "execution_count": 30,
     "metadata": {},
     "output_type": "execute_result"
    }
   ],
   "source": [
    "k_free_threes[0]"
   ]
  },
  {
   "cell_type": "code",
   "execution_count": null,
   "id": "e5ffe996",
   "metadata": {},
   "outputs": [],
   "source": []
  }
 ],
 "metadata": {
  "kernelspec": {
   "display_name": "Python 3",
   "language": "python",
   "name": "python3"
  },
  "language_info": {
   "codemirror_mode": {
    "name": "ipython",
    "version": 3
   },
   "file_extension": ".py",
   "mimetype": "text/x-python",
   "name": "python",
   "nbconvert_exporter": "python",
   "pygments_lexer": "ipython3",
   "version": "3.9.5"
  }
 },
 "nbformat": 4,
 "nbformat_minor": 5
}
